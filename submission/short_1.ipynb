{
 "cells": [
  {
   "cell_type": "markdown",
   "metadata": {},
   "source": [
    "<div\n",
    "  style=\"\n",
    "    display: flex;\n",
    "    justify-content: center;\n",
    "    flex-direction: column;\n",
    "    align-items: center;\n",
    "  \"\n",
    ">\n",
    "<div style=\"width: 400px; padding: 20px; background: #111; border: 1px solid #333; color: #eee\">\n",
    "  <p style=\"opacity: 0.5; margin-bottom: -10px\"><i>TDT4173 Machine Learning 2023</i></p>\n",
    "  <h1 style=\"margin-bottom: -5px\"><b>Short Notebook 1</b></h1>\n",
    "  <h3>Kaggle Name: Neural Net Ninjas</h3>\n",
    "  <br />\n",
    "  <h3>Team Members:</h3>\n",
    "  <table style=\"margin: 0 auto; width: 100%; text-align: left\">\n",
    "    <tr style=\"background: #222\">\n",
    "      <th style=\"border-width: 0.5px; border-color: #555\">Name</th>\n",
    "      <th style=\"border-width: 0.5px; border-color: #555\">Student ID</th>\n",
    "    </tr>\n",
    "    <tr>\n",
    "      <td style=\"border-width: 0.5px; border-color: #555\">Antonsen Eggen, Sivert</td>\n",
    "      <td style=\"border-width: 0.5px; border-color: #555\">123 45 678</td>\n",
    "    </tr>\n",
    "    <tr>\n",
    "      <td style=\"border-width: 0.5px; border-color: #555\">Broch Grude, Kristoffer VI Nicolay</td>\n",
    "      <td style=\"border-width: 0.5px; border-color: #555\">123 45 678</td>\n",
    "    </tr>\n",
    "    <tr>\n",
    "      <td style=\"border-width: 0.5px; border-color: #555\">Raa, Mathias</td>\n",
    "      <td style=\"border-width: 0.5px; border-color: #555\">123 45 678</td>\n",
    "    </tr>\n",
    "  </table>\n",
    "  <br />\n",
    "  <h3 style=\"margin-bottom: -5px\">Runtime: x hours</h3>\n",
    "  <p style=\"opacity: 0.5;\"><i>Specs: MacBook Pro 2021, Apple M1 Pro Chip, 16 GB RAM</i></p>\n",
    "  </div>\n",
    "</div>"
   ]
  },
  {
   "cell_type": "markdown",
   "metadata": {},
   "source": [
    "---"
   ]
  },
  {
   "cell_type": "markdown",
   "metadata": {},
   "source": [
    "# Preprocessing"
   ]
  }
 ],
 "metadata": {
  "language_info": {
   "name": "python"
  }
 },
 "nbformat": 4,
 "nbformat_minor": 2
}
