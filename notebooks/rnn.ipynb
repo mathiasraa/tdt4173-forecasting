{
 "cells": [
  {
   "cell_type": "code",
   "execution_count": 1,
   "metadata": {},
   "outputs": [],
   "source": [
    "import numpy as np\n",
    "import pandas as pd\n",
    "import datetime\n",
    "import glob\n",
    "import os.path\n",
    "from pandas.compat import StringIO"
   ]
  },
  {
   "cell_type": "markdown",
   "metadata": {},
   "source": [
    "### NREL Bird Model implementation: for obtaining clear sky GHI"
   ]
  },
  {
   "cell_type": "code",
   "execution_count": 2,
   "metadata": {},
   "outputs": [],
   "source": [
    "import itertools\n",
    "import matplotlib.pyplot as plt\n",
    "import pandas as pd\n",
    "import seaborn as sns"
   ]
  },
  {
   "cell_type": "code",
   "execution_count": 3,
   "metadata": {},
   "outputs": [],
   "source": [
    "%matplotlib inline\n",
    "sns.set_color_codes()"
   ]
  },
  {
   "cell_type": "code",
   "execution_count": 4,
   "metadata": {},
   "outputs": [],
   "source": [
    "import pvlib\n",
    "from pvlib import clearsky, atmosphere\n",
    "from pvlib.location import Location"
   ]
  },
  {
   "cell_type": "code",
   "execution_count": 5,
   "metadata": {},
   "outputs": [],
   "source": [
    "pns = Location(40.798,-77.859, 'US/Eastern', 351.74, 'Penn State')"
   ]
  },
  {
   "cell_type": "code",
   "execution_count": 6,
   "metadata": {},
   "outputs": [],
   "source": [
    "times2009 = pd.DatetimeIndex(start='2009-01-01', end='2010-01-01', freq='1min',\n",
    "                        tz=pns.tz)   # 12 months of 2009 - For testing\n",
    "times2010and2011 = pd.DatetimeIndex(start='2010-01-01', end='2012-01-01', freq='1min',\n",
    "                        tz=pns.tz)   # 24 months of 2010 and 2011 - For training"
   ]
  },
  {
   "cell_type": "code",
   "execution_count": 7,
   "metadata": {},
   "outputs": [],
   "source": [
    "cs_2009 = pns.get_clearsky(times2009) \n",
    "cs_2010and2011 = pns.get_clearsky(times2010and2011) # ineichen with climatology table by default\n",
    "#cs_2011 = bvl.get_clearsky(times2011) "
   ]
  },
  {
   "cell_type": "code",
   "execution_count": 8,
   "metadata": {},
   "outputs": [],
   "source": [
    "cs_2009.drop(['dni','dhi'],axis=1, inplace=True) #updating the same dataframe by dropping two columns\n",
    "cs_2010and2011.drop(['dni','dhi'],axis=1, inplace=True) #updating the same dataframe by dropping two columns\n",
    "#cs_2011.drop(['dni','dhi'],axis=1, inplace=True) #updating the same dataframe by dropping two columns"
   ]
  },
  {
   "cell_type": "code",
   "execution_count": 9,
   "metadata": {},
   "outputs": [],
   "source": [
    "cs_2009.reset_index(inplace=True)\n",
    "cs_2010and2011.reset_index(inplace=True)\n",
    "#cs_2011.reset_index(inplace=True)"
   ]
  },
  {
   "cell_type": "code",
   "execution_count": 10,
   "metadata": {},
   "outputs": [],
   "source": [
    "cs_2009['index']=cs_2009['index'].apply(lambda x:x.to_datetime())\n",
    "cs_2009['year'] = cs_2009['index'].apply(lambda x:x.year)\n",
    "cs_2009['month'] = cs_2009['index'].apply(lambda x:x.month)\n",
    "cs_2009['day'] = cs_2009['index'].apply(lambda x:x.day)\n",
    "cs_2009['hour'] = cs_2009['index'].apply(lambda x:x.hour)\n",
    "cs_2009['min'] = cs_2009['index'].apply(lambda x:x.minute)"
   ]
  },
  {
   "cell_type": "code",
   "execution_count": 11,
   "metadata": {},
   "outputs": [],
   "source": [
    "cs_2010and2011['index']=cs_2010and2011['index'].apply(lambda x:x.to_datetime())\n",
    "cs_2010and2011['year'] = cs_2010and2011['index'].apply(lambda x:x.year)\n",
    "cs_2010and2011['month'] = cs_2010and2011['index'].apply(lambda x:x.month)\n",
    "cs_2010and2011['day'] = cs_2010and2011['index'].apply(lambda x:x.day)\n",
    "cs_2010and2011['hour'] = cs_2010and2011['index'].apply(lambda x:x.hour)\n",
    "cs_2010and2011['min'] = cs_2010and2011['index'].apply(lambda x:x.minute)"
   ]
  },
  {
   "cell_type": "code",
   "execution_count": 12,
   "metadata": {},
   "outputs": [
    {
     "name": "stdout",
     "output_type": "stream",
     "text": [
      "(525601, 7)\n",
      "(1051201, 7)\n"
     ]
    }
   ],
   "source": [
    "print(cs_2009.shape)\n",
    "print(cs_2010and2011.shape)\n",
    "#print(cs_2011.shape)"
   ]
  },
  {
   "cell_type": "code",
   "execution_count": 13,
   "metadata": {},
   "outputs": [],
   "source": [
    "cs_2009.drop(cs_2009.index[-1], inplace=True)\n",
    "cs_2010and2011.drop(cs_2010and2011.index[-1], inplace=True)\n",
    "#cs_2011.drop(cs_2011.index[-1], inplace=True)"
   ]
  },
  {
   "cell_type": "code",
   "execution_count": 14,
   "metadata": {},
   "outputs": [
    {
     "name": "stdout",
     "output_type": "stream",
     "text": [
      "(525600, 7)\n",
      "(1051200, 7)\n"
     ]
    }
   ],
   "source": [
    "print(cs_2009.shape)\n",
    "print(cs_2010and2011.shape)\n",
    "#print(cs_2011.shape)"
   ]
  },
  {
   "cell_type": "code",
   "execution_count": 15,
   "metadata": {},
   "outputs": [
    {
     "data": {
      "text/html": [
       "<div>\n",
       "<style scoped>\n",
       "    .dataframe tbody tr th:only-of-type {\n",
       "        vertical-align: middle;\n",
       "    }\n",
       "\n",
       "    .dataframe tbody tr th {\n",
       "        vertical-align: top;\n",
       "    }\n",
       "\n",
       "    .dataframe thead th {\n",
       "        text-align: right;\n",
       "    }\n",
       "</style>\n",
       "<table border=\"1\" class=\"dataframe\">\n",
       "  <thead>\n",
       "    <tr style=\"text-align: right;\">\n",
       "      <th></th>\n",
       "      <th>index</th>\n",
       "      <th>ghi</th>\n",
       "      <th>year</th>\n",
       "      <th>month</th>\n",
       "      <th>day</th>\n",
       "      <th>hour</th>\n",
       "      <th>min</th>\n",
       "    </tr>\n",
       "  </thead>\n",
       "  <tbody>\n",
       "    <tr>\n",
       "      <th>0</th>\n",
       "      <td>2010-01-01 00:00:00-05:00</td>\n",
       "      <td>0.0</td>\n",
       "      <td>2010</td>\n",
       "      <td>1</td>\n",
       "      <td>1</td>\n",
       "      <td>0</td>\n",
       "      <td>0</td>\n",
       "    </tr>\n",
       "    <tr>\n",
       "      <th>1</th>\n",
       "      <td>2010-01-01 00:01:00-05:00</td>\n",
       "      <td>0.0</td>\n",
       "      <td>2010</td>\n",
       "      <td>1</td>\n",
       "      <td>1</td>\n",
       "      <td>0</td>\n",
       "      <td>1</td>\n",
       "    </tr>\n",
       "    <tr>\n",
       "      <th>2</th>\n",
       "      <td>2010-01-01 00:02:00-05:00</td>\n",
       "      <td>0.0</td>\n",
       "      <td>2010</td>\n",
       "      <td>1</td>\n",
       "      <td>1</td>\n",
       "      <td>0</td>\n",
       "      <td>2</td>\n",
       "    </tr>\n",
       "    <tr>\n",
       "      <th>3</th>\n",
       "      <td>2010-01-01 00:03:00-05:00</td>\n",
       "      <td>0.0</td>\n",
       "      <td>2010</td>\n",
       "      <td>1</td>\n",
       "      <td>1</td>\n",
       "      <td>0</td>\n",
       "      <td>3</td>\n",
       "    </tr>\n",
       "    <tr>\n",
       "      <th>4</th>\n",
       "      <td>2010-01-01 00:04:00-05:00</td>\n",
       "      <td>0.0</td>\n",
       "      <td>2010</td>\n",
       "      <td>1</td>\n",
       "      <td>1</td>\n",
       "      <td>0</td>\n",
       "      <td>4</td>\n",
       "    </tr>\n",
       "  </tbody>\n",
       "</table>\n",
       "</div>"
      ],
      "text/plain": [
       "                      index  ghi  year  month  day  hour  min\n",
       "0 2010-01-01 00:00:00-05:00  0.0  2010      1    1     0    0\n",
       "1 2010-01-01 00:01:00-05:00  0.0  2010      1    1     0    1\n",
       "2 2010-01-01 00:02:00-05:00  0.0  2010      1    1     0    2\n",
       "3 2010-01-01 00:03:00-05:00  0.0  2010      1    1     0    3\n",
       "4 2010-01-01 00:04:00-05:00  0.0  2010      1    1     0    4"
      ]
     },
     "execution_count": 15,
     "metadata": {},
     "output_type": "execute_result"
    }
   ],
   "source": [
    "cs_2010and2011.head()"
   ]
  },
  {
   "cell_type": "markdown",
   "metadata": {},
   "source": [
    "### Import files from each year in a separate dataframe"
   ]
  },
  {
   "cell_type": "markdown",
   "metadata": {
    "collapsed": true
   },
   "source": [
    "\n",
    "- year            integer\t year, i.e., 1995\n",
    "- jday            integer\t Julian day (1 through 365 [or 366])\n",
    "- month           integer\t number of the month (1-12)\n",
    "- day             integer\t day of the month(1-31)\n",
    "- hour            integer\t hour of the day (0-23)\n",
    "- min             integer\t minute of the hour (0-59)\n",
    "- dt              real\t decimal time (hour.decimalminutes, e.g., 23.5 = 2330)\n",
    "- zen             real\t solar zenith angle (degrees)\n",
    "- dw_solar        real\t downwelling global solar (Watts m^-2)\n",
    "- uw_solar        real\t upwelling global solar (Watts m^-2)\n",
    "- direct_n        real\t direct-normal solar (Watts m^-2)\n",
    "- diffuse         real\t downwelling diffuse solar (Watts m^-2)\n",
    "- dw_ir           real\t downwelling thermal infrared (Watts m^-2)\n",
    "- dw_casetemp     real\t downwelling IR case temp. (K)\n",
    "- dw_dometemp     real\t downwelling IR dome temp. (K)\n",
    "- uw_ir           real\t upwelling thermal infrared (Watts m^-2)\n",
    "- uw_casetemp     real\t upwelling IR case temp. (K)\n",
    "- uw_dometemp     real\t upwelling IR dome temp. (K)\n",
    "- uvb             real\t global UVB (milliWatts m^-2)\n",
    "- par             real\t photosynthetically active radiation (Watts m^-2)\n",
    "- netsolar        real\t net solar (dw_solar - uw_solar) (Watts m^-2)\n",
    "- netir           real\t net infrared (dw_ir - uw_ir) (Watts m^-2)\n",
    "- totalnet        real\t net radiation (netsolar+netir) (Watts m^-2)\n",
    "- temp            real\t 10-meter air temperature (?C)\n",
    "- rh              real\t relative humidity (%)\n",
    "- windspd         real\t wind speed (ms^-1)\n",
    "- winddir         real\t wind direction (degrees, clockwise from north)\n",
    "- pressure        real\t station pressure (mb)\n"
   ]
  },
  {
   "cell_type": "code",
   "execution_count": 16,
   "metadata": {},
   "outputs": [],
   "source": [
    "cols = ['year', 'jday', 'month', 'day','hour','min','dt','zen','dw_solar','dw_solar_QC','uw_solar',\n",
    "       'uw_solar_QC', 'direct_n','direct_n_QC','diffuse', 'diffuse_QC', 'dw_ir', 'dw_ir_QC', 'dw_casetemp',\n",
    "       'dw_casetemp_QC', 'dw_dometemp','dw_dometemp_QC','uw_ir', 'uw_ir_QC', 'uw_casetemp','uw_casetemp_QC',\n",
    "       'uw_dometemp','uw_dometemp_QC','uvb','uvb_QC','par','par_QC','netsolar','netsolar_QC','netir','netir_QC',\n",
    "       'totalnet','totalnet_QC','temp','temp_QC','rh','rh_QC','windspd','windspd_QC','winddir','winddir_QC',\n",
    "       'pressure','pressure_QC']"
   ]
  },
  {
   "cell_type": "code",
   "execution_count": 17,
   "metadata": {},
   "outputs": [
    {
     "data": {
      "text/plain": [
       "(1049577, 48)"
      ]
     },
     "execution_count": 17,
     "metadata": {},
     "output_type": "execute_result"
    }
   ],
   "source": [
    "path = r'.\\\\data\\\\Penn_State\\\\Exp_1_train'\n",
    "all_files = glob.glob(path + \"/*.dat\")\n",
    "all_files.sort()\n",
    "\n",
    "df_big_train = pd.concat([pd.read_csv(f, skipinitialspace = True, quotechar = '\"',skiprows=(2),delimiter=' ', \n",
    "                 index_col=False,header=None, names=cols) for f in all_files],ignore_index=True)\n",
    "df_big_train.shape"
   ]
  },
  {
   "cell_type": "code",
   "execution_count": 18,
   "metadata": {},
   "outputs": [
    {
     "data": {
      "text/plain": [
       "(524846, 48)"
      ]
     },
     "execution_count": 18,
     "metadata": {},
     "output_type": "execute_result"
    }
   ],
   "source": [
    "path = r'.\\\\data\\\\Penn_State\\\\Exp_1_test'\n",
    "all_files = glob.glob(path + \"/*.dat\")\n",
    "all_files.sort()\n",
    "\n",
    "df_big_test = pd.concat((pd.read_csv(f, skipinitialspace = True, quotechar = '\"',skiprows=(2),delimiter=' ', \n",
    "                 index_col=False,header=None, names=cols) for f in all_files),ignore_index=True)\n",
    "df_big_test.shape"
   ]
  },
  {
   "cell_type": "code",
   "execution_count": 19,
   "metadata": {},
   "outputs": [
    {
     "data": {
      "text/plain": [
       "(12, 48)"
      ]
     },
     "execution_count": 19,
     "metadata": {},
     "output_type": "execute_result"
    }
   ],
   "source": [
    "df_big_test[df_big_test['dw_solar']==-9999.9].shape"
   ]
  },
  {
   "cell_type": "markdown",
   "metadata": {},
   "source": [
    "### Merging Clear Sky GHI And the big dataframe"
   ]
  },
  {
   "cell_type": "code",
   "execution_count": 20,
   "metadata": {},
   "outputs": [
    {
     "data": {
      "text/plain": [
       "(1049577, 50)"
      ]
     },
     "execution_count": 20,
     "metadata": {},
     "output_type": "execute_result"
    }
   ],
   "source": [
    "df_train = pd.merge(df_big_train, cs_2010and2011, on=['year','month','day','hour','min'])\n",
    "df_train.shape"
   ]
  },
  {
   "cell_type": "code",
   "execution_count": 21,
   "metadata": {},
   "outputs": [
    {
     "data": {
      "text/plain": [
       "(524846, 50)"
      ]
     },
     "execution_count": 21,
     "metadata": {},
     "output_type": "execute_result"
    }
   ],
   "source": [
    "df_test = pd.merge(df_big_test, cs_2009, on=['year','month','day','hour','min'])\n",
    "df_test.shape"
   ]
  },
  {
   "cell_type": "code",
   "execution_count": 22,
   "metadata": {},
   "outputs": [],
   "source": [
    "df_train.drop(['index'],axis=1, inplace=True) #updating the same dataframe by dropping the index columns from clear sky model\n",
    "df_test.drop(['index'], axis=1, inplace=True)"
   ]
  },
  {
   "cell_type": "code",
   "execution_count": 23,
   "metadata": {},
   "outputs": [
    {
     "data": {
      "text/plain": [
       "(1049577, 49)"
      ]
     },
     "execution_count": 23,
     "metadata": {},
     "output_type": "execute_result"
    }
   ],
   "source": [
    "df_train.shape"
   ]
  },
  {
   "cell_type": "markdown",
   "metadata": {},
   "source": [
    "### Managing missing values"
   ]
  },
  {
   "cell_type": "code",
   "execution_count": 24,
   "metadata": {},
   "outputs": [],
   "source": [
    "# Resetting index\n",
    "df_train.reset_index(drop=True, inplace=True)\n",
    "df_test.reset_index(drop=True, inplace=True)"
   ]
  },
  {
   "cell_type": "code",
   "execution_count": 25,
   "metadata": {},
   "outputs": [],
   "source": [
    "# Dropping rows with two or more -9999.9 values in columns"
   ]
  },
  {
   "cell_type": "code",
   "execution_count": 26,
   "metadata": {},
   "outputs": [
    {
     "data": {
      "text/plain": [
       "(1039363, 49)"
      ]
     },
     "execution_count": 26,
     "metadata": {},
     "output_type": "execute_result"
    }
   ],
   "source": [
    "# Step1: Get indices of all rows with 2 or more -999\n",
    "missing_data_indices = np.where((df_train <=-9999.9).apply(sum, axis=1)>=2)[0]\n",
    "# Step2: Drop those indices\n",
    "df_train.drop(missing_data_indices, axis=0, inplace=True)\n",
    "# Checking that the rows are dropped\n",
    "df_train.shape"
   ]
  },
  {
   "cell_type": "code",
   "execution_count": 27,
   "metadata": {},
   "outputs": [
    {
     "data": {
      "text/plain": [
       "(510853, 49)"
      ]
     },
     "execution_count": 27,
     "metadata": {},
     "output_type": "execute_result"
    }
   ],
   "source": [
    "missing_data_indices_test = np.where((df_test <= -9999.9).apply(sum, axis=1)>=2)[0]\n",
    "df_test.drop(missing_data_indices_test, axis=0, inplace=True)\n",
    "df_test.shape"
   ]
  },
  {
   "cell_type": "code",
   "execution_count": 28,
   "metadata": {},
   "outputs": [],
   "source": [
    "# For the rows with only one cell as -9999.9, replacing this cell with the mean of the column"
   ]
  },
  {
   "cell_type": "markdown",
   "metadata": {},
   "source": [
    "#### First resetting index after dropping rows in the previous part of the code"
   ]
  },
  {
   "cell_type": "code",
   "execution_count": 29,
   "metadata": {},
   "outputs": [],
   "source": [
    "# 2nd time - Reseting Index\n",
    "df_train.reset_index(drop=True, inplace=True)\n",
    "df_test.reset_index(drop=True, inplace=True)"
   ]
  },
  {
   "cell_type": "code",
   "execution_count": 30,
   "metadata": {},
   "outputs": [],
   "source": [
    "one_miss_train_idx = np.where((df_train <=-9999.9).apply(sum, axis=1)==1)[0]"
   ]
  },
  {
   "cell_type": "code",
   "execution_count": 31,
   "metadata": {},
   "outputs": [
    {
     "data": {
      "text/plain": [
       "13173"
      ]
     },
     "execution_count": 31,
     "metadata": {},
     "output_type": "execute_result"
    }
   ],
   "source": [
    "len(one_miss_train_idx)"
   ]
  },
  {
   "cell_type": "code",
   "execution_count": 32,
   "metadata": {},
   "outputs": [
    {
     "data": {
      "text/plain": [
       "(1039363, 49)"
      ]
     },
     "execution_count": 32,
     "metadata": {},
     "output_type": "execute_result"
    }
   ],
   "source": [
    "df_train.shape"
   ]
  },
  {
   "cell_type": "code",
   "execution_count": 33,
   "metadata": {},
   "outputs": [
    {
     "name": "stderr",
     "output_type": "stream",
     "text": [
      "C:\\Users\\s269596\\AppData\\Local\\Continuum\\Anaconda3\\lib\\site-packages\\pandas\\core\\indexing.py:194: SettingWithCopyWarning: \n",
      "A value is trying to be set on a copy of a slice from a DataFrame\n",
      "\n",
      "See the caveats in the documentation: http://pandas.pydata.org/pandas-docs/stable/indexing.html#indexing-view-versus-copy\n",
      "  self._setitem_with_indexer(indexer, value)\n"
     ]
    }
   ],
   "source": [
    "col_names = df_train.columns\n",
    "from collections import defaultdict\n",
    "stats = defaultdict(int)\n",
    "total_single_missing_values = 0\n",
    "for name in col_names:\n",
    "    col_mean = df_train[~(df_train[name] == -9999.9)][name].mean()\n",
    "    missing_indices = np.where((df_train[name] == -9999.9))\n",
    "    stats[name] = len(missing_indices[0])\n",
    "    df_train[name].loc[missing_indices] = col_mean\n",
    "    total_single_missing_values += sum(df_train[name] == -9999.9)\n",
    "    "
   ]
  },
  {
   "cell_type": "code",
   "execution_count": 34,
   "metadata": {},
   "outputs": [],
   "source": [
    "df_col_min = df_train.apply(min, axis=0)\n",
    "df_col_max = df_train.apply(max, axis =0)\n",
    "#print(df_col_min, df_col_max)"
   ]
  },
  {
   "cell_type": "code",
   "execution_count": 35,
   "metadata": {},
   "outputs": [],
   "source": [
    "train = np.where((df_train <=-9999.9).apply(sum, axis=1)==1)[0]"
   ]
  },
  {
   "cell_type": "code",
   "execution_count": 36,
   "metadata": {},
   "outputs": [
    {
     "data": {
      "text/plain": [
       "0"
      ]
     },
     "execution_count": 36,
     "metadata": {},
     "output_type": "execute_result"
    }
   ],
   "source": [
    "len(train)"
   ]
  },
  {
   "cell_type": "code",
   "execution_count": 37,
   "metadata": {},
   "outputs": [],
   "source": [
    "# doing the same thing on test dataset"
   ]
  },
  {
   "cell_type": "code",
   "execution_count": 38,
   "metadata": {},
   "outputs": [
    {
     "data": {
      "text/plain": [
       "6448"
      ]
     },
     "execution_count": 38,
     "metadata": {},
     "output_type": "execute_result"
    }
   ],
   "source": [
    "one_miss_test_idx = np.where((df_test <=-9999.9).apply(sum, axis=1)==1)[0]\n",
    "len(one_miss_test_idx)"
   ]
  },
  {
   "cell_type": "code",
   "execution_count": 39,
   "metadata": {},
   "outputs": [
    {
     "name": "stderr",
     "output_type": "stream",
     "text": [
      "C:\\Users\\s269596\\AppData\\Local\\Continuum\\Anaconda3\\lib\\site-packages\\pandas\\core\\indexing.py:194: SettingWithCopyWarning: \n",
      "A value is trying to be set on a copy of a slice from a DataFrame\n",
      "\n",
      "See the caveats in the documentation: http://pandas.pydata.org/pandas-docs/stable/indexing.html#indexing-view-versus-copy\n",
      "  self._setitem_with_indexer(indexer, value)\n"
     ]
    }
   ],
   "source": [
    "col_names_test = df_test.columns\n",
    "from collections import defaultdict\n",
    "stats_test = defaultdict(int)\n",
    "total_single_missing_values_test = 0\n",
    "for name in col_names_test:\n",
    "    col_mean = df_test[~(df_test[name] == -9999.9)][name].mean()\n",
    "    missing_indices = np.where((df_test[name] == -9999.9))\n",
    "    stats_test[name] = len(missing_indices[0])\n",
    "    df_test[name].loc[missing_indices] = col_mean\n",
    "    total_single_missing_values_test += sum(df_test[name] == -9999.9)\n",
    "    "
   ]
  },
  {
   "cell_type": "code",
   "execution_count": 40,
   "metadata": {},
   "outputs": [],
   "source": [
    "test = np.where((df_test <=-9999.9).apply(sum, axis=1)==1)[0]"
   ]
  },
  {
   "cell_type": "code",
   "execution_count": 41,
   "metadata": {},
   "outputs": [
    {
     "data": {
      "text/plain": [
       "0"
      ]
     },
     "execution_count": 41,
     "metadata": {},
     "output_type": "execute_result"
    }
   ],
   "source": [
    "len(test)"
   ]
  },
  {
   "cell_type": "code",
   "execution_count": 42,
   "metadata": {},
   "outputs": [
    {
     "data": {
      "text/plain": [
       "(1039363, 49)"
      ]
     },
     "execution_count": 42,
     "metadata": {},
     "output_type": "execute_result"
    }
   ],
   "source": [
    "df_train.shape"
   ]
  },
  {
   "cell_type": "code",
   "execution_count": 43,
   "metadata": {},
   "outputs": [
    {
     "data": {
      "text/plain": [
       "(510853, 49)"
      ]
     },
     "execution_count": 43,
     "metadata": {},
     "output_type": "execute_result"
    }
   ],
   "source": [
    "df_test.shape"
   ]
  },
  {
   "cell_type": "markdown",
   "metadata": {},
   "source": [
    "### Exploratory Data Analysis"
   ]
  },
  {
   "cell_type": "code",
   "execution_count": 44,
   "metadata": {},
   "outputs": [],
   "source": [
    "dw_solar_everyday = df_test.groupby(['jday'])['dw_solar'].mean()\n",
    "ghi_everyday = df_test.groupby(['jday'])['ghi'].mean()\n",
    "j_day = df_test['jday'].unique()"
   ]
  },
  {
   "cell_type": "code",
   "execution_count": 45,
   "metadata": {},
   "outputs": [
    {
     "data": {
      "image/png": "[encoded data removed]",
      "text/plain": [
       "<Figure size 432x288 with 1 Axes>"
      ]
     },
     "metadata": {},
     "output_type": "display_data"
    }
   ],
   "source": [
    "fig = plt.figure()\n",
    "\n",
    "axes1 = fig.add_axes([0.1,0.1,0.8,0.8])\n",
    "#axes2 = fig.add_axes([0.1,0.1,0.8,0.8])\n",
    "\n",
    "axes1.scatter(j_day,dw_solar_everyday,label='Observed dw_solar',color='red')\n",
    "axes1.scatter(j_day, ghi_everyday, label='Clear Sky GHI',color='green')\n",
    "\n",
    "axes1.set_xlabel('Days')\n",
    "axes1.set_ylabel('Solar Irradiance (Watts /m^2)')\n",
    "axes1.set_title('Solar Irradiance - Test Year 2009')\n",
    "axes1.legend(loc='best')\n",
    "\n",
    "fig.savefig('Figure2.png', bbox_inches = 'tight')"
   ]
  },
  {
   "cell_type": "code",
   "execution_count": 46,
   "metadata": {},
   "outputs": [
    {
     "name": "stderr",
     "output_type": "stream",
     "text": [
      "C:\\Users\\s269596\\AppData\\Local\\Continuum\\Anaconda3\\lib\\site-packages\\matplotlib\\axes\\_axes.py:6462: UserWarning: The 'normed' kwarg is deprecated, and has been replaced by the 'density' kwarg.\n",
      "  warnings.warn(\"The 'normed' kwarg is deprecated, and has been \"\n"
     ]
    },
    {
     "data": {
      "image/png": "[encoded data removed]",
      "text/plain": [
       "<Figure size 432x432 with 3 Axes>"
      ]
     },
     "metadata": {},
     "output_type": "display_data"
    }
   ],
   "source": [
    "sns.jointplot(x=dw_solar_everyday,y=ghi_everyday,kind='reg')\n",
    "#plt.title('observed dw_solar vs clear sky ghi')\n",
    "plt.xlabel('Observed global downwelling solar (Watts/m^2)')\n",
    "plt.ylabel('Clear Sky GHI (Watts/m^2)')\n",
    "plt.savefig('Figure3.png', bbox_inches='tight')"
   ]
  },
  {
   "cell_type": "markdown",
   "metadata": {},
   "source": [
    "### making the Kt (clear sky index at time t) column by first removing rows with ghi==0"
   ]
  },
  {
   "cell_type": "code",
   "execution_count": 47,
   "metadata": {},
   "outputs": [],
   "source": [
    "df_train = df_train[df_train['ghi']!=0]\n",
    "df_test = df_test[df_test['ghi']!=0]\n",
    "df_train['Kt'] = df_train['dw_solar']/df_train['ghi']\n",
    "df_test['Kt'] = df_test['dw_solar']/df_test['ghi']"
   ]
  },
  {
   "cell_type": "code",
   "execution_count": 48,
   "metadata": {},
   "outputs": [],
   "source": [
    "df_train.reset_index(inplace=True)\n",
    "df_test.reset_index(inplace=True)"
   ]
  },
  {
   "cell_type": "code",
   "execution_count": 49,
   "metadata": {},
   "outputs": [
    {
     "name": "stdout",
     "output_type": "stream",
     "text": [
      "test Kt max: 15152.440011618102\n",
      "test Kt min: -34.79740973618779\n",
      "test Kt mean: 1.9145243277345676\n",
      "\n",
      "\n",
      "train Kt max: 110113.08976621665\n",
      "train Kt min: -167.27791726909712\n",
      "train Kt mean: 2.453877360947302\n"
     ]
    }
   ],
   "source": [
    "print(\"test Kt max: \"+str(df_test['Kt'].max()))\n",
    "print(\"test Kt min: \"+str(df_test['Kt'].min()))\n",
    "print(\"test Kt mean: \"+str(df_test['Kt'].mean()))\n",
    "print(\"\\n\")\n",
    "print(\"train Kt max: \"+str(df_train['Kt'].max()))\n",
    "print(\"train Kt min: \"+str(df_train['Kt'].min()))\n",
    "print(\"train Kt mean: \"+str(df_train['Kt'].mean()))"
   ]
  },
  {
   "cell_type": "code",
   "execution_count": 50,
   "metadata": {},
   "outputs": [
    {
     "data": {
      "text/plain": [
       "[<matplotlib.lines.Line2D at 0xd154d30>]"
      ]
     },
     "execution_count": 50,
     "metadata": {},
     "output_type": "execute_result"
    },
    {
     "data": {
      "image/png": "[encoded data removed]",
      "text/plain": [
       "<Figure size 432x288 with 1 Axes>"
      ]
     },
     "metadata": {},
     "output_type": "display_data"
    }
   ],
   "source": [
    "plt.plot(df_train['Kt'])"
   ]
  },
  {
   "cell_type": "code",
   "execution_count": 51,
   "metadata": {},
   "outputs": [
    {
     "data": {
      "text/plain": [
       "[<matplotlib.lines.Line2D at 0xc93dda0>]"
      ]
     },
     "execution_count": 51,
     "metadata": {},
     "output_type": "execute_result"
    },
    {
     "data": {
      "image/png": "[encoded data removed]",
      "text/plain": [
       "<Figure size 432x288 with 1 Axes>"
      ]
     },
     "metadata": {},
     "output_type": "display_data"
    }
   ],
   "source": [
    "plt.plot(df_test['Kt'])"
   ]
  },
  {
   "cell_type": "code",
   "execution_count": 52,
   "metadata": {},
   "outputs": [],
   "source": [
    "df_train= df_train[df_train['Kt']< 5000]\n",
    "df_train= df_train[df_train['Kt']> -1000]\n",
    "df_test= df_test[df_test['Kt']< 5000]\n",
    "df_test= df_test[df_test['Kt']> -1000]"
   ]
  },
  {
   "cell_type": "markdown",
   "metadata": {},
   "source": [
    "#### Group the data (train dataframe)"
   ]
  },
  {
   "cell_type": "code",
   "execution_count": 53,
   "metadata": {},
   "outputs": [],
   "source": [
    "zen = df_train.groupby(['year','month','day','hour'])['zen'].mean()\n",
    "dw_solar = df_train.groupby(['year','month','day','hour'])['dw_solar'].mean()\n",
    "uw_solar = df_train.groupby(['year','month','day','hour'])['uw_solar'].mean()\n",
    "direct_n = df_train.groupby(['year','month','day','hour'])['direct_n'].mean()\n",
    "diffuse = df_train.groupby(['year','month','day','hour'])['diffuse'].mean()\n",
    "dw_ir = df_train.groupby(['year','month','day','hour'])['dw_ir'].mean()\n",
    "dw_casetemp = df_train.groupby(['year','month','day','hour'])['dw_casetemp'].mean()\n",
    "dw_dometemp = df_train.groupby(['year','month','day','hour'])['dw_dometemp'].mean()\n",
    "uw_ir = df_train.groupby(['year','month','day','hour'])['uw_ir'].mean()\n",
    "uw_casetemp = df_train.groupby(['year','month','day','hour'])['uw_casetemp'].mean()\n",
    "uw_dometemp = df_train.groupby(['year','month','day','hour'])['uw_dometemp'].mean()\n",
    "uvb = df_train.groupby(['year','month','day','hour'])['uvb'].mean()\n",
    "par = df_train.groupby(['year','month','day','hour'])['par'].mean()\n",
    "netsolar = df_train.groupby(['year','month','day','hour'])['netsolar'].mean()\n",
    "netir = df_train.groupby(['year','month','day','hour'])['netir'].mean()\n",
    "totalnet = df_train.groupby(['year','month','day','hour'])['totalnet'].mean()\n",
    "temp = df_train.groupby(['year','month','day','hour'])['temp'].mean()\n",
    "rh = df_train.groupby(['year','month','day','hour'])['rh'].mean()\n",
    "windspd = df_train.groupby(['year','month','day','hour'])['windspd'].mean()\n",
    "winddir = df_train.groupby(['year','month','day','hour'])['winddir'].mean()\n",
    "pressure = df_train.groupby(['year','month','day','hour'])['pressure'].mean()\n",
    "ghi = df_train.groupby(['year','month','day','hour'])['ghi'].mean()\n",
    "Kt = df_train.groupby(['year','month','day','hour'])['Kt'].mean()"
   ]
  },
  {
   "cell_type": "code",
   "execution_count": 54,
   "metadata": {},
   "outputs": [],
   "source": [
    "df_new_train = pd.concat([zen,dw_solar,uw_solar,direct_n,diffuse,dw_ir,dw_casetemp,dw_dometemp,uw_ir,uw_casetemp,uw_dometemp,\n",
    "                    uvb,par,netsolar,netir,totalnet,temp,rh,windspd,winddir,pressure,ghi,Kt], axis=1)"
   ]
  },
  {
   "cell_type": "code",
   "execution_count": 55,
   "metadata": {},
   "outputs": [
    {
     "data": {
      "text/html": [
       "<div>\n",
       "<style scoped>\n",
       "    .dataframe tbody tr th:only-of-type {\n",
       "        vertical-align: middle;\n",
       "    }\n",
       "\n",
       "    .dataframe tbody tr th {\n",
       "        vertical-align: top;\n",
       "    }\n",
       "\n",
       "    .dataframe thead th {\n",
       "        text-align: right;\n",
       "    }\n",
       "</style>\n",
       "<table border=\"1\" class=\"dataframe\">\n",
       "  <thead>\n",
       "    <tr style=\"text-align: right;\">\n",
       "      <th></th>\n",
       "      <th></th>\n",
       "      <th></th>\n",
       "      <th></th>\n",
       "      <th>zen</th>\n",
       "      <th>dw_solar</th>\n",
       "      <th>uw_solar</th>\n",
       "      <th>direct_n</th>\n",
       "      <th>diffuse</th>\n",
       "      <th>dw_ir</th>\n",
       "      <th>dw_casetemp</th>\n",
       "      <th>dw_dometemp</th>\n",
       "      <th>uw_ir</th>\n",
       "      <th>uw_casetemp</th>\n",
       "      <th>...</th>\n",
       "      <th>netsolar</th>\n",
       "      <th>netir</th>\n",
       "      <th>totalnet</th>\n",
       "      <th>temp</th>\n",
       "      <th>rh</th>\n",
       "      <th>windspd</th>\n",
       "      <th>winddir</th>\n",
       "      <th>pressure</th>\n",
       "      <th>ghi</th>\n",
       "      <th>Kt</th>\n",
       "    </tr>\n",
       "    <tr>\n",
       "      <th>year</th>\n",
       "      <th>month</th>\n",
       "      <th>day</th>\n",
       "      <th>hour</th>\n",
       "      <th></th>\n",
       "      <th></th>\n",
       "      <th></th>\n",
       "      <th></th>\n",
       "      <th></th>\n",
       "      <th></th>\n",
       "      <th></th>\n",
       "      <th></th>\n",
       "      <th></th>\n",
       "      <th></th>\n",
       "      <th></th>\n",
       "      <th></th>\n",
       "      <th></th>\n",
       "      <th></th>\n",
       "      <th></th>\n",
       "      <th></th>\n",
       "      <th></th>\n",
       "      <th></th>\n",
       "      <th></th>\n",
       "      <th></th>\n",
       "      <th></th>\n",
       "    </tr>\n",
       "  </thead>\n",
       "  <tbody>\n",
       "    <tr>\n",
       "      <th rowspan=\"5\" valign=\"top\">2010.0</th>\n",
       "      <th rowspan=\"5\" valign=\"top\">1.0</th>\n",
       "      <th rowspan=\"5\" valign=\"top\">1.0</th>\n",
       "      <th>7.0</th>\n",
       "      <td>143.425455</td>\n",
       "      <td>-1.595455</td>\n",
       "      <td>0.000000</td>\n",
       "      <td>2.354545</td>\n",
       "      <td>-0.481818</td>\n",
       "      <td>294.027273</td>\n",
       "      <td>272.977273</td>\n",
       "      <td>272.813636</td>\n",
       "      <td>303.809091</td>\n",
       "      <td>270.872727</td>\n",
       "      <td>...</td>\n",
       "      <td>0.0</td>\n",
       "      <td>-9.786364</td>\n",
       "      <td>-9.786364</td>\n",
       "      <td>-1.918182</td>\n",
       "      <td>94.595455</td>\n",
       "      <td>1.645455</td>\n",
       "      <td>251.290909</td>\n",
       "      <td>969.427273</td>\n",
       "      <td>46.729148</td>\n",
       "      <td>-0.035871</td>\n",
       "    </tr>\n",
       "    <tr>\n",
       "      <th>8.0</th>\n",
       "      <td>135.844000</td>\n",
       "      <td>-1.611667</td>\n",
       "      <td>0.000000</td>\n",
       "      <td>2.188333</td>\n",
       "      <td>-0.465000</td>\n",
       "      <td>293.376667</td>\n",
       "      <td>272.786667</td>\n",
       "      <td>272.631667</td>\n",
       "      <td>303.080000</td>\n",
       "      <td>270.731667</td>\n",
       "      <td>...</td>\n",
       "      <td>0.0</td>\n",
       "      <td>-9.711667</td>\n",
       "      <td>-9.711667</td>\n",
       "      <td>-1.998333</td>\n",
       "      <td>95.076667</td>\n",
       "      <td>1.708333</td>\n",
       "      <td>244.951667</td>\n",
       "      <td>969.338333</td>\n",
       "      <td>116.574405</td>\n",
       "      <td>-0.015675</td>\n",
       "    </tr>\n",
       "    <tr>\n",
       "      <th>9.0</th>\n",
       "      <td>124.525667</td>\n",
       "      <td>-1.760000</td>\n",
       "      <td>-0.013333</td>\n",
       "      <td>2.090000</td>\n",
       "      <td>-0.393333</td>\n",
       "      <td>299.085000</td>\n",
       "      <td>272.953333</td>\n",
       "      <td>272.795000</td>\n",
       "      <td>305.198333</td>\n",
       "      <td>270.860000</td>\n",
       "      <td>...</td>\n",
       "      <td>0.0</td>\n",
       "      <td>-6.116667</td>\n",
       "      <td>-6.116667</td>\n",
       "      <td>-1.755000</td>\n",
       "      <td>95.043333</td>\n",
       "      <td>2.110000</td>\n",
       "      <td>239.411667</td>\n",
       "      <td>968.896667</td>\n",
       "      <td>258.670822</td>\n",
       "      <td>-0.006941</td>\n",
       "    </tr>\n",
       "    <tr>\n",
       "      <th>10.0</th>\n",
       "      <td>113.255500</td>\n",
       "      <td>-1.645000</td>\n",
       "      <td>-0.045000</td>\n",
       "      <td>3.075000</td>\n",
       "      <td>-0.441667</td>\n",
       "      <td>298.563333</td>\n",
       "      <td>273.190000</td>\n",
       "      <td>273.025000</td>\n",
       "      <td>305.490000</td>\n",
       "      <td>271.108333</td>\n",
       "      <td>...</td>\n",
       "      <td>0.0</td>\n",
       "      <td>-6.930000</td>\n",
       "      <td>-6.930000</td>\n",
       "      <td>-1.506667</td>\n",
       "      <td>94.693333</td>\n",
       "      <td>1.555000</td>\n",
       "      <td>262.800000</td>\n",
       "      <td>969.090000</td>\n",
       "      <td>375.577358</td>\n",
       "      <td>-0.004403</td>\n",
       "    </tr>\n",
       "    <tr>\n",
       "      <th>11.0</th>\n",
       "      <td>102.321167</td>\n",
       "      <td>-1.561667</td>\n",
       "      <td>-0.045000</td>\n",
       "      <td>3.716667</td>\n",
       "      <td>-0.470000</td>\n",
       "      <td>306.001667</td>\n",
       "      <td>273.680000</td>\n",
       "      <td>273.568333</td>\n",
       "      <td>308.616667</td>\n",
       "      <td>271.521667</td>\n",
       "      <td>...</td>\n",
       "      <td>0.0</td>\n",
       "      <td>-2.611667</td>\n",
       "      <td>-2.611667</td>\n",
       "      <td>-0.810000</td>\n",
       "      <td>93.096667</td>\n",
       "      <td>0.730000</td>\n",
       "      <td>255.361667</td>\n",
       "      <td>969.346667</td>\n",
       "      <td>445.293463</td>\n",
       "      <td>-0.003517</td>\n",
       "    </tr>\n",
       "  </tbody>\n",
       "</table>\n",
       "<p>5 rows × 23 columns</p>\n",
       "</div>"
      ],
      "text/plain": [
       "                              zen  dw_solar  uw_solar  direct_n   diffuse  \\\n",
       "year   month day hour                                                       \n",
       "2010.0 1.0   1.0 7.0   143.425455 -1.595455  0.000000  2.354545 -0.481818   \n",
       "                 8.0   135.844000 -1.611667  0.000000  2.188333 -0.465000   \n",
       "                 9.0   124.525667 -1.760000 -0.013333  2.090000 -0.393333   \n",
       "                 10.0  113.255500 -1.645000 -0.045000  3.075000 -0.441667   \n",
       "                 11.0  102.321167 -1.561667 -0.045000  3.716667 -0.470000   \n",
       "\n",
       "                            dw_ir  dw_casetemp  dw_dometemp       uw_ir  \\\n",
       "year   month day hour                                                     \n",
       "2010.0 1.0   1.0 7.0   294.027273   272.977273   272.813636  303.809091   \n",
       "                 8.0   293.376667   272.786667   272.631667  303.080000   \n",
       "                 9.0   299.085000   272.953333   272.795000  305.198333   \n",
       "                 10.0  298.563333   273.190000   273.025000  305.490000   \n",
       "                 11.0  306.001667   273.680000   273.568333  308.616667   \n",
       "\n",
       "                       uw_casetemp    ...     netsolar     netir  totalnet  \\\n",
       "year   month day hour                 ...                                    \n",
       "2010.0 1.0   1.0 7.0    270.872727    ...          0.0 -9.786364 -9.786364   \n",
       "                 8.0    270.731667    ...          0.0 -9.711667 -9.711667   \n",
       "                 9.0    270.860000    ...          0.0 -6.116667 -6.116667   \n",
       "                 10.0   271.108333    ...          0.0 -6.930000 -6.930000   \n",
       "                 11.0   271.521667    ...          0.0 -2.611667 -2.611667   \n",
       "\n",
       "                           temp         rh   windspd     winddir    pressure  \\\n",
       "year   month day hour                                                          \n",
       "2010.0 1.0   1.0 7.0  -1.918182  94.595455  1.645455  251.290909  969.427273   \n",
       "                 8.0  -1.998333  95.076667  1.708333  244.951667  969.338333   \n",
       "                 9.0  -1.755000  95.043333  2.110000  239.411667  968.896667   \n",
       "                 10.0 -1.506667  94.693333  1.555000  262.800000  969.090000   \n",
       "                 11.0 -0.810000  93.096667  0.730000  255.361667  969.346667   \n",
       "\n",
       "                              ghi        Kt  \n",
       "year   month day hour                        \n",
       "2010.0 1.0   1.0 7.0    46.729148 -0.035871  \n",
       "                 8.0   116.574405 -0.015675  \n",
       "                 9.0   258.670822 -0.006941  \n",
       "                 10.0  375.577358 -0.004403  \n",
       "                 11.0  445.293463 -0.003517  \n",
       "\n",
       "[5 rows x 23 columns]"
      ]
     },
     "execution_count": 55,
     "metadata": {},
     "output_type": "execute_result"
    }
   ],
   "source": [
    "df_new_train.head()"
   ]
  },
  {
   "cell_type": "markdown",
   "metadata": {},
   "source": [
    "#### Groupdata - test dataframe"
   ]
  },
  {
   "cell_type": "code",
   "execution_count": 56,
   "metadata": {},
   "outputs": [],
   "source": [
    "test_zen = df_test.groupby(['month','day','hour'])['zen'].mean()\n",
    "test_dw_solar = df_test.groupby(['month','day','hour'])['dw_solar'].mean()\n",
    "test_uw_solar = df_test.groupby(['month','day','hour'])['uw_solar'].mean()\n",
    "test_direct_n = df_test.groupby(['month','day','hour'])['direct_n'].mean()\n",
    "test_diffuse = df_test.groupby(['month','day','hour'])['diffuse'].mean()\n",
    "test_dw_ir = df_test.groupby(['month','day','hour'])['dw_ir'].mean()\n",
    "test_dw_casetemp = df_test.groupby(['month','day','hour'])['dw_casetemp'].mean()\n",
    "test_dw_dometemp = df_test.groupby(['month','day','hour'])['dw_dometemp'].mean()\n",
    "test_uw_ir = df_test.groupby(['month','day','hour'])['uw_ir'].mean()\n",
    "test_uw_casetemp = df_test.groupby(['month','day','hour'])['uw_casetemp'].mean()\n",
    "test_uw_dometemp = df_test.groupby(['month','day','hour'])['uw_dometemp'].mean()\n",
    "test_uvb = df_test.groupby(['month','day','hour'])['uvb'].mean()\n",
    "test_par = df_test.groupby(['month','day','hour'])['par'].mean()\n",
    "test_netsolar = df_test.groupby(['month','day','hour'])['netsolar'].mean()\n",
    "test_netir = df_test.groupby(['month','day','hour'])['netir'].mean()\n",
    "test_totalnet = df_test.groupby(['month','day','hour'])['totalnet'].mean()\n",
    "test_temp = df_test.groupby(['month','day','hour'])['temp'].mean()\n",
    "test_rh = df_test.groupby(['month','day','hour'])['rh'].mean()\n",
    "test_windspd = df_test.groupby(['month','day','hour'])['windspd'].mean()\n",
    "test_winddir = df_test.groupby(['month','day','hour'])['winddir'].mean()\n",
    "test_pressure = df_test.groupby(['month','day','hour'])['pressure'].mean()\n",
    "test_ghi = df_test.groupby(['month','day','hour'])['ghi'].mean()\n",
    "test_Kt = df_test.groupby(['month','day','hour'])['Kt'].mean()"
   ]
  },
  {
   "cell_type": "code",
   "execution_count": 57,
   "metadata": {},
   "outputs": [],
   "source": [
    "df_new_test = pd.concat([test_zen,test_dw_solar,test_uw_solar,test_direct_n,test_diffuse,test_dw_ir,\n",
    "                         test_dw_casetemp,test_dw_dometemp,test_uw_ir,test_uw_casetemp,test_uw_dometemp,\n",
    "                    test_uvb,test_par,test_netsolar,test_netir,test_totalnet,test_temp,test_rh,\n",
    "                         test_windspd,test_winddir,test_pressure,test_ghi,test_Kt], axis=1)"
   ]
  },
  {
   "cell_type": "code",
   "execution_count": 58,
   "metadata": {},
   "outputs": [
    {
     "data": {
      "text/html": [
       "<div>\n",
       "<style scoped>\n",
       "    .dataframe tbody tr th:only-of-type {\n",
       "        vertical-align: middle;\n",
       "    }\n",
       "\n",
       "    .dataframe tbody tr th {\n",
       "        vertical-align: top;\n",
       "    }\n",
       "\n",
       "    .dataframe thead th {\n",
       "        text-align: right;\n",
       "    }\n",
       "</style>\n",
       "<table border=\"1\" class=\"dataframe\">\n",
       "  <thead>\n",
       "    <tr style=\"text-align: right;\">\n",
       "      <th></th>\n",
       "      <th>zen</th>\n",
       "      <th>dw_solar</th>\n",
       "      <th>uw_solar</th>\n",
       "      <th>direct_n</th>\n",
       "      <th>diffuse</th>\n",
       "      <th>dw_ir</th>\n",
       "      <th>dw_casetemp</th>\n",
       "      <th>dw_dometemp</th>\n",
       "      <th>uw_ir</th>\n",
       "      <th>uw_casetemp</th>\n",
       "      <th>...</th>\n",
       "      <th>netsolar</th>\n",
       "      <th>netir</th>\n",
       "      <th>totalnet</th>\n",
       "      <th>temp</th>\n",
       "      <th>rh</th>\n",
       "      <th>windspd</th>\n",
       "      <th>winddir</th>\n",
       "      <th>pressure</th>\n",
       "      <th>ghi</th>\n",
       "      <th>Kt</th>\n",
       "    </tr>\n",
       "    <tr>\n",
       "      <th>hour</th>\n",
       "      <th></th>\n",
       "      <th></th>\n",
       "      <th></th>\n",
       "      <th></th>\n",
       "      <th></th>\n",
       "      <th></th>\n",
       "      <th></th>\n",
       "      <th></th>\n",
       "      <th></th>\n",
       "      <th></th>\n",
       "      <th></th>\n",
       "      <th></th>\n",
       "      <th></th>\n",
       "      <th></th>\n",
       "      <th></th>\n",
       "      <th></th>\n",
       "      <th></th>\n",
       "      <th></th>\n",
       "      <th></th>\n",
       "      <th></th>\n",
       "      <th></th>\n",
       "    </tr>\n",
       "  </thead>\n",
       "  <tbody>\n",
       "    <tr>\n",
       "      <th>7.0</th>\n",
       "      <td>140.031091</td>\n",
       "      <td>-2.469091</td>\n",
       "      <td>-0.358182</td>\n",
       "      <td>2.360000</td>\n",
       "      <td>0.745455</td>\n",
       "      <td>195.056364</td>\n",
       "      <td>266.727273</td>\n",
       "      <td>266.285455</td>\n",
       "      <td>269.809091</td>\n",
       "      <td>265.814545</td>\n",
       "      <td>...</td>\n",
       "      <td>0.000000</td>\n",
       "      <td>-74.750909</td>\n",
       "      <td>-74.750909</td>\n",
       "      <td>-6.736364</td>\n",
       "      <td>72.103636</td>\n",
       "      <td>0.458182</td>\n",
       "      <td>193.252727</td>\n",
       "      <td>980.114545</td>\n",
       "      <td>75.495960</td>\n",
       "      <td>-0.036719</td>\n",
       "    </tr>\n",
       "    <tr>\n",
       "      <th>8.0</th>\n",
       "      <td>130.593167</td>\n",
       "      <td>-2.996667</td>\n",
       "      <td>-0.261667</td>\n",
       "      <td>5.101667</td>\n",
       "      <td>0.508333</td>\n",
       "      <td>194.861667</td>\n",
       "      <td>266.001667</td>\n",
       "      <td>265.620000</td>\n",
       "      <td>269.271667</td>\n",
       "      <td>264.505000</td>\n",
       "      <td>...</td>\n",
       "      <td>0.000000</td>\n",
       "      <td>-74.410000</td>\n",
       "      <td>-74.410000</td>\n",
       "      <td>-7.518333</td>\n",
       "      <td>77.925000</td>\n",
       "      <td>0.680000</td>\n",
       "      <td>205.293333</td>\n",
       "      <td>980.090000</td>\n",
       "      <td>232.239353</td>\n",
       "      <td>-0.013559</td>\n",
       "    </tr>\n",
       "    <tr>\n",
       "      <th>9.0</th>\n",
       "      <td>119.707500</td>\n",
       "      <td>-4.038333</td>\n",
       "      <td>-0.643333</td>\n",
       "      <td>4.806667</td>\n",
       "      <td>0.148333</td>\n",
       "      <td>195.403333</td>\n",
       "      <td>266.540000</td>\n",
       "      <td>266.166667</td>\n",
       "      <td>273.628333</td>\n",
       "      <td>264.931667</td>\n",
       "      <td>...</td>\n",
       "      <td>0.000000</td>\n",
       "      <td>-78.231667</td>\n",
       "      <td>-78.231667</td>\n",
       "      <td>-6.785000</td>\n",
       "      <td>75.850000</td>\n",
       "      <td>1.795000</td>\n",
       "      <td>260.378333</td>\n",
       "      <td>980.315000</td>\n",
       "      <td>404.694221</td>\n",
       "      <td>-0.010033</td>\n",
       "    </tr>\n",
       "    <tr>\n",
       "      <th>10.0</th>\n",
       "      <td>108.404667</td>\n",
       "      <td>-3.563333</td>\n",
       "      <td>-0.198333</td>\n",
       "      <td>2.993333</td>\n",
       "      <td>0.030000</td>\n",
       "      <td>197.165000</td>\n",
       "      <td>267.168333</td>\n",
       "      <td>266.723333</td>\n",
       "      <td>277.640000</td>\n",
       "      <td>265.658333</td>\n",
       "      <td>...</td>\n",
       "      <td>0.000000</td>\n",
       "      <td>-80.465000</td>\n",
       "      <td>-80.465000</td>\n",
       "      <td>-6.968333</td>\n",
       "      <td>77.696667</td>\n",
       "      <td>2.896667</td>\n",
       "      <td>294.021667</td>\n",
       "      <td>980.585000</td>\n",
       "      <td>540.919433</td>\n",
       "      <td>-0.006609</td>\n",
       "    </tr>\n",
       "    <tr>\n",
       "      <th>11.0</th>\n",
       "      <td>97.092500</td>\n",
       "      <td>-2.285000</td>\n",
       "      <td>0.116667</td>\n",
       "      <td>1.671667</td>\n",
       "      <td>1.081667</td>\n",
       "      <td>197.653333</td>\n",
       "      <td>266.230000</td>\n",
       "      <td>265.790000</td>\n",
       "      <td>273.118333</td>\n",
       "      <td>264.701667</td>\n",
       "      <td>...</td>\n",
       "      <td>0.703333</td>\n",
       "      <td>-75.468333</td>\n",
       "      <td>-74.763333</td>\n",
       "      <td>-8.111667</td>\n",
       "      <td>84.283333</td>\n",
       "      <td>1.836667</td>\n",
       "      <td>234.206667</td>\n",
       "      <td>980.305000</td>\n",
       "      <td>625.970675</td>\n",
       "      <td>-0.003699</td>\n",
       "    </tr>\n",
       "    <tr>\n",
       "      <th>12.0</th>\n",
       "      <td>85.866500</td>\n",
       "      <td>32.508333</td>\n",
       "      <td>9.730000</td>\n",
       "      <td>70.833333</td>\n",
       "      <td>29.548333</td>\n",
       "      <td>196.690000</td>\n",
       "      <td>265.670000</td>\n",
       "      <td>265.330000</td>\n",
       "      <td>273.705000</td>\n",
       "      <td>263.960000</td>\n",
       "      <td>...</td>\n",
       "      <td>29.581667</td>\n",
       "      <td>-77.023333</td>\n",
       "      <td>-47.456667</td>\n",
       "      <td>-8.293333</td>\n",
       "      <td>85.805000</td>\n",
       "      <td>0.763333</td>\n",
       "      <td>140.258333</td>\n",
       "      <td>980.138333</td>\n",
       "      <td>652.453536</td>\n",
       "      <td>0.049939</td>\n",
       "    </tr>\n",
       "    <tr>\n",
       "      <th>13.0</th>\n",
       "      <td>75.707667</td>\n",
       "      <td>210.618333</td>\n",
       "      <td>64.191667</td>\n",
       "      <td>636.253333</td>\n",
       "      <td>73.140000</td>\n",
       "      <td>198.428333</td>\n",
       "      <td>268.711667</td>\n",
       "      <td>268.348333</td>\n",
       "      <td>295.406667</td>\n",
       "      <td>265.903333</td>\n",
       "      <td>...</td>\n",
       "      <td>169.485000</td>\n",
       "      <td>-96.983333</td>\n",
       "      <td>72.503333</td>\n",
       "      <td>-5.795000</td>\n",
       "      <td>77.586667</td>\n",
       "      <td>1.020000</td>\n",
       "      <td>235.083333</td>\n",
       "      <td>980.205000</td>\n",
       "      <td>618.211997</td>\n",
       "      <td>0.343985</td>\n",
       "    </tr>\n",
       "    <tr>\n",
       "      <th>14.0</th>\n",
       "      <td>66.538667</td>\n",
       "      <td>390.026667</td>\n",
       "      <td>101.055000</td>\n",
       "      <td>775.546667</td>\n",
       "      <td>97.310000</td>\n",
       "      <td>202.463333</td>\n",
       "      <td>271.936667</td>\n",
       "      <td>271.526667</td>\n",
       "      <td>313.186667</td>\n",
       "      <td>269.253333</td>\n",
       "      <td>...</td>\n",
       "      <td>306.830000</td>\n",
       "      <td>-110.721667</td>\n",
       "      <td>196.103333</td>\n",
       "      <td>-3.860000</td>\n",
       "      <td>69.966667</td>\n",
       "      <td>0.835000</td>\n",
       "      <td>207.591667</td>\n",
       "      <td>980.203333</td>\n",
       "      <td>526.060053</td>\n",
       "      <td>0.751055</td>\n",
       "    </tr>\n",
       "    <tr>\n",
       "      <th>15.0</th>\n",
       "      <td>59.110333</td>\n",
       "      <td>552.710000</td>\n",
       "      <td>133.133333</td>\n",
       "      <td>867.756667</td>\n",
       "      <td>115.838333</td>\n",
       "      <td>209.016667</td>\n",
       "      <td>274.416667</td>\n",
       "      <td>273.986667</td>\n",
       "      <td>331.186667</td>\n",
       "      <td>271.878333</td>\n",
       "      <td>...</td>\n",
       "      <td>428.315000</td>\n",
       "      <td>-122.181667</td>\n",
       "      <td>306.143333</td>\n",
       "      <td>-2.396667</td>\n",
       "      <td>63.925000</td>\n",
       "      <td>1.126667</td>\n",
       "      <td>202.361667</td>\n",
       "      <td>979.830000</td>\n",
       "      <td>384.153979</td>\n",
       "      <td>1.473137</td>\n",
       "    </tr>\n",
       "    <tr>\n",
       "      <th>16.0</th>\n",
       "      <td>54.222000</td>\n",
       "      <td>620.096667</td>\n",
       "      <td>147.301667</td>\n",
       "      <td>827.500000</td>\n",
       "      <td>139.430000</td>\n",
       "      <td>213.890000</td>\n",
       "      <td>275.918333</td>\n",
       "      <td>275.506667</td>\n",
       "      <td>343.101667</td>\n",
       "      <td>273.151667</td>\n",
       "      <td>...</td>\n",
       "      <td>476.185000</td>\n",
       "      <td>-129.215000</td>\n",
       "      <td>346.971667</td>\n",
       "      <td>-1.636667</td>\n",
       "      <td>60.098333</td>\n",
       "      <td>1.731667</td>\n",
       "      <td>214.810000</td>\n",
       "      <td>979.293333</td>\n",
       "      <td>209.013003</td>\n",
       "      <td>3.211572</td>\n",
       "    </tr>\n",
       "    <tr>\n",
       "      <th>17.0</th>\n",
       "      <td>52.557917</td>\n",
       "      <td>641.820833</td>\n",
       "      <td>151.570833</td>\n",
       "      <td>843.958333</td>\n",
       "      <td>132.360417</td>\n",
       "      <td>215.918750</td>\n",
       "      <td>277.354167</td>\n",
       "      <td>276.941667</td>\n",
       "      <td>351.164583</td>\n",
       "      <td>274.708333</td>\n",
       "      <td>...</td>\n",
       "      <td>493.879167</td>\n",
       "      <td>-135.239583</td>\n",
       "      <td>358.635417</td>\n",
       "      <td>-0.281250</td>\n",
       "      <td>51.289583</td>\n",
       "      <td>1.729167</td>\n",
       "      <td>266.472917</td>\n",
       "      <td>978.422917</td>\n",
       "      <td>65.876009</td>\n",
       "      <td>11.914275</td>\n",
       "    </tr>\n",
       "  </tbody>\n",
       "</table>\n",
       "<p>11 rows × 23 columns</p>\n",
       "</div>"
      ],
      "text/plain": [
       "             zen    dw_solar    uw_solar    direct_n     diffuse       dw_ir  \\\n",
       "hour                                                                           \n",
       "7.0   140.031091   -2.469091   -0.358182    2.360000    0.745455  195.056364   \n",
       "8.0   130.593167   -2.996667   -0.261667    5.101667    0.508333  194.861667   \n",
       "9.0   119.707500   -4.038333   -0.643333    4.806667    0.148333  195.403333   \n",
       "10.0  108.404667   -3.563333   -0.198333    2.993333    0.030000  197.165000   \n",
       "11.0   97.092500   -2.285000    0.116667    1.671667    1.081667  197.653333   \n",
       "12.0   85.866500   32.508333    9.730000   70.833333   29.548333  196.690000   \n",
       "13.0   75.707667  210.618333   64.191667  636.253333   73.140000  198.428333   \n",
       "14.0   66.538667  390.026667  101.055000  775.546667   97.310000  202.463333   \n",
       "15.0   59.110333  552.710000  133.133333  867.756667  115.838333  209.016667   \n",
       "16.0   54.222000  620.096667  147.301667  827.500000  139.430000  213.890000   \n",
       "17.0   52.557917  641.820833  151.570833  843.958333  132.360417  215.918750   \n",
       "\n",
       "      dw_casetemp  dw_dometemp       uw_ir  uw_casetemp    ...      \\\n",
       "hour                                                       ...       \n",
       "7.0    266.727273   266.285455  269.809091   265.814545    ...       \n",
       "8.0    266.001667   265.620000  269.271667   264.505000    ...       \n",
       "9.0    266.540000   266.166667  273.628333   264.931667    ...       \n",
       "10.0   267.168333   266.723333  277.640000   265.658333    ...       \n",
       "11.0   266.230000   265.790000  273.118333   264.701667    ...       \n",
       "12.0   265.670000   265.330000  273.705000   263.960000    ...       \n",
       "13.0   268.711667   268.348333  295.406667   265.903333    ...       \n",
       "14.0   271.936667   271.526667  313.186667   269.253333    ...       \n",
       "15.0   274.416667   273.986667  331.186667   271.878333    ...       \n",
       "16.0   275.918333   275.506667  343.101667   273.151667    ...       \n",
       "17.0   277.354167   276.941667  351.164583   274.708333    ...       \n",
       "\n",
       "        netsolar       netir    totalnet      temp         rh   windspd  \\\n",
       "hour                                                                      \n",
       "7.0     0.000000  -74.750909  -74.750909 -6.736364  72.103636  0.458182   \n",
       "8.0     0.000000  -74.410000  -74.410000 -7.518333  77.925000  0.680000   \n",
       "9.0     0.000000  -78.231667  -78.231667 -6.785000  75.850000  1.795000   \n",
       "10.0    0.000000  -80.465000  -80.465000 -6.968333  77.696667  2.896667   \n",
       "11.0    0.703333  -75.468333  -74.763333 -8.111667  84.283333  1.836667   \n",
       "12.0   29.581667  -77.023333  -47.456667 -8.293333  85.805000  0.763333   \n",
       "13.0  169.485000  -96.983333   72.503333 -5.795000  77.586667  1.020000   \n",
       "14.0  306.830000 -110.721667  196.103333 -3.860000  69.966667  0.835000   \n",
       "15.0  428.315000 -122.181667  306.143333 -2.396667  63.925000  1.126667   \n",
       "16.0  476.185000 -129.215000  346.971667 -1.636667  60.098333  1.731667   \n",
       "17.0  493.879167 -135.239583  358.635417 -0.281250  51.289583  1.729167   \n",
       "\n",
       "         winddir    pressure         ghi         Kt  \n",
       "hour                                                 \n",
       "7.0   193.252727  980.114545   75.495960  -0.036719  \n",
       "8.0   205.293333  980.090000  232.239353  -0.013559  \n",
       "9.0   260.378333  980.315000  404.694221  -0.010033  \n",
       "10.0  294.021667  980.585000  540.919433  -0.006609  \n",
       "11.0  234.206667  980.305000  625.970675  -0.003699  \n",
       "12.0  140.258333  980.138333  652.453536   0.049939  \n",
       "13.0  235.083333  980.205000  618.211997   0.343985  \n",
       "14.0  207.591667  980.203333  526.060053   0.751055  \n",
       "15.0  202.361667  979.830000  384.153979   1.473137  \n",
       "16.0  214.810000  979.293333  209.013003   3.211572  \n",
       "17.0  266.472917  978.422917   65.876009  11.914275  \n",
       "\n",
       "[11 rows x 23 columns]"
      ]
     },
     "execution_count": 58,
     "metadata": {},
     "output_type": "execute_result"
    }
   ],
   "source": [
    "df_new_test.loc[2].xs(17,level='day')"
   ]
  },
  {
   "cell_type": "markdown",
   "metadata": {},
   "source": [
    "### Shifting Kt values to make 1 hour ahead forecast"
   ]
  },
  {
   "cell_type": "markdown",
   "metadata": {},
   "source": [
    "#### Train dataset"
   ]
  },
  {
   "cell_type": "code",
   "execution_count": 59,
   "metadata": {},
   "outputs": [],
   "source": [
    "levels_index= []\n",
    "for m in df_new_train.index.levels:\n",
    "    levels_index.append(m)"
   ]
  },
  {
   "cell_type": "code",
   "execution_count": 60,
   "metadata": {
    "scrolled": true
   },
   "outputs": [],
   "source": [
    "for i in levels_index[0]:\n",
    "    for j in levels_index[1]:\n",
    "        df_new_train.loc[i].loc[j]['Kt'] = df_new_train.loc[i].loc[j]['Kt'].shift(-1)"
   ]
  },
  {
   "cell_type": "code",
   "execution_count": 61,
   "metadata": {},
   "outputs": [],
   "source": [
    "df_new_train = df_new_train[~(df_new_train['Kt'].isnull())]"
   ]
  },
  {
   "cell_type": "markdown",
   "metadata": {},
   "source": [
    "#### Test dataset"
   ]
  },
  {
   "cell_type": "code",
   "execution_count": 62,
   "metadata": {},
   "outputs": [],
   "source": [
    "levels_index2= []\n",
    "for m in df_new_test.index.levels:\n",
    "    levels_index2.append(m)"
   ]
  },
  {
   "cell_type": "code",
   "execution_count": 63,
   "metadata": {},
   "outputs": [],
   "source": [
    "for i in levels_index2[0]:\n",
    "    for j in levels_index2[1]:\n",
    "        df_new_test.loc[i].loc[j]['Kt'] = df_new_test.loc[i].loc[j]['Kt'].shift(-1)"
   ]
  },
  {
   "cell_type": "code",
   "execution_count": 64,
   "metadata": {},
   "outputs": [],
   "source": [
    "df_new_test = df_new_test[~(df_new_test['Kt'].isnull())]"
   ]
  },
  {
   "cell_type": "code",
   "execution_count": 65,
   "metadata": {},
   "outputs": [
    {
     "data": {
      "text/html": [
       "<div>\n",
       "<style scoped>\n",
       "    .dataframe tbody tr th:only-of-type {\n",
       "        vertical-align: middle;\n",
       "    }\n",
       "\n",
       "    .dataframe tbody tr th {\n",
       "        vertical-align: top;\n",
       "    }\n",
       "\n",
       "    .dataframe thead th {\n",
       "        text-align: right;\n",
       "    }\n",
       "</style>\n",
       "<table border=\"1\" class=\"dataframe\">\n",
       "  <thead>\n",
       "    <tr style=\"text-align: right;\">\n",
       "      <th></th>\n",
       "      <th></th>\n",
       "      <th></th>\n",
       "      <th>zen</th>\n",
       "      <th>dw_solar</th>\n",
       "      <th>uw_solar</th>\n",
       "      <th>direct_n</th>\n",
       "      <th>diffuse</th>\n",
       "      <th>dw_ir</th>\n",
       "      <th>dw_casetemp</th>\n",
       "      <th>dw_dometemp</th>\n",
       "      <th>uw_ir</th>\n",
       "      <th>uw_casetemp</th>\n",
       "      <th>...</th>\n",
       "      <th>netsolar</th>\n",
       "      <th>netir</th>\n",
       "      <th>totalnet</th>\n",
       "      <th>temp</th>\n",
       "      <th>rh</th>\n",
       "      <th>windspd</th>\n",
       "      <th>winddir</th>\n",
       "      <th>pressure</th>\n",
       "      <th>ghi</th>\n",
       "      <th>Kt</th>\n",
       "    </tr>\n",
       "    <tr>\n",
       "      <th>month</th>\n",
       "      <th>day</th>\n",
       "      <th>hour</th>\n",
       "      <th></th>\n",
       "      <th></th>\n",
       "      <th></th>\n",
       "      <th></th>\n",
       "      <th></th>\n",
       "      <th></th>\n",
       "      <th></th>\n",
       "      <th></th>\n",
       "      <th></th>\n",
       "      <th></th>\n",
       "      <th></th>\n",
       "      <th></th>\n",
       "      <th></th>\n",
       "      <th></th>\n",
       "      <th></th>\n",
       "      <th></th>\n",
       "      <th></th>\n",
       "      <th></th>\n",
       "      <th></th>\n",
       "      <th></th>\n",
       "      <th></th>\n",
       "    </tr>\n",
       "  </thead>\n",
       "  <tbody>\n",
       "    <tr>\n",
       "      <th>4.0</th>\n",
       "      <th>25.0</th>\n",
       "      <th>19.0</th>\n",
       "      <td>40.905667</td>\n",
       "      <td>716.2</td>\n",
       "      <td>155.285</td>\n",
       "      <td>619.01</td>\n",
       "      <td>237.966667</td>\n",
       "      <td>367.16</td>\n",
       "      <td>305.678333</td>\n",
       "      <td>305.183333</td>\n",
       "      <td>467.875</td>\n",
       "      <td>302.241667</td>\n",
       "      <td>...</td>\n",
       "      <td>545.25</td>\n",
       "      <td>-100.713333</td>\n",
       "      <td>444.538333</td>\n",
       "      <td>28.386667</td>\n",
       "      <td>26.458333</td>\n",
       "      <td>8.356667</td>\n",
       "      <td>239.461667</td>\n",
       "      <td>977.11</td>\n",
       "      <td>56.981915</td>\n",
       "      <td>653.28121</td>\n",
       "    </tr>\n",
       "  </tbody>\n",
       "</table>\n",
       "<p>1 rows × 23 columns</p>\n",
       "</div>"
      ],
      "text/plain": [
       "                       zen  dw_solar  uw_solar  direct_n     diffuse   dw_ir  \\\n",
       "month day  hour                                                                \n",
       "4.0   25.0 19.0  40.905667     716.2   155.285    619.01  237.966667  367.16   \n",
       "\n",
       "                 dw_casetemp  dw_dometemp    uw_ir  uw_casetemp    ...      \\\n",
       "month day  hour                                                    ...       \n",
       "4.0   25.0 19.0   305.678333   305.183333  467.875   302.241667    ...       \n",
       "\n",
       "                 netsolar       netir    totalnet       temp         rh  \\\n",
       "month day  hour                                                           \n",
       "4.0   25.0 19.0    545.25 -100.713333  444.538333  28.386667  26.458333   \n",
       "\n",
       "                  windspd     winddir  pressure        ghi         Kt  \n",
       "month day  hour                                                        \n",
       "4.0   25.0 19.0  8.356667  239.461667    977.11  56.981915  653.28121  \n",
       "\n",
       "[1 rows x 23 columns]"
      ]
     },
     "execution_count": 65,
     "metadata": {},
     "output_type": "execute_result"
    }
   ],
   "source": [
    "df_new_test[df_new_test['Kt']==df_new_test['Kt'].max()]"
   ]
  },
  {
   "cell_type": "markdown",
   "metadata": {},
   "source": [
    "### Normalize train and test dataframe"
   ]
  },
  {
   "cell_type": "code",
   "execution_count": 66,
   "metadata": {},
   "outputs": [],
   "source": [
    "train_norm = (df_new_train - df_new_train.mean()) / (df_new_train.max() - df_new_train.min())\n",
    "test_norm =  (df_new_test - df_new_test.mean()) / (df_new_test.max() - df_new_test.min())"
   ]
  },
  {
   "cell_type": "code",
   "execution_count": 67,
   "metadata": {},
   "outputs": [],
   "source": [
    "train_norm.reset_index(inplace=True,drop=True)\n",
    "test_norm.reset_index(inplace=True,drop=True)"
   ]
  },
  {
   "cell_type": "markdown",
   "metadata": {
    "collapsed": true
   },
   "source": [
    "### Making train and test sets with train_norm and test_norm"
   ]
  },
  {
   "cell_type": "markdown",
   "metadata": {
    "collapsed": true
   },
   "source": [
    "#### finding the gcf (greatest common factor) of train and test dataset's length and chop off the extra rows to make it divisible with the batchsize"
   ]
  },
  {
   "cell_type": "code",
   "execution_count": 68,
   "metadata": {},
   "outputs": [
    {
     "name": "stderr",
     "output_type": "stream",
     "text": [
      "C:\\Users\\s269596\\AppData\\Local\\Continuum\\Anaconda3\\lib\\site-packages\\ipykernel_launcher.py:2: DeprecationWarning: fractions.gcd() is deprecated. Use math.gcd() instead.\n",
      "  \n"
     ]
    },
    {
     "data": {
      "text/plain": [
       "1"
      ]
     },
     "execution_count": 68,
     "metadata": {},
     "output_type": "execute_result"
    }
   ],
   "source": [
    "from fractions import gcd\n",
    "gcd(train_norm.shape[0],test_norm.shape[0])"
   ]
  },
  {
   "cell_type": "code",
   "execution_count": 69,
   "metadata": {},
   "outputs": [],
   "source": [
    "import math\n",
    "def roundup(x):\n",
    "    return int(math.ceil(x / 100.0)) * 100"
   ]
  },
  {
   "cell_type": "code",
   "execution_count": 70,
   "metadata": {},
   "outputs": [],
   "source": [
    "train_lim = roundup(train_norm.shape[0])\n",
    "test_lim = roundup(test_norm.shape[0])\n",
    "\n",
    "train_random = train_norm.sample(train_lim-train_norm.shape[0])\n",
    "test_random = test_norm.sample(test_lim-test_norm.shape[0])\n",
    "\n",
    "train_norm = train_norm.append(train_random)\n",
    "test_norm = test_norm.append(test_random)"
   ]
  },
  {
   "cell_type": "code",
   "execution_count": 71,
   "metadata": {},
   "outputs": [],
   "source": [
    "X1 = train_norm.drop('Kt',axis=1)\n",
    "y1 = train_norm['Kt']\n",
    "\n",
    "X2 = test_norm.drop('Kt',axis=1)\n",
    "y2 = test_norm['Kt']"
   ]
  },
  {
   "cell_type": "code",
   "execution_count": 72,
   "metadata": {
    "scrolled": true
   },
   "outputs": [
    {
     "name": "stdout",
     "output_type": "stream",
     "text": [
      "X1_train shape is (9500, 22)\n",
      "y1_train shape is (9500,)\n",
      "X2_test shape is (4300, 22)\n",
      "y2_test shape is (4300,)\n"
     ]
    }
   ],
   "source": [
    "print(\"X1_train shape is {}\".format(X1.shape))\n",
    "print(\"y1_train shape is {}\".format(y1.shape))\n",
    "print(\"X2_test shape is {}\".format(X2.shape))\n",
    "print(\"y2_test shape is {}\".format(y2.shape))"
   ]
  },
  {
   "cell_type": "code",
   "execution_count": 73,
   "metadata": {},
   "outputs": [],
   "source": [
    "X_train = np.array(X1)\n",
    "y_train  = np.array(y1)\n",
    "X_test = np.array(X2)\n",
    "y_test = np.array(y2)"
   ]
  },
  {
   "cell_type": "markdown",
   "metadata": {},
   "source": [
    "### start of RNN"
   ]
  },
  {
   "cell_type": "code",
   "execution_count": 74,
   "metadata": {},
   "outputs": [],
   "source": [
    "import torch\n",
    "import torch.nn as nn\n",
    "import torchvision.transforms as transforms\n",
    "import torchvision.datasets as dsets\n",
    "from torch.autograd import Variable"
   ]
  },
  {
   "cell_type": "code",
   "execution_count": 75,
   "metadata": {},
   "outputs": [],
   "source": [
    "class RNNModel(nn.Module):\n",
    "    def __init__(self, input_dim, hidden_dim, layer_dim, output_dim):\n",
    "        super(RNNModel, self).__init__()\n",
    "        #Hidden Dimension\n",
    "        self.hidden_dim = hidden_dim\n",
    "        \n",
    "        # Number of hidden layers\n",
    "        self.layer_dim = layer_dim\n",
    "        \n",
    "        #Building the RNN\n",
    "        self.rnn = nn.RNN(input_dim, hidden_dim, layer_dim, batch_first=True, nonlinearity='relu')\n",
    "        \n",
    "        # Readout layer\n",
    "        self.fc = nn.Linear(hidden_dim, output_dim)\n",
    "        \n",
    "    def forward(self, x):\n",
    "        # Initializing the hidden state with zeros\n",
    "        # (layer_dim, batch_size, hidden_dim)\n",
    "        h0 = Variable(torch.zeros(self.layer_dim, x.size(0), self.hidden_dim))\n",
    "        \n",
    "        #One time step (the last one perhaps?)\n",
    "        out, hn = self.rnn(x, h0)\n",
    "        \n",
    "        # Indexing hidden state of the last time step\n",
    "        # out.size() --> ??\n",
    "        #out[:,-1,:] --> is it going to be 100,100\n",
    "        out = self.fc(out[:,-1,:])\n",
    "        # out.size() --> 100,1\n",
    "        return out\n",
    "        "
   ]
  },
  {
   "cell_type": "code",
   "execution_count": 76,
   "metadata": {},
   "outputs": [],
   "source": [
    "# Instantiating Model Class\n",
    "input_dim = 22\n",
    "hidden_dim = 15\n",
    "layer_dim = 1\n",
    "output_dim = 1\n",
    "batch_size = 100\n",
    "\n",
    "model = RNNModel(input_dim, hidden_dim, layer_dim, output_dim)\n",
    "\n",
    "# Instantiating Loss Class\n",
    "criterion = nn.MSELoss()\n",
    "\n",
    "# Instantiate Optimizer Class\n",
    "learning_rate = 0.001\n",
    "optimizer = torch.optim.SGD(model.parameters(), lr=learning_rate)\n",
    "\n",
    "# converting numpy array to torch tensor\n",
    "X_train = torch.from_numpy(X_train)\n",
    "y_train = torch.from_numpy(y_train)\n",
    "X_test = torch.from_numpy(X_test)\n",
    "y_test = torch.from_numpy(y_test)\n",
    "\n",
    "# initializing lists to store losses over epochs:\n",
    "train_loss = []\n",
    "test_loss = []\n",
    "train_iter = []\n",
    "test_iter = []"
   ]
  },
  {
   "cell_type": "code",
   "execution_count": 77,
   "metadata": {
    "scrolled": true
   },
   "outputs": [
    {
     "name": "stdout",
     "output_type": "stream",
     "text": [
      "Epoch: 1 Iteration: 100. Train_MSE: 0.028208661824464798. Test_MSE: 0.0016418469570261855\n",
      "Epoch: 2 Iteration: 200. Train_MSE: 0.009980670176446438. Test_MSE: 0.0012878175896386518\n",
      "Epoch: 3 Iteration: 300. Train_MSE: 0.00800530519336462. Test_MSE: 0.001018010062917056\n",
      "Epoch: 4 Iteration: 400. Train_MSE: 0.005861345678567886. Test_MSE: 0.0008109801337305236\n",
      "Epoch: 5 Iteration: 500. Train_MSE: 0.004169951193034649. Test_MSE: 0.0006536641548952814\n",
      "Epoch: 6 Iteration: 600. Train_MSE: 0.002888463670387864. Test_MSE: 0.0005334033601121986\n",
      "Epoch: 7 Iteration: 700. Train_MSE: 0.003486395813524723. Test_MSE: 0.00044274769679127014\n",
      "Epoch: 8 Iteration: 800. Train_MSE: 0.0014016706263646483. Test_MSE: 0.00037372784914713403\n",
      "Epoch: 9 Iteration: 900. Train_MSE: 0.0008718466851860285. Test_MSE: 0.0003231290380236176\n",
      "Epoch: 10 Iteration: 1000. Train_MSE: 0.0005403953837230802. Test_MSE: 0.00028797223342450276\n",
      "Epoch: 11 Iteration: 1100. Train_MSE: 0.0011389341671019793. Test_MSE: 0.00026299144367145647\n",
      "Epoch: 12 Iteration: 1200. Train_MSE: 0.000969496148172766. Test_MSE: 0.0002451283151808792\n",
      "Epoch: 13 Iteration: 1300. Train_MSE: 0.0014482715632766485. Test_MSE: 0.00023225582278378092\n",
      "Epoch: 14 Iteration: 1400. Train_MSE: 0.0009893049718812108. Test_MSE: 0.00022242334904833797\n",
      "Epoch: 15 Iteration: 1500. Train_MSE: 0.0005324046942405403. Test_MSE: 0.00021585504523103562\n",
      "Epoch: 17 Iteration: 1600. Train_MSE: 0.0005823256215080619. Test_MSE: 0.0002103838752185573\n",
      "Epoch: 18 Iteration: 1700. Train_MSE: 0.00042006332660093904. Test_MSE: 0.00020651246707472905\n",
      "Epoch: 19 Iteration: 1800. Train_MSE: 0.0007819966413080692. Test_MSE: 0.00020485634302152894\n",
      "Epoch: 20 Iteration: 1900. Train_MSE: 0.0008402965031564236. Test_MSE: 0.00020312563990432315\n",
      "Epoch: 21 Iteration: 2000. Train_MSE: 0.0017634662799537182. Test_MSE: 0.00020175086938418674\n",
      "Epoch: 22 Iteration: 2100. Train_MSE: 0.004368652123957872. Test_MSE: 0.00020031946896229263\n",
      "Epoch: 23 Iteration: 2200. Train_MSE: 0.0036214112769812346. Test_MSE: 0.00019924202047173135\n",
      "Epoch: 24 Iteration: 2300. Train_MSE: 0.0003925511846318841. Test_MSE: 0.00019833834861168701\n",
      "Epoch: 25 Iteration: 2400. Train_MSE: 0.0005018249503336847. Test_MSE: 0.00019716616061637434\n",
      "Epoch: 26 Iteration: 2500. Train_MSE: 0.0006189782870933414. Test_MSE: 0.00019649085062080604\n",
      "Epoch: 27 Iteration: 2600. Train_MSE: 0.0006789485341869295. Test_MSE: 0.00019608593095705348\n",
      "Epoch: 28 Iteration: 2700. Train_MSE: 0.0009243064559996128. Test_MSE: 0.00019570276364486375\n",
      "Epoch: 29 Iteration: 2800. Train_MSE: 0.0015495982952415943. Test_MSE: 0.00019528429555530535\n",
      "Epoch: 30 Iteration: 2900. Train_MSE: 0.00854497216641903. Test_MSE: 0.00019466586420789408\n",
      "Epoch: 31 Iteration: 3000. Train_MSE: 0.0007374542765319347. Test_MSE: 0.0001941859860575991\n",
      "Epoch: 32 Iteration: 3100. Train_MSE: 0.00029195958632044494. Test_MSE: 0.00019382097087641552\n",
      "Epoch: 34 Iteration: 3200. Train_MSE: 0.0003011803200934082. Test_MSE: 0.0001933245360677825\n",
      "Epoch: 35 Iteration: 3300. Train_MSE: 0.0006818012916482985. Test_MSE: 0.00019294697566850873\n",
      "Epoch: 36 Iteration: 3400. Train_MSE: 0.0009881611913442612. Test_MSE: 0.00019288151653776953\n",
      "Epoch: 37 Iteration: 3500. Train_MSE: 0.0010147717548534274. Test_MSE: 0.00019265917553740056\n",
      "Epoch: 38 Iteration: 3600. Train_MSE: 0.0012212690198794007. Test_MSE: 0.00019242704937964009\n",
      "Epoch: 39 Iteration: 3700. Train_MSE: 0.0008760278578847647. Test_MSE: 0.00019209275997884693\n",
      "Epoch: 40 Iteration: 3800. Train_MSE: 0.0003800894774030894. Test_MSE: 0.00019179807970646142\n",
      "Epoch: 41 Iteration: 3900. Train_MSE: 0.0006294864579103887. Test_MSE: 0.00019146288415222676\n",
      "Epoch: 42 Iteration: 4000. Train_MSE: 0.00042307577678002417. Test_MSE: 0.00019109074368880107\n",
      "Epoch: 43 Iteration: 4100. Train_MSE: 0.0004100065561942756. Test_MSE: 0.00019087387640779187\n",
      "Epoch: 44 Iteration: 4200. Train_MSE: 0.0010659140534698963. Test_MSE: 0.0001907013070554011\n",
      "Epoch: 45 Iteration: 4300. Train_MSE: 0.0006282105459831655. Test_MSE: 0.0001904944902911177\n",
      "Epoch: 46 Iteration: 4400. Train_MSE: 0.0006084375781938434. Test_MSE: 0.00019026770955180006\n",
      "Epoch: 47 Iteration: 4500. Train_MSE: 0.0008837177883833647. Test_MSE: 0.00018994222476170227\n",
      "Epoch: 48 Iteration: 4600. Train_MSE: 0.00038008924457244575. Test_MSE: 0.00018969492854974747\n",
      "Epoch: 49 Iteration: 4700. Train_MSE: 0.0003696159983519465. Test_MSE: 0.0001894562519056575\n",
      "Epoch: 51 Iteration: 4800. Train_MSE: 0.0005805643158964813. Test_MSE: 0.0001891806472775863\n",
      "Epoch: 52 Iteration: 4900. Train_MSE: 0.000841538596432656. Test_MSE: 0.00018900585118703447\n",
      "Epoch: 53 Iteration: 5000. Train_MSE: 0.0010846174554899335. Test_MSE: 0.0001888386481256329\n",
      "Epoch: 54 Iteration: 5100. Train_MSE: 0.0007624545833095908. Test_MSE: 0.00018863499433354491\n",
      "Epoch: 55 Iteration: 5200. Train_MSE: 0.0007507805712521076. Test_MSE: 0.00018843453463783841\n",
      "Epoch: 56 Iteration: 5300. Train_MSE: 0.0006533930427394807. Test_MSE: 0.00018820829124181144\n",
      "Epoch: 57 Iteration: 5400. Train_MSE: 0.002377172466367483. Test_MSE: 0.0001879809036554206\n",
      "Epoch: 58 Iteration: 5500. Train_MSE: 0.00035452519659884274. Test_MSE: 0.00018774289544634925\n",
      "Epoch: 59 Iteration: 5600. Train_MSE: 0.0005664691561833024. Test_MSE: 0.0001875113246712241\n",
      "Epoch: 60 Iteration: 5700. Train_MSE: 0.00043315623770467937. Test_MSE: 0.0001872968310184463\n",
      "Epoch: 61 Iteration: 5800. Train_MSE: 0.0005836265627294779. Test_MSE: 0.00018710409062290762\n",
      "Epoch: 62 Iteration: 5900. Train_MSE: 0.0005005482817068696. Test_MSE: 0.00018691835494756944\n",
      "Epoch: 63 Iteration: 6000. Train_MSE: 0.0011365421814844012. Test_MSE: 0.00018672578991744634\n",
      "Epoch: 64 Iteration: 6100. Train_MSE: 0.000615229073446244. Test_MSE: 0.00018652471552169471\n",
      "Epoch: 65 Iteration: 6200. Train_MSE: 0.00037688587326556444. Test_MSE: 0.00018630971908155811\n",
      "Epoch: 67 Iteration: 6300. Train_MSE: 0.0003709192096721381. Test_MSE: 0.00018611546262698288\n",
      "Epoch: 68 Iteration: 6400. Train_MSE: 0.0005156132392585278. Test_MSE: 0.00018590156667663144\n",
      "Epoch: 69 Iteration: 6500. Train_MSE: 0.0005642902688123286. Test_MSE: 0.00018565530725899322\n",
      "Epoch: 70 Iteration: 6600. Train_MSE: 0.000469640945084393. Test_MSE: 0.00018545420378480724\n",
      "Epoch: 71 Iteration: 6700. Train_MSE: 0.00098792661447078. Test_MSE: 0.00018526729359625508\n",
      "Epoch: 72 Iteration: 6800. Train_MSE: 0.0043260203674435616. Test_MSE: 0.00018508956319217772\n",
      "Epoch: 73 Iteration: 6900. Train_MSE: 0.003591702552512288. Test_MSE: 0.0001849032867976892\n",
      "Epoch: 74 Iteration: 7000. Train_MSE: 0.0002595523255877197. Test_MSE: 0.0001846761761071289\n",
      "Epoch: 75 Iteration: 7100. Train_MSE: 0.0004346272035036236. Test_MSE: 0.00018451433925146347\n",
      "Epoch: 76 Iteration: 7200. Train_MSE: 0.00044374074786901474. Test_MSE: 0.00018428542762831773\n",
      "Epoch: 77 Iteration: 7300. Train_MSE: 0.0005103391013108194. Test_MSE: 0.0001840467602278483\n",
      "Epoch: 78 Iteration: 7400. Train_MSE: 0.0005295645096339285. Test_MSE: 0.00018384557191886337\n",
      "Epoch: 79 Iteration: 7500. Train_MSE: 0.0010251854546368122. Test_MSE: 0.00018366288784795888\n",
      "Epoch: 80 Iteration: 7600. Train_MSE: 0.008613325655460358. Test_MSE: 0.00018351534928094733\n",
      "Epoch: 81 Iteration: 7700. Train_MSE: 0.0005114746745675802. Test_MSE: 0.00018333130846140457\n",
      "Epoch: 82 Iteration: 7800. Train_MSE: 0.0002402717072982341. Test_MSE: 0.00018309527084328384\n",
      "Epoch: 84 Iteration: 7900. Train_MSE: 0.00030852737836539745. Test_MSE: 0.00018290623483434635\n",
      "Epoch: 85 Iteration: 8000. Train_MSE: 0.0004868101968895644. Test_MSE: 0.0001826937715127929\n",
      "Epoch: 86 Iteration: 8100. Train_MSE: 0.0007906630635261536. Test_MSE: 0.00018239700723334502\n",
      "Epoch: 87 Iteration: 8200. Train_MSE: 0.0007205199217423797. Test_MSE: 0.00018217780378742036\n",
      "Epoch: 88 Iteration: 8300. Train_MSE: 0.0008631279924884439. Test_MSE: 0.00018198927932309896\n",
      "Epoch: 89 Iteration: 8400. Train_MSE: 0.0005664074560627341. Test_MSE: 0.00018182602819585952\n",
      "Epoch: 90 Iteration: 8500. Train_MSE: 0.0003233840980101377. Test_MSE: 0.0001816299702644886\n",
      "Epoch: 91 Iteration: 8600. Train_MSE: 0.0004852657439187169. Test_MSE: 0.00018141978645776915\n",
      "Epoch: 92 Iteration: 8700. Train_MSE: 0.00038242622395046055. Test_MSE: 0.0001812665688525515\n",
      "Epoch: 93 Iteration: 8800. Train_MSE: 0.00032906365231610835. Test_MSE: 0.00018098374045666588\n"
     ]
    },
    {
     "name": "stdout",
     "output_type": "stream",
     "text": [
      "Epoch: 94 Iteration: 8900. Train_MSE: 0.0009068276849575341. Test_MSE: 0.00018071607469116076\n",
      "Epoch: 95 Iteration: 9000. Train_MSE: 0.0004796800494659692. Test_MSE: 0.0001805153746314505\n",
      "Epoch: 96 Iteration: 9100. Train_MSE: 0.0005019495729357004. Test_MSE: 0.000180334957069842\n",
      "Epoch: 97 Iteration: 9200. Train_MSE: 0.000659007637295872. Test_MSE: 0.00018021506566946827\n",
      "Epoch: 98 Iteration: 9300. Train_MSE: 0.00030736048938706517. Test_MSE: 0.00018000834401375908\n",
      "Epoch: 99 Iteration: 9400. Train_MSE: 0.00025792577071115375. Test_MSE: 0.00017975570695763737\n",
      "Epoch: 101 Iteration: 9500. Train_MSE: 0.0005149721400812268. Test_MSE: 0.00017959435744601773\n",
      "Epoch: 102 Iteration: 9600. Train_MSE: 0.0006659214850515127. Test_MSE: 0.00017928128788761137\n",
      "Epoch: 103 Iteration: 9700. Train_MSE: 0.0009693835163488984. Test_MSE: 0.00017897032393884304\n",
      "Epoch: 104 Iteration: 9800. Train_MSE: 0.0005889995372854173. Test_MSE: 0.00017877245371695672\n",
      "Epoch: 105 Iteration: 9900. Train_MSE: 0.0005965650198049843. Test_MSE: 0.0001785855751160969\n",
      "Epoch: 106 Iteration: 10000. Train_MSE: 0.0005212054238654673. Test_MSE: 0.0001784205489735399\n",
      "Epoch: 107 Iteration: 10100. Train_MSE: 0.002340942621231079. Test_MSE: 0.00017820958830126998\n",
      "Epoch: 108 Iteration: 10200. Train_MSE: 0.00031409424263983965. Test_MSE: 0.00017801927934611622\n",
      "Epoch: 109 Iteration: 10300. Train_MSE: 0.0005447318544611335. Test_MSE: 0.00017782930078055534\n",
      "Epoch: 110 Iteration: 10400. Train_MSE: 0.0003562407218851149. Test_MSE: 0.0001775319978144283\n",
      "Epoch: 111 Iteration: 10500. Train_MSE: 0.0004535850021056831. Test_MSE: 0.00017728073092242836\n",
      "Epoch: 112 Iteration: 10600. Train_MSE: 0.0004119649820495397. Test_MSE: 0.00017709336801996505\n",
      "Epoch: 113 Iteration: 10700. Train_MSE: 0.0011071149492636323. Test_MSE: 0.00017692927895366313\n",
      "Epoch: 114 Iteration: 10800. Train_MSE: 0.0005238984012976289. Test_MSE: 0.00017680513755614\n",
      "Epoch: 115 Iteration: 10900. Train_MSE: 0.0003291917673777789. Test_MSE: 0.0001765408888926817\n",
      "Epoch: 117 Iteration: 11000. Train_MSE: 0.00031307569588534534. Test_MSE: 0.00017637689376645568\n",
      "Epoch: 118 Iteration: 11100. Train_MSE: 0.0005197750870138407. Test_MSE: 0.00017617938861979736\n",
      "Epoch: 119 Iteration: 11200. Train_MSE: 0.0004755302506964654. Test_MSE: 0.00017574955036760343\n",
      "Epoch: 120 Iteration: 11300. Train_MSE: 0.0003746790171135217. Test_MSE: 0.00017549474516468768\n",
      "Epoch: 121 Iteration: 11400. Train_MSE: 0.0007764769834466279. Test_MSE: 0.00017528828539294325\n",
      "Epoch: 122 Iteration: 11500. Train_MSE: 0.004336225800216198. Test_MSE: 0.00017516332204563627\n",
      "Epoch: 123 Iteration: 11600. Train_MSE: 0.0035893982276320457. Test_MSE: 0.00017498552730136222\n",
      "Epoch: 124 Iteration: 11700. Train_MSE: 0.00021304083929862827. Test_MSE: 0.0001747261012742498\n",
      "Epoch: 125 Iteration: 11800. Train_MSE: 0.00038756601861678064. Test_MSE: 0.0001746120348866666\n",
      "Epoch: 126 Iteration: 11900. Train_MSE: 0.0003676669439300895. Test_MSE: 0.00017435047171667747\n",
      "Epoch: 127 Iteration: 12000. Train_MSE: 0.0004590979078784585. Test_MSE: 0.00017403552075207222\n",
      "Epoch: 128 Iteration: 12100. Train_MSE: 0.00042164084152318537. Test_MSE: 0.00017379847467679482\n",
      "Epoch: 129 Iteration: 12200. Train_MSE: 0.0008755649905651808. Test_MSE: 0.00017361232988674977\n",
      "Epoch: 130 Iteration: 12300. Train_MSE: 0.00866494607180357. Test_MSE: 0.00017352160580339944\n",
      "Epoch: 131 Iteration: 12400. Train_MSE: 0.0004203389980830252. Test_MSE: 0.000173339582178641\n",
      "Epoch: 132 Iteration: 12500. Train_MSE: 0.00020811079593840986. Test_MSE: 0.00017306276690095315\n",
      "Epoch: 134 Iteration: 12600. Train_MSE: 0.0002758394693955779. Test_MSE: 0.00017287186921048425\n",
      "Epoch: 135 Iteration: 12700. Train_MSE: 0.000414972280850634. Test_MSE: 0.0001726508196404668\n",
      "Epoch: 136 Iteration: 12800. Train_MSE: 0.000730469822883606. Test_MSE: 0.0001722718032054998\n",
      "Epoch: 137 Iteration: 12900. Train_MSE: 0.0006035955157130957. Test_MSE: 0.0001720256932646689\n",
      "Epoch: 138 Iteration: 13000. Train_MSE: 0.0007411499973386526. Test_MSE: 0.00017183556001520674\n",
      "Epoch: 139 Iteration: 13100. Train_MSE: 0.00047334976261481643. Test_MSE: 0.0001717002512320779\n",
      "Epoch: 140 Iteration: 13200. Train_MSE: 0.00029031530721113086. Test_MSE: 0.00017150675630767028\n",
      "Epoch: 141 Iteration: 13300. Train_MSE: 0.00039822724647819996. Test_MSE: 0.00017128973098644583\n",
      "Epoch: 142 Iteration: 13400. Train_MSE: 0.0003442537854425609. Test_MSE: 0.0001711551362496867\n",
      "Epoch: 143 Iteration: 13500. Train_MSE: 0.000281079497653991. Test_MSE: 0.00017083708299947103\n",
      "Epoch: 144 Iteration: 13600. Train_MSE: 0.0008427455322816968. Test_MSE: 0.00017052533537809808\n",
      "Epoch: 145 Iteration: 13700. Train_MSE: 0.0004303233581595123. Test_MSE: 0.0001703135621221018\n",
      "Epoch: 146 Iteration: 13800. Train_MSE: 0.0004741585289593786. Test_MSE: 0.00017013699258774066\n",
      "Epoch: 147 Iteration: 13900. Train_MSE: 0.0005488730384968221. Test_MSE: 0.000170052332265374\n",
      "Epoch: 148 Iteration: 14000. Train_MSE: 0.0002635583805385977. Test_MSE: 0.00016983803915414183\n",
      "Epoch: 149 Iteration: 14100. Train_MSE: 0.0002014278870774433. Test_MSE: 0.0001695698438777911\n",
      "Epoch: 151 Iteration: 14200. Train_MSE: 0.000452918786322698. Test_MSE: 0.00016941788032209007\n",
      "Epoch: 152 Iteration: 14300. Train_MSE: 0.0006093904958106577. Test_MSE: 0.00016906821272275058\n",
      "Epoch: 153 Iteration: 14400. Train_MSE: 0.0009210742427967489. Test_MSE: 0.00016872678112412047\n",
      "Epoch: 154 Iteration: 14500. Train_MSE: 0.0005254289135336876. Test_MSE: 0.00016852784541553166\n",
      "Epoch: 155 Iteration: 14600. Train_MSE: 0.0005333318840712309. Test_MSE: 0.00016834894804075313\n",
      "Epoch: 156 Iteration: 14700. Train_MSE: 0.00045296805910766125. Test_MSE: 0.00016819569927705572\n",
      "Epoch: 157 Iteration: 14800. Train_MSE: 0.0022941995412111282. Test_MSE: 0.00016798467302372752\n",
      "Epoch: 158 Iteration: 14900. Train_MSE: 0.00027149764355272055. Test_MSE: 0.00016779468041188756\n",
      "Epoch: 159 Iteration: 15000. Train_MSE: 0.0005180854932405055. Test_MSE: 0.00016760997417203117\n",
      "Epoch: 160 Iteration: 15100. Train_MSE: 0.0003138901956845075. Test_MSE: 0.00016729189249738047\n",
      "Epoch: 161 Iteration: 15200. Train_MSE: 0.00040085933869704604. Test_MSE: 0.000167023222180161\n",
      "Epoch: 162 Iteration: 15300. Train_MSE: 0.0003851194924209267. Test_MSE: 0.0001668368447253991\n",
      "Epoch: 163 Iteration: 15400. Train_MSE: 0.0010892957216128707. Test_MSE: 0.0001666816175794021\n",
      "Epoch: 164 Iteration: 15500. Train_MSE: 0.0004767491773236543. Test_MSE: 0.00016657494432198807\n",
      "Epoch: 165 Iteration: 15600. Train_MSE: 0.00029698217986151576. Test_MSE: 0.00016630275781333263\n",
      "Epoch: 167 Iteration: 15700. Train_MSE: 0.0002691629633773118. Test_MSE: 0.00016614248644358383\n",
      "Epoch: 168 Iteration: 15800. Train_MSE: 0.0004919487400911748. Test_MSE: 0.0001659506893713057\n",
      "Epoch: 169 Iteration: 15900. Train_MSE: 0.0004238479887135327. Test_MSE: 0.00016549223145578902\n",
      "Epoch: 170 Iteration: 16000. Train_MSE: 0.00033381671528331935. Test_MSE: 0.00016523265888755885\n",
      "Epoch: 171 Iteration: 16100. Train_MSE: 0.0006933021359145641. Test_MSE: 0.0001650276919700785\n",
      "Epoch: 172 Iteration: 16200. Train_MSE: 0.004334686324000359. Test_MSE: 0.0001649190201215385\n",
      "Epoch: 173 Iteration: 16300. Train_MSE: 0.0035788514651358128. Test_MSE: 0.0001647508201555476\n",
      "Epoch: 174 Iteration: 16400. Train_MSE: 0.00018631957937031984. Test_MSE: 0.00016449286196528604\n",
      "Epoch: 175 Iteration: 16500. Train_MSE: 0.000341657898388803. Test_MSE: 0.00016438942744309432\n",
      "Epoch: 176 Iteration: 16600. Train_MSE: 0.00031980243511497974. Test_MSE: 0.0001641304906286001\n",
      "Epoch: 177 Iteration: 16700. Train_MSE: 0.0004314467660151422. Test_MSE: 0.00016380520369163585\n",
      "Epoch: 178 Iteration: 16800. Train_MSE: 0.0003783971769735217. Test_MSE: 0.00016356748183492037\n",
      "Epoch: 179 Iteration: 16900. Train_MSE: 0.0008099225233308971. Test_MSE: 0.0001633887408062743\n",
      "Epoch: 180 Iteration: 17000. Train_MSE: 0.008685613051056862. Test_MSE: 0.00016331608662606263\n",
      "Epoch: 181 Iteration: 17100. Train_MSE: 0.00036695829476229846. Test_MSE: 0.00016314238454453664\n",
      "Epoch: 182 Iteration: 17200. Train_MSE: 0.00018159304454457015. Test_MSE: 0.00016286731125163674\n",
      "Epoch: 184 Iteration: 17300. Train_MSE: 0.00023740166216157377. Test_MSE: 0.00016268405356845004\n",
      "Epoch: 185 Iteration: 17400. Train_MSE: 0.0003736537182703614. Test_MSE: 0.00016246969627244364\n"
     ]
    },
    {
     "name": "stdout",
     "output_type": "stream",
     "text": [
      "Epoch: 186 Iteration: 17500. Train_MSE: 0.0007018656469881535. Test_MSE: 0.0001620862555179405\n",
      "Epoch: 187 Iteration: 17600. Train_MSE: 0.0005387897253967822. Test_MSE: 0.00016184466490900924\n",
      "Epoch: 188 Iteration: 17700. Train_MSE: 0.0006814406951889396. Test_MSE: 0.00016166472971874515\n",
      "Epoch: 189 Iteration: 17800. Train_MSE: 0.00042989375651814044. Test_MSE: 0.00016154733866827594\n",
      "Epoch: 190 Iteration: 17900. Train_MSE: 0.000261400593444705. Test_MSE: 0.0001613669770142487\n",
      "Epoch: 191 Iteration: 18000. Train_MSE: 0.000333012460032478. Test_MSE: 0.00016115959338868193\n",
      "Epoch: 192 Iteration: 18100. Train_MSE: 0.0003071047831326723. Test_MSE: 0.0001610448207647754\n",
      "Epoch: 193 Iteration: 18200. Train_MSE: 0.000245132134296. Test_MSE: 0.0001607374766994479\n",
      "Epoch: 194 Iteration: 18300. Train_MSE: 0.0008018736261874437. Test_MSE: 0.00016043090919610808\n",
      "Epoch: 195 Iteration: 18400. Train_MSE: 0.0004033305449411273. Test_MSE: 0.0001602287718591815\n",
      "Epoch: 196 Iteration: 18500. Train_MSE: 0.00045854979543946683. Test_MSE: 0.00016006663417309356\n",
      "Epoch: 197 Iteration: 18600. Train_MSE: 0.0004796113062184304. Test_MSE: 0.00016000118357279835\n",
      "Epoch: 198 Iteration: 18700. Train_MSE: 0.00023129937471821904. Test_MSE: 0.00015980035268421816\n",
      "Epoch: 199 Iteration: 18800. Train_MSE: 0.00016545418475288898. Test_MSE: 0.00015954937261143716\n",
      "Epoch: 201 Iteration: 18900. Train_MSE: 0.0003955929714720696. Test_MSE: 0.0001594136766700787\n",
      "Epoch: 202 Iteration: 19000. Train_MSE: 0.0005813289317302406. Test_MSE: 0.00015907409890901356\n",
      "Epoch: 203 Iteration: 19100. Train_MSE: 0.0008866496500559151. Test_MSE: 0.00015874761288741656\n",
      "Epoch: 204 Iteration: 19200. Train_MSE: 0.0004916758625768125. Test_MSE: 0.00015856218289035017\n",
      "Epoch: 205 Iteration: 19300. Train_MSE: 0.000494836363941431. Test_MSE: 0.00015840162235895147\n",
      "Epoch: 206 Iteration: 19400. Train_MSE: 0.00040660036029294133. Test_MSE: 0.00015826891535152728\n",
      "Epoch: 207 Iteration: 19500. Train_MSE: 0.002249235287308693. Test_MSE: 0.00015807736669035653\n",
      "Epoch: 208 Iteration: 19600. Train_MSE: 0.00023347856767941266. Test_MSE: 0.000157906307408783\n",
      "Epoch: 209 Iteration: 19700. Train_MSE: 0.0004922404186800122. Test_MSE: 0.00015774487537694842\n",
      "Epoch: 210 Iteration: 19800. Train_MSE: 0.00028530004783533514. Test_MSE: 0.00015744266723460244\n",
      "Epoch: 211 Iteration: 19900. Train_MSE: 0.00037046964280307293. Test_MSE: 0.00015718713825240235\n",
      "Epoch: 212 Iteration: 20000. Train_MSE: 0.0003697016218211502. Test_MSE: 0.0001570174748404343\n",
      "Epoch: 213 Iteration: 20100. Train_MSE: 0.0010723726591095328. Test_MSE: 0.00015688048719218357\n",
      "Epoch: 214 Iteration: 20200. Train_MSE: 0.0004456101742107421. Test_MSE: 0.00015679509244607376\n",
      "Epoch: 215 Iteration: 20300. Train_MSE: 0.0002712984278332442. Test_MSE: 0.00015654244982218242\n",
      "Epoch: 217 Iteration: 20400. Train_MSE: 0.00023333322315011173. Test_MSE: 0.00015640099638495215\n",
      "Epoch: 218 Iteration: 20500. Train_MSE: 0.0004581832035910338. Test_MSE: 0.00015622955760274338\n",
      "Epoch: 219 Iteration: 20600. Train_MSE: 0.0003858549171127379. Test_MSE: 0.0001557888776121272\n",
      "Epoch: 220 Iteration: 20700. Train_MSE: 0.0003089761012233794. Test_MSE: 0.00015554771818381065\n",
      "Epoch: 221 Iteration: 20800. Train_MSE: 0.0006477442220784724. Test_MSE: 0.0001553610078001343\n",
      "Epoch: 222 Iteration: 20900. Train_MSE: 0.004328737501055002. Test_MSE: 0.00015527330751801915\n",
      "Epoch: 223 Iteration: 21000. Train_MSE: 0.0035663526505231857. Test_MSE: 0.00015512731984909753\n",
      "Epoch: 224 Iteration: 21100. Train_MSE: 0.00016810653323773295. Test_MSE: 0.00015489343261627356\n",
      "Epoch: 225 Iteration: 21200. Train_MSE: 0.00030052426154725254. Test_MSE: 0.00015481016743769404\n",
      "Epoch: 226 Iteration: 21300. Train_MSE: 0.00028559163911268115. Test_MSE: 0.00015457730657331964\n",
      "Epoch: 227 Iteration: 21400. Train_MSE: 0.00041129448800347745. Test_MSE: 0.0001542720012197396\n",
      "Epoch: 228 Iteration: 21500. Train_MSE: 0.00035468023270368576. Test_MSE: 0.00015405518619496315\n",
      "Epoch: 229 Iteration: 21600. Train_MSE: 0.0007704377640038729. Test_MSE: 0.00015389825940855092\n",
      "Epoch: 230 Iteration: 21700. Train_MSE: 0.008692770265042782. Test_MSE: 0.0001538487043878573\n",
      "Epoch: 231 Iteration: 21800. Train_MSE: 0.0003297854564152658. Test_MSE: 0.00015369956973525673\n",
      "Epoch: 232 Iteration: 21900. Train_MSE: 0.00016012522974051535. Test_MSE: 0.00015344961679854166\n",
      "Epoch: 234 Iteration: 22000. Train_MSE: 0.00020417496853042394. Test_MSE: 0.00015329005657078464\n",
      "Epoch: 235 Iteration: 22100. Train_MSE: 0.00034450911334715784. Test_MSE: 0.00015309899211353895\n",
      "Epoch: 236 Iteration: 22200. Train_MSE: 0.0006824510637670755. Test_MSE: 0.00015273933925692183\n",
      "Epoch: 237 Iteration: 22300. Train_MSE: 0.0004957246710546315. Test_MSE: 0.00015252096314562856\n",
      "Epoch: 238 Iteration: 22400. Train_MSE: 0.0006449983338825405. Test_MSE: 0.0001523639591789069\n",
      "Epoch: 239 Iteration: 22500. Train_MSE: 0.00040245905984193087. Test_MSE: 0.0001522725209201037\n",
      "Epoch: 240 Iteration: 22600. Train_MSE: 0.00023617901024408638. Test_MSE: 0.00015211769741536063\n",
      "Epoch: 241 Iteration: 22700. Train_MSE: 0.000282248918665573. Test_MSE: 0.0001519346811729236\n",
      "Epoch: 242 Iteration: 22800. Train_MSE: 0.00027437013341113925. Test_MSE: 0.00015184698926079085\n",
      "Epoch: 243 Iteration: 22900. Train_MSE: 0.00021711934823542833. Test_MSE: 0.00015156676286230502\n",
      "Epoch: 244 Iteration: 23000. Train_MSE: 0.0007709068013355136. Test_MSE: 0.000151283526616479\n",
      "Epoch: 245 Iteration: 23100. Train_MSE: 0.00038401075289584696. Test_MSE: 0.00015110280481382357\n",
      "Epoch: 246 Iteration: 23200. Train_MSE: 0.00044510129373520613. Test_MSE: 0.0001509625808828998\n",
      "Epoch: 247 Iteration: 23300. Train_MSE: 0.00042956098332069814. Test_MSE: 0.00015091895874751676\n",
      "Epoch: 248 Iteration: 23400. Train_MSE: 0.00020597391994670033. Test_MSE: 0.00015074216940787845\n",
      "Epoch: 249 Iteration: 23500. Train_MSE: 0.00013994261098559946. Test_MSE: 0.00015052072791235264\n",
      "Epoch: 251 Iteration: 23600. Train_MSE: 0.00034624553518369794. Test_MSE: 0.00015040651395227417\n",
      "Epoch: 252 Iteration: 23700. Train_MSE: 0.00056122534442693. Test_MSE: 0.0001500913523264711\n",
      "Epoch: 253 Iteration: 23800. Train_MSE: 0.0008588175987824798. Test_MSE: 0.00014979308144814793\n",
      "Epoch: 254 Iteration: 23900. Train_MSE: 0.0004694575909525156. Test_MSE: 0.00014962866488284804\n",
      "Epoch: 255 Iteration: 24000. Train_MSE: 0.0004664776206482202. Test_MSE: 0.0001494926477504017\n",
      "Epoch: 256 Iteration: 24100. Train_MSE: 0.0003717997169587761. Test_MSE: 0.0001493861842810545\n",
      "Epoch: 257 Iteration: 24200. Train_MSE: 0.00221111997961998. Test_MSE: 0.0001492218275093152\n",
      "Epoch: 258 Iteration: 24300. Train_MSE: 0.00020205457985866815. Test_MSE: 0.00014907727587639685\n",
      "Epoch: 259 Iteration: 24400. Train_MSE: 0.0004700140270870179. Test_MSE: 0.00014894502834659074\n",
      "Epoch: 260 Iteration: 24500. Train_MSE: 0.00026472489116713405. Test_MSE: 0.00014867007843001308\n",
      "Epoch: 261 Iteration: 24600. Train_MSE: 0.0003497705329209566. Test_MSE: 0.00014843834841438199\n",
      "Epoch: 262 Iteration: 24700. Train_MSE: 0.0003570379631128162. Test_MSE: 0.00014829225319831738\n",
      "Epoch: 263 Iteration: 24800. Train_MSE: 0.001057053217664361. Test_MSE: 0.0001481787611875089\n",
      "Epoch: 264 Iteration: 24900. Train_MSE: 0.00042259888141416013. Test_MSE: 0.00014811789768507205\n",
      "Epoch: 265 Iteration: 25000. Train_MSE: 0.0002503621799405664. Test_MSE: 0.00014789368690704724\n",
      "Epoch: 267 Iteration: 25100. Train_MSE: 0.00020388768461998552. Test_MSE: 0.0001477768154668528\n",
      "Epoch: 268 Iteration: 25200. Train_MSE: 0.00042716151801869273. Test_MSE: 0.00014763037687075687\n",
      "Epoch: 269 Iteration: 25300. Train_MSE: 0.000355693104211241. Test_MSE: 0.00014722048325412722\n",
      "Epoch: 270 Iteration: 25400. Train_MSE: 0.00029085538699291646. Test_MSE: 0.00014700521972835757\n",
      "Epoch: 271 Iteration: 25500. Train_MSE: 0.0006167500978335738. Test_MSE: 0.00014684207851729285\n",
      "Epoch: 272 Iteration: 25600. Train_MSE: 0.004322214517742395. Test_MSE: 0.00014677745169412436\n",
      "Epoch: 273 Iteration: 25700. Train_MSE: 0.0035543646663427353. Test_MSE: 0.0001466575913909823\n",
      "Epoch: 274 Iteration: 25800. Train_MSE: 0.00015536848513875157. Test_MSE: 0.00014645332500913942\n",
      "Epoch: 275 Iteration: 25900. Train_MSE: 0.0002652195398695767. Test_MSE: 0.00014639184878067598\n",
      "Epoch: 276 Iteration: 26000. Train_MSE: 0.0002596858248580247. Test_MSE: 0.00014618676051518918\n"
     ]
    },
    {
     "name": "stdout",
     "output_type": "stream",
     "text": [
      "Epoch: 277 Iteration: 26100. Train_MSE: 0.0003950084501411766. Test_MSE: 0.0001459053216408826\n",
      "Epoch: 278 Iteration: 26200. Train_MSE: 0.0003386152093298733. Test_MSE: 0.00014571079731443421\n",
      "Epoch: 279 Iteration: 26300. Train_MSE: 0.0007422299822792411. Test_MSE: 0.00014557516010045408\n",
      "Epoch: 280 Iteration: 26400. Train_MSE: 0.008694050833582878. Test_MSE: 0.00014554472126390925\n",
      "Epoch: 281 Iteration: 26500. Train_MSE: 0.0003021815209649503. Test_MSE: 0.00014541895217075755\n",
      "Epoch: 282 Iteration: 26600. Train_MSE: 0.0001432850694982335. Test_MSE: 0.00014519529998635778\n",
      "Epoch: 284 Iteration: 26700. Train_MSE: 0.00017749339167494327. Test_MSE: 0.00014505789247034736\n",
      "Epoch: 285 Iteration: 26800. Train_MSE: 0.0003226603439543396. Test_MSE: 0.00014488869463230266\n",
      "Epoch: 286 Iteration: 26900. Train_MSE: 0.0006684471154585481. Test_MSE: 0.00014455536874944695\n",
      "Epoch: 287 Iteration: 27000. Train_MSE: 0.0004638493119273335. Test_MSE: 0.00014436000687368064\n",
      "Epoch: 288 Iteration: 27100. Train_MSE: 0.0006202620570547879. Test_MSE: 0.00014422352943628305\n",
      "Epoch: 289 Iteration: 27200. Train_MSE: 0.0003821806167252362. Test_MSE: 0.00014415414779155568\n",
      "Epoch: 290 Iteration: 27300. Train_MSE: 0.00021479505812749267. Test_MSE: 0.000144022755986981\n",
      "Epoch: 291 Iteration: 27400. Train_MSE: 0.0002424829435767606. Test_MSE: 0.00014386234435060963\n",
      "Epoch: 292 Iteration: 27500. Train_MSE: 0.000246297538978979. Test_MSE: 0.00014379775249974384\n",
      "Epoch: 293 Iteration: 27600. Train_MSE: 0.00019531980797182769. Test_MSE: 0.00014354368311753638\n",
      "Epoch: 294 Iteration: 27700. Train_MSE: 0.0007456900202669203. Test_MSE: 0.00014328457175294572\n",
      "Epoch: 295 Iteration: 27800. Train_MSE: 0.0003685262054204941. Test_MSE: 0.00014312415150776324\n",
      "Epoch: 296 Iteration: 27900. Train_MSE: 0.0004339279839769006. Test_MSE: 0.0001430037677670814\n",
      "Epoch: 297 Iteration: 28000. Train_MSE: 0.0003909238730557263. Test_MSE: 0.00014297871680060407\n",
      "Epoch: 298 Iteration: 28100. Train_MSE: 0.00018628242833074182. Test_MSE: 0.0001428246079637625\n",
      "Epoch: 299 Iteration: 28200. Train_MSE: 0.00012049223005305976. Test_MSE: 0.00014263071483161156\n",
      "Epoch: 301 Iteration: 28300. Train_MSE: 0.0003051527019124478. Test_MSE: 0.00014253540226656327\n",
      "Epoch: 302 Iteration: 28400. Train_MSE: 0.0005439082742668688. Test_MSE: 0.00014224432172507987\n",
      "Epoch: 303 Iteration: 28500. Train_MSE: 0.0008355745812878013. Test_MSE: 0.00014197316150666662\n",
      "Epoch: 304 Iteration: 28600. Train_MSE: 0.00045271325507201254. Test_MSE: 0.00014182763736662678\n",
      "Epoch: 305 Iteration: 28700. Train_MSE: 0.00044439095654524863. Test_MSE: 0.00014171133528871767\n",
      "Epoch: 306 Iteration: 28800. Train_MSE: 0.00034469860838726163. Test_MSE: 0.00014162540884051856\n",
      "Epoch: 307 Iteration: 28900. Train_MSE: 0.0021801465190947056. Test_MSE: 0.00014148320809488177\n",
      "Epoch: 308 Iteration: 29000. Train_MSE: 0.00017635512631386518. Test_MSE: 0.0001413592163854881\n",
      "Epoch: 309 Iteration: 29100. Train_MSE: 0.00045208510709926486. Test_MSE: 0.00014124965361045805\n",
      "Epoch: 310 Iteration: 29200. Train_MSE: 0.0002494505897630006. Test_MSE: 0.00014099733179016814\n",
      "Epoch: 311 Iteration: 29300. Train_MSE: 0.00033426700974814594. Test_MSE: 0.00014078559840946251\n",
      "Epoch: 312 Iteration: 29400. Train_MSE: 0.00034655886702239513. Test_MSE: 0.00014065793712023984\n",
      "Epoch: 313 Iteration: 29500. Train_MSE: 0.0010439528850838542. Test_MSE: 0.0001405627035304136\n",
      "Epoch: 314 Iteration: 29600. Train_MSE: 0.0004044797969982028. Test_MSE: 0.00014052118341291393\n",
      "Epoch: 315 Iteration: 29700. Train_MSE: 0.0002329684211872518. Test_MSE: 0.00014032051613907962\n",
      "Epoch: 317 Iteration: 29800. Train_MSE: 0.00017969701730180532. Test_MSE: 0.00014022345305509366\n",
      "Epoch: 318 Iteration: 29900. Train_MSE: 0.00040108931716531515. Test_MSE: 0.0001400966517052534\n",
      "Epoch: 319 Iteration: 30000. Train_MSE: 0.00033127915230579674. Test_MSE: 0.00013971307938486432\n",
      "Epoch: 320 Iteration: 30100. Train_MSE: 0.0002767741389106959. Test_MSE: 0.00013951931955963063\n",
      "Epoch: 321 Iteration: 30200. Train_MSE: 0.0005929223261773586. Test_MSE: 0.00013937475572899295\n",
      "Epoch: 322 Iteration: 30300. Train_MSE: 0.004316249396651983. Test_MSE: 0.0001393283741326655\n",
      "Epoch: 323 Iteration: 30400. Train_MSE: 0.0035442912485450506. Test_MSE: 0.00013922935418252065\n",
      "Epoch: 324 Iteration: 30500. Train_MSE: 0.0001457254111301154. Test_MSE: 0.00013904879024532544\n",
      "Epoch: 325 Iteration: 30600. Train_MSE: 0.00023545931617263705. Test_MSE: 0.00013900401345419932\n",
      "Epoch: 326 Iteration: 30700. Train_MSE: 0.00023959780810400844. Test_MSE: 0.00013882234541759135\n",
      "Epoch: 327 Iteration: 30800. Train_MSE: 0.00038134382339194417. Test_MSE: 0.0001385618671585418\n",
      "Epoch: 328 Iteration: 30900. Train_MSE: 0.0003262984682805836. Test_MSE: 0.00013838671397208894\n",
      "Epoch: 329 Iteration: 31000. Train_MSE: 0.0007200475665740669. Test_MSE: 0.00013826965574411894\n",
      "Epoch: 330 Iteration: 31100. Train_MSE: 0.008692307397723198. Test_MSE: 0.00013825697614918895\n",
      "Epoch: 331 Iteration: 31200. Train_MSE: 0.0002809845027513802. Test_MSE: 0.0001381519273184594\n",
      "Epoch: 332 Iteration: 31300. Train_MSE: 0.00012982920452486724. Test_MSE: 0.00013795104486685522\n",
      "Epoch: 334 Iteration: 31400. Train_MSE: 0.00015651682042516768. Test_MSE: 0.00013783271646097798\n",
      "Epoch: 335 Iteration: 31500. Train_MSE: 0.0003051981038879603. Test_MSE: 0.00013768209298359083\n",
      "Epoch: 336 Iteration: 31600. Train_MSE: 0.0006572118145413697. Test_MSE: 0.00013737092301535685\n",
      "Epoch: 337 Iteration: 31700. Train_MSE: 0.00043863392784260213. Test_MSE: 0.00013719565058900596\n",
      "Epoch: 338 Iteration: 31800. Train_MSE: 0.0006019330467097461. Test_MSE: 0.000137077105916994\n",
      "Epoch: 339 Iteration: 31900. Train_MSE: 0.0003657468769233674. Test_MSE: 0.00013702760471694656\n",
      "Epoch: 340 Iteration: 32000. Train_MSE: 0.00019705368322320282. Test_MSE: 0.00013691633219419698\n",
      "Epoch: 341 Iteration: 32100. Train_MSE: 0.0002113735827151686. Test_MSE: 0.0001367749527984901\n",
      "Epoch: 342 Iteration: 32200. Train_MSE: 0.00022262647689785808. Test_MSE: 0.0001367301483529743\n",
      "Epoch: 343 Iteration: 32300. Train_MSE: 0.00017853973258752376. Test_MSE: 0.00013649771931717109\n",
      "Epoch: 344 Iteration: 32400. Train_MSE: 0.0007246950990520418. Test_MSE: 0.00013625866605872187\n",
      "Epoch: 345 Iteration: 32500. Train_MSE: 0.00035557293449528515. Test_MSE: 0.00013611551198226092\n",
      "Epoch: 346 Iteration: 32600. Train_MSE: 0.0004240883863531053. Test_MSE: 0.00013601267773012405\n",
      "Epoch: 347 Iteration: 32700. Train_MSE: 0.00035978612140752375. Test_MSE: 0.0001360052333163361\n",
      "Epoch: 348 Iteration: 32800. Train_MSE: 0.0001705756294541061. Test_MSE: 0.00013587057788306322\n",
      "Epoch: 349 Iteration: 32900. Train_MSE: 0.00010505395039217547. Test_MSE: 0.000135699508333545\n",
      "Epoch: 351 Iteration: 33000. Train_MSE: 0.000271602941211313. Test_MSE: 0.00013562027707434524\n",
      "Epoch: 352 Iteration: 33100. Train_MSE: 0.0005276795709505677. Test_MSE: 0.00013534811971692076\n",
      "Epoch: 353 Iteration: 33200. Train_MSE: 0.0008159584831446409. Test_MSE: 0.00013509889749042817\n",
      "Epoch: 354 Iteration: 33300. Train_MSE: 0.000439315102994442. Test_MSE: 0.00013496966504844484\n",
      "Epoch: 355 Iteration: 33400. Train_MSE: 0.00042604460031725466. Test_MSE: 0.0001348709544390462\n",
      "Epoch: 356 Iteration: 33500. Train_MSE: 0.0003224458487238735. Test_MSE: 0.00013480408264915405\n",
      "Epoch: 357 Iteration: 33600. Train_MSE: 0.0021550520323216915. Test_MSE: 0.00013468100480254494\n",
      "Epoch: 358 Iteration: 33700. Train_MSE: 0.0001555254712002352. Test_MSE: 0.00013457493453931818\n",
      "Epoch: 359 Iteration: 33800. Train_MSE: 0.00043767393799498677. Test_MSE: 0.0001344855704042737\n",
      "Epoch: 360 Iteration: 33900. Train_MSE: 0.00023740697361063212. Test_MSE: 0.0001342517540928489\n",
      "Epoch: 361 Iteration: 34000. Train_MSE: 0.0003217566991224885. Test_MSE: 0.00013405674513789962\n",
      "Epoch: 362 Iteration: 34100. Train_MSE: 0.0003372701758053154. Test_MSE: 0.00013394578354454905\n",
      "Epoch: 363 Iteration: 34200. Train_MSE: 0.0010332362726330757. Test_MSE: 0.00013386777421932772\n",
      "Epoch: 364 Iteration: 34300. Train_MSE: 0.0003899676667060703. Test_MSE: 0.000133845007451257\n",
      "Epoch: 365 Iteration: 34400. Train_MSE: 0.00021828655735589564. Test_MSE: 0.0001336640172222556\n",
      "Epoch: 367 Iteration: 34500. Train_MSE: 0.00015993090346455574. Test_MSE: 0.00013358412908231503\n",
      "Epoch: 368 Iteration: 34600. Train_MSE: 0.00037971921847201884. Test_MSE: 0.00013347398533336804\n"
     ]
    },
    {
     "name": "stdout",
     "output_type": "stream",
     "text": [
      "Epoch: 369 Iteration: 34700. Train_MSE: 0.00031111013959161937. Test_MSE: 0.00013310995581016844\n",
      "Epoch: 370 Iteration: 34800. Train_MSE: 0.0002647864748723805. Test_MSE: 0.0001329339106988031\n",
      "Epoch: 371 Iteration: 34900. Train_MSE: 0.0005730323027819395. Test_MSE: 0.00013280505133267403\n",
      "Epoch: 372 Iteration: 35000. Train_MSE: 0.004310084506869316. Test_MSE: 0.00013277594772705294\n",
      "Epoch: 373 Iteration: 35100. Train_MSE: 0.003536268835887313. Test_MSE: 0.00013269512668010188\n",
      "Epoch: 374 Iteration: 35200. Train_MSE: 0.00013842488988302648. Test_MSE: 0.00013253406486130273\n",
      "Epoch: 375 Iteration: 35300. Train_MSE: 0.00021060570725239813. Test_MSE: 0.00013250391333665887\n",
      "Epoch: 376 Iteration: 35400. Train_MSE: 0.00022375794651452452. Test_MSE: 0.00013234155396518225\n",
      "Epoch: 377 Iteration: 35500. Train_MSE: 0.0003695778432302177. Test_MSE: 0.00013209692180257904\n",
      "Epoch: 378 Iteration: 35600. Train_MSE: 0.00031599405338056386. Test_MSE: 0.00013193761425690534\n",
      "Epoch: 379 Iteration: 35700. Train_MSE: 0.0007008728571236134. Test_MSE: 0.0001318365986102893\n",
      "Epoch: 380 Iteration: 35800. Train_MSE: 0.008690070360898972. Test_MSE: 0.00013184137384274683\n",
      "Epoch: 381 Iteration: 35900. Train_MSE: 0.0002637747093103826. Test_MSE: 0.0001317542596446603\n",
      "Epoch: 382 Iteration: 36000. Train_MSE: 0.00011891878966707736. Test_MSE: 0.0001315718428396973\n",
      "Epoch: 384 Iteration: 36100. Train_MSE: 0.00013998702343087643. Test_MSE: 0.00013146912470654964\n",
      "Epoch: 385 Iteration: 36200. Train_MSE: 0.0002904256689362228. Test_MSE: 0.00013133393557272766\n",
      "Epoch: 386 Iteration: 36300. Train_MSE: 0.0006477805436588824. Test_MSE: 0.00013103935890331633\n",
      "Epoch: 387 Iteration: 36400. Train_MSE: 0.00041831351700238883. Test_MSE: 0.000130880578161353\n",
      "Epoch: 388 Iteration: 36500. Train_MSE: 0.0005875226925127208. Test_MSE: 0.00013077722923358665\n",
      "Epoch: 389 Iteration: 36600. Train_MSE: 0.0003515949356369674. Test_MSE: 0.00013074602234577456\n",
      "Epoch: 390 Iteration: 36700. Train_MSE: 0.0001819310273276642. Test_MSE: 0.0001306516300630676\n",
      "Epoch: 391 Iteration: 36800. Train_MSE: 0.0001863641809904948. Test_MSE: 0.00013052447830121748\n",
      "Epoch: 392 Iteration: 36900. Train_MSE: 0.00020253437105566263. Test_MSE: 0.00013049538842279784\n",
      "Epoch: 393 Iteration: 37000. Train_MSE: 0.00016522567602805793. Test_MSE: 0.0001302786504415436\n",
      "Epoch: 394 Iteration: 37100. Train_MSE: 0.0007068862905725837. Test_MSE: 0.00013005400767080545\n",
      "Epoch: 395 Iteration: 37200. Train_MSE: 0.0003443536988925189. Test_MSE: 0.00012992391310565619\n",
      "Epoch: 396 Iteration: 37300. Train_MSE: 0.0004152379115112126. Test_MSE: 0.000129834863494345\n",
      "Epoch: 397 Iteration: 37400. Train_MSE: 0.0003336146182846278. Test_MSE: 0.00012984274426170478\n",
      "Epoch: 398 Iteration: 37500. Train_MSE: 0.00015767406148370355. Test_MSE: 0.00012972285297413664\n",
      "Epoch: 399 Iteration: 37600. Train_MSE: 9.27068103919737e-05. Test_MSE: 0.00012956942223879702\n",
      "Epoch: 401 Iteration: 37700. Train_MSE: 0.00024395270156674087. Test_MSE: 0.00012950245055983226\n",
      "Epoch: 402 Iteration: 37800. Train_MSE: 0.0005116948741488159. Test_MSE: 0.0001292438230790875\n",
      "Epoch: 403 Iteration: 37900. Train_MSE: 0.000799008528701961. Test_MSE: 0.00012901047435648946\n",
      "Epoch: 404 Iteration: 38000. Train_MSE: 0.0004281624860595912. Test_MSE: 0.00012889375447363948\n",
      "Epoch: 405 Iteration: 38100. Train_MSE: 0.0004103835381101817. Test_MSE: 0.00012880916571928708\n",
      "Epoch: 406 Iteration: 38200. Train_MSE: 0.0003031235246453434. Test_MSE: 0.00012875835367181634\n",
      "Epoch: 407 Iteration: 38300. Train_MSE: 0.0021341198589652777. Test_MSE: 0.00012865075793070782\n",
      "Epoch: 408 Iteration: 38400. Train_MSE: 0.00013849581591784954. Test_MSE: 0.00012855851495409062\n",
      "Epoch: 409 Iteration: 38500. Train_MSE: 0.0004259761772118509. Test_MSE: 0.00012848555630078873\n",
      "Epoch: 410 Iteration: 38600. Train_MSE: 0.00022753966914024204. Test_MSE: 0.00012826476540077418\n",
      "Epoch: 411 Iteration: 38700. Train_MSE: 0.0003111879632342607. Test_MSE: 0.00012808238976978167\n",
      "Epoch: 412 Iteration: 38800. Train_MSE: 0.00032902066595852375. Test_MSE: 0.0001279848601165204\n",
      "Epoch: 413 Iteration: 38900. Train_MSE: 0.0010241764830425382. Test_MSE: 0.0001279212559308156\n",
      "Epoch: 414 Iteration: 39000. Train_MSE: 0.00037787732435390353. Test_MSE: 0.0001279149931652328\n",
      "Epoch: 415 Iteration: 39100. Train_MSE: 0.00020554554066620767. Test_MSE: 0.0001277488040944252\n",
      "Epoch: 417 Iteration: 39200. Train_MSE: 0.00014351677964441478. Test_MSE: 0.0001276826529968142\n",
      "Epoch: 418 Iteration: 39300. Train_MSE: 0.0003622962976805866. Test_MSE: 0.00012758577824781235\n",
      "Epoch: 419 Iteration: 39400. Train_MSE: 0.00029434674070216715. Test_MSE: 0.00012723471131494796\n",
      "Epoch: 420 Iteration: 39500. Train_MSE: 0.0002541738504078239. Test_MSE: 0.00012707230368738477\n",
      "Epoch: 421 Iteration: 39600. Train_MSE: 0.0005553763476200402. Test_MSE: 0.00012695559965455395\n",
      "Epoch: 422 Iteration: 39700. Train_MSE: 0.004305421374738216. Test_MSE: 0.00012694187442642923\n",
      "Epoch: 423 Iteration: 39800. Train_MSE: 0.0035299784503877163. Test_MSE: 0.00012687633485452862\n",
      "Epoch: 424 Iteration: 39900. Train_MSE: 0.0001332555548287928. Test_MSE: 0.0001267304934613198\n",
      "Epoch: 425 Iteration: 40000. Train_MSE: 0.0001896988251246512. Test_MSE: 0.00012671294809139255\n",
      "Epoch: 426 Iteration: 40100. Train_MSE: 0.00021050051145721227. Test_MSE: 0.00012656589576157581\n",
      "Epoch: 427 Iteration: 40200. Train_MSE: 0.0003591762506403029. Test_MSE: 0.00012633251732449712\n",
      "Epoch: 428 Iteration: 40300. Train_MSE: 0.00030715082539245486. Test_MSE: 0.00012618562860927361\n",
      "Epoch: 429 Iteration: 40400. Train_MSE: 0.0006842795992270112. Test_MSE: 0.00012609808136431725\n",
      "Epoch: 430 Iteration: 40500. Train_MSE: 0.008687674067914486. Test_MSE: 0.00012611933775471632\n",
      "Epoch: 431 Iteration: 40600. Train_MSE: 0.0002495389780960977. Test_MSE: 0.00012604722153619416\n",
      "Epoch: 432 Iteration: 40700. Train_MSE: 0.00010998398647643626. Test_MSE: 0.00012587901075266223\n",
      "Epoch: 434 Iteration: 40800. Train_MSE: 0.00012680888175964355. Test_MSE: 0.00012578856501721685\n",
      "Epoch: 435 Iteration: 40900. Train_MSE: 0.00027765141567215323. Test_MSE: 0.00012566556161581354\n",
      "Epoch: 436 Iteration: 41000. Train_MSE: 0.0006390719208866358. Test_MSE: 0.0001253819063111277\n",
      "Epoch: 437 Iteration: 41100. Train_MSE: 0.0004011436249129474. Test_MSE: 0.00012523617762671578\n",
      "Epoch: 438 Iteration: 41200. Train_MSE: 0.0005749996635131538. Test_MSE: 0.00012514503473934203\n",
      "Epoch: 439 Iteration: 41300. Train_MSE: 0.00033887644531205297. Test_MSE: 0.0001251302417736053\n",
      "Epoch: 440 Iteration: 41400. Train_MSE: 0.00016912090359255672. Test_MSE: 0.0001250500894327398\n",
      "Epoch: 441 Iteration: 41500. Train_MSE: 0.00016620397218503058. Test_MSE: 0.0001249366703940407\n",
      "Epoch: 442 Iteration: 41600. Train_MSE: 0.00018543349870014936. Test_MSE: 0.0001249240966636957\n",
      "Epoch: 443 Iteration: 41700. Train_MSE: 0.00015431085193995386. Test_MSE: 0.00012472085322146593\n",
      "Epoch: 444 Iteration: 41800. Train_MSE: 0.0006914552068337798. Test_MSE: 0.00012450834664383506\n",
      "Epoch: 445 Iteration: 41900. Train_MSE: 0.0003344370343256742. Test_MSE: 0.00012439130589182975\n",
      "Epoch: 446 Iteration: 42000. Train_MSE: 0.00040680787060409784. Test_MSE: 0.0001243167456384383\n",
      "Epoch: 447 Iteration: 42100. Train_MSE: 0.0003114112187176943. Test_MSE: 0.00012434232263785827\n",
      "Epoch: 448 Iteration: 42200. Train_MSE: 0.0001470270217396319. Test_MSE: 0.00012423704866123866\n",
      "Epoch: 449 Iteration: 42300. Train_MSE: 8.280608744826168e-05. Test_MSE: 0.00012409991827096222\n",
      "Epoch: 451 Iteration: 42400. Train_MSE: 0.00022108056873548776. Test_MSE: 0.00012404550402698249\n",
      "Epoch: 452 Iteration: 42500. Train_MSE: 0.0004957427736371756. Test_MSE: 0.00012379782912286155\n",
      "Epoch: 453 Iteration: 42600. Train_MSE: 0.0007840297184884548. Test_MSE: 0.0001235780336998362\n",
      "Epoch: 454 Iteration: 42700. Train_MSE: 0.0004186076985206455. Test_MSE: 0.00012347391932759037\n",
      "Epoch: 455 Iteration: 42800. Train_MSE: 0.0003970160032622516. Test_MSE: 0.00012340375755888833\n",
      "Epoch: 456 Iteration: 42900. Train_MSE: 0.00028714595828205347. Test_MSE: 0.0001233699902466518\n",
      "Epoch: 457 Iteration: 43000. Train_MSE: 0.0021168889943510294. Test_MSE: 0.00012327739929619594\n",
      "Epoch: 458 Iteration: 43100. Train_MSE: 0.0001244210870936513. Test_MSE: 0.00012319875200004663\n",
      "Epoch: 459 Iteration: 43200. Train_MSE: 0.0004164616693742573. Test_MSE: 0.0001231418622326047\n"
     ]
    },
    {
     "name": "stdout",
     "output_type": "stream",
     "text": [
      "Epoch: 460 Iteration: 43300. Train_MSE: 0.00021923441090621054. Test_MSE: 0.00012293223956343029\n",
      "Epoch: 461 Iteration: 43400. Train_MSE: 0.00030193288694135845. Test_MSE: 0.00012276094596189632\n",
      "Epoch: 462 Iteration: 43500. Train_MSE: 0.00032127505983226. Test_MSE: 0.00012267655487850046\n",
      "Epoch: 463 Iteration: 43600. Train_MSE: 0.001016527647152543. Test_MSE: 0.0001226278859772453\n",
      "Epoch: 464 Iteration: 43700. Train_MSE: 0.00036776746856048703. Test_MSE: 0.0001226388965555323\n",
      "Epoch: 465 Iteration: 43800. Train_MSE: 0.00019446021178737283. Test_MSE: 0.00012248602152480371\n",
      "Epoch: 467 Iteration: 43900. Train_MSE: 0.00012981321197003126. Test_MSE: 0.00012243333594090498\n",
      "Epoch: 468 Iteration: 44000. Train_MSE: 0.0003479491570033133. Test_MSE: 0.0001223488253040705\n",
      "Epoch: 469 Iteration: 44100. Train_MSE: 0.00027968373615294695. Test_MSE: 0.00012200712149496085\n",
      "Epoch: 470 Iteration: 44200. Train_MSE: 0.0002449104795232415. Test_MSE: 0.00012185702387410776\n",
      "Epoch: 471 Iteration: 44300. Train_MSE: 0.0005394883337430656. Test_MSE: 0.00012175223042229108\n",
      "Epoch: 472 Iteration: 44400. Train_MSE: 0.0043026115745306015. Test_MSE: 0.00012175501082011335\n",
      "Epoch: 473 Iteration: 44500. Train_MSE: 0.0035251351073384285. Test_MSE: 0.00012170433093145376\n",
      "Epoch: 474 Iteration: 44600. Train_MSE: 0.00012894927931483835. Test_MSE: 0.00012157209895422067\n",
      "Epoch: 475 Iteration: 44700. Train_MSE: 0.00017215809202753007. Test_MSE: 0.00012156681323557459\n",
      "Epoch: 476 Iteration: 44800. Train_MSE: 0.00019959063502028584. Test_MSE: 0.00012143323317202138\n",
      "Epoch: 477 Iteration: 44900. Train_MSE: 0.0003496120625641197. Test_MSE: 0.0001212088277122878\n",
      "Epoch: 478 Iteration: 45000. Train_MSE: 0.00029957640799693763. Test_MSE: 0.0001210732206326507\n",
      "Epoch: 479 Iteration: 45100. Train_MSE: 0.0006696796626783907. Test_MSE: 0.00012099847036521238\n",
      "Epoch: 480 Iteration: 45200. Train_MSE: 0.008685596287250519. Test_MSE: 0.0001210369807760012\n",
      "Epoch: 481 Iteration: 45300. Train_MSE: 0.000237255371757783. Test_MSE: 0.00012097925804347971\n",
      "Epoch: 482 Iteration: 45400. Train_MSE: 0.00010288901830790564. Test_MSE: 0.00012082350979896188\n",
      "Epoch: 484 Iteration: 45500. Train_MSE: 0.00011614814138738438. Test_MSE: 0.00012074455814034592\n",
      "Epoch: 485 Iteration: 45600. Train_MSE: 0.0002671311085578054. Test_MSE: 0.00012063238606402226\n",
      "Epoch: 486 Iteration: 45700. Train_MSE: 0.000631174014415592. Test_MSE: 0.00012035749936766771\n",
      "Epoch: 487 Iteration: 45800. Train_MSE: 0.0003865479666274041. Test_MSE: 0.00012022390708395148\n",
      "Epoch: 488 Iteration: 45900. Train_MSE: 0.0005635505076497793. Test_MSE: 0.00012014485464140132\n",
      "Epoch: 489 Iteration: 46000. Train_MSE: 0.00032732010004110634. Test_MSE: 0.00012014683078955542\n",
      "Epoch: 490 Iteration: 46100. Train_MSE: 0.00015833703218959272. Test_MSE: 0.0001200802102995492\n",
      "Epoch: 491 Iteration: 46200. Train_MSE: 0.00014995544916018844. Test_MSE: 0.00011997849942223527\n",
      "Epoch: 492 Iteration: 46300. Train_MSE: 0.0001709590869722888. Test_MSE: 0.00011998027403954496\n",
      "Epoch: 493 Iteration: 46400. Train_MSE: 0.00014541964628733695. Test_MSE: 0.000119787574739052\n",
      "Epoch: 494 Iteration: 46500. Train_MSE: 0.0006777489325031638. Test_MSE: 0.00011958479836410788\n",
      "Epoch: 495 Iteration: 46600. Train_MSE: 0.0003257921780459583. Test_MSE: 0.00011947845428356573\n",
      "Epoch: 496 Iteration: 46700. Train_MSE: 0.00039872058550827205. Test_MSE: 0.00011941640589803533\n",
      "Epoch: 497 Iteration: 46800. Train_MSE: 0.0002923074644058943. Test_MSE: 0.00011945833713317415\n",
      "Epoch: 498 Iteration: 46900. Train_MSE: 0.00013799514272250235. Test_MSE: 0.00011936515015282724\n",
      "Epoch: 499 Iteration: 47000. Train_MSE: 7.476908649550751e-05. Test_MSE: 0.00011924140417287261\n",
      "Epoch: 501 Iteration: 47100. Train_MSE: 0.00020172979566268623. Test_MSE: 0.00011919752042798077\n",
      "Epoch: 502 Iteration: 47200. Train_MSE: 0.00048006727593019605. Test_MSE: 0.00011895816573391674\n",
      "Epoch: 503 Iteration: 47300. Train_MSE: 0.0007701728609390557. Test_MSE: 0.00011874919403225674\n",
      "Epoch: 504 Iteration: 47400. Train_MSE: 0.00040986857493408024. Test_MSE: 0.00011865564376426\n",
      "Epoch: 505 Iteration: 47500. Train_MSE: 0.0003854379756376147. Test_MSE: 0.00011859803421330456\n",
      "Epoch: 506 Iteration: 47600. Train_MSE: 0.0002734626759774983. Test_MSE: 0.00011857934367480464\n",
      "Epoch: 507 Iteration: 47700. Train_MSE: 0.0021028772462159395. Test_MSE: 0.00011849951728867002\n",
      "Epoch: 508 Iteration: 47800. Train_MSE: 0.00011281503975624219. Test_MSE: 0.00011843228056541054\n",
      "Epoch: 509 Iteration: 47900. Train_MSE: 0.0004088061978109181. Test_MSE: 0.00011838919020712008\n",
      "Epoch: 510 Iteration: 48000. Train_MSE: 0.00021199649199843407. Test_MSE: 0.0001181881879144124\n",
      "Epoch: 511 Iteration: 48100. Train_MSE: 0.0002934100048150867. Test_MSE: 0.00011802610265376193\n",
      "Epoch: 512 Iteration: 48200. Train_MSE: 0.00031422427855432034. Test_MSE: 0.00011795306402499157\n",
      "Epoch: 513 Iteration: 48300. Train_MSE: 0.0010097979102283716. Test_MSE: 0.00011791758645654673\n",
      "Epoch: 514 Iteration: 48400. Train_MSE: 0.0003590718552004546. Test_MSE: 0.00011794415504792374\n",
      "Epoch: 515 Iteration: 48500. Train_MSE: 0.00018467882182449102. Test_MSE: 0.00011780207891397598\n",
      "Epoch: 517 Iteration: 48600. Train_MSE: 0.00011833352618850768. Test_MSE: 0.00011776075463012762\n",
      "Epoch: 518 Iteration: 48700. Train_MSE: 0.00033598963636904955. Test_MSE: 0.00011768672482559211\n",
      "Epoch: 519 Iteration: 48800. Train_MSE: 0.0002669297973625362. Test_MSE: 0.00011735197182921847\n",
      "Epoch: 520 Iteration: 48900. Train_MSE: 0.00023640337167307734. Test_MSE: 0.0001172126149152092\n",
      "Epoch: 521 Iteration: 49000. Train_MSE: 0.0005256337462924421. Test_MSE: 0.00011711769995039168\n",
      "Epoch: 522 Iteration: 49100. Train_MSE: 0.004301109351217747. Test_MSE: 0.0001171351590929872\n",
      "Epoch: 523 Iteration: 49200. Train_MSE: 0.0035212680231779814. Test_MSE: 0.000117097523879338\n",
      "Epoch: 524 Iteration: 49300. Train_MSE: 0.0001252787042176351. Test_MSE: 0.00011697695090073024\n",
      "Epoch: 525 Iteration: 49400. Train_MSE: 0.00015732178871985525. Test_MSE: 0.00011698252911892764\n",
      "Epoch: 526 Iteration: 49500. Train_MSE: 0.0001903807424241677. Test_MSE: 0.00011686066435589848\n",
      "Epoch: 527 Iteration: 49600. Train_MSE: 0.0003409447963349521. Test_MSE: 0.0001166436278336433\n",
      "Epoch: 528 Iteration: 49700. Train_MSE: 0.00029298977460712194. Test_MSE: 0.00011651764226321841\n",
      "Epoch: 529 Iteration: 49800. Train_MSE: 0.0006569024408236146. Test_MSE: 0.00011645394398047455\n",
      "Epoch: 530 Iteration: 49900. Train_MSE: 0.008683353662490845. Test_MSE: 0.00011650788727053038\n",
      "Epoch: 531 Iteration: 50000. Train_MSE: 0.0002267063973704353. Test_MSE: 0.00011646242769888263\n",
      "Epoch: 532 Iteration: 50100. Train_MSE: 9.705398406367749e-05. Test_MSE: 0.00011631695488143926\n",
      "Epoch: 534 Iteration: 50200. Train_MSE: 0.00010737709089880809. Test_MSE: 0.00011624754659540624\n",
      "Epoch: 535 Iteration: 50300. Train_MSE: 0.000257843203144148. Test_MSE: 0.00011614456315356481\n",
      "Epoch: 536 Iteration: 50400. Train_MSE: 0.0006238360656425357. Test_MSE: 0.00011587643338858991\n",
      "Epoch: 537 Iteration: 50500. Train_MSE: 0.00037395471008494496. Test_MSE: 0.00011575274247915892\n",
      "Epoch: 538 Iteration: 50600. Train_MSE: 0.0005537428660318255. Test_MSE: 0.00011568325387647217\n",
      "Epoch: 539 Iteration: 50700. Train_MSE: 0.0003167361719533801. Test_MSE: 0.00011569954597742697\n",
      "Epoch: 540 Iteration: 50800. Train_MSE: 0.00014906404248904437. Test_MSE: 0.00011564422559248051\n",
      "Epoch: 541 Iteration: 50900. Train_MSE: 0.0001367738877888769. Test_MSE: 0.00011555166783130425\n",
      "Epoch: 542 Iteration: 51000. Train_MSE: 0.00015850873023737222. Test_MSE: 0.00011556530106908453\n",
      "Epoch: 543 Iteration: 51100. Train_MSE: 0.00013788971409667283. Test_MSE: 0.00011538107329463315\n",
      "Epoch: 544 Iteration: 51200. Train_MSE: 0.0006656527402810752. Test_MSE: 0.00011518617203734032\n",
      "Epoch: 545 Iteration: 51300. Train_MSE: 0.0003181348729413003. Test_MSE: 0.00011508834808025637\n",
      "Epoch: 546 Iteration: 51400. Train_MSE: 0.0003910572559107095. Test_MSE: 0.00011503655540470578\n",
      "Epoch: 547 Iteration: 51500. Train_MSE: 0.00027564589981921017. Test_MSE: 0.00011509254718429652\n",
      "Epoch: 548 Iteration: 51600. Train_MSE: 0.0001302673772443086. Test_MSE: 0.00011500906206681075\n",
      "Epoch: 549 Iteration: 51700. Train_MSE: 6.807938916608691e-05. Test_MSE: 0.00011489603662542636\n",
      "Epoch: 551 Iteration: 51800. Train_MSE: 0.00018521123274695128. Test_MSE: 0.00011486030828907768\n"
     ]
    },
    {
     "name": "stdout",
     "output_type": "stream",
     "text": [
      "Epoch: 552 Iteration: 51900. Train_MSE: 0.00046455394476652145. Test_MSE: 0.00011462701757546747\n",
      "Epoch: 553 Iteration: 52000. Train_MSE: 0.0007578685181215405. Test_MSE: 0.00011442674917214535\n",
      "Epoch: 554 Iteration: 52100. Train_MSE: 0.00040204322431236506. Test_MSE: 0.00011434155885837357\n",
      "Epoch: 555 Iteration: 52200. Train_MSE: 0.00037533455179072917. Test_MSE: 0.00011429401137241199\n",
      "Epoch: 556 Iteration: 52300. Train_MSE: 0.00026156811509281397. Test_MSE: 0.00011428783953557861\n",
      "Epoch: 557 Iteration: 52400. Train_MSE: 0.002090946538373828. Test_MSE: 0.00011421824425211757\n",
      "Epoch: 558 Iteration: 52500. Train_MSE: 0.00010311783262295648. Test_MSE: 0.0001141598042924967\n",
      "Epoch: 559 Iteration: 52600. Train_MSE: 0.00040232096216641366. Test_MSE: 0.00011412813374406625\n",
      "Epoch: 560 Iteration: 52700. Train_MSE: 0.00020552100613713264. Test_MSE: 0.00011393375787173975\n",
      "Epoch: 561 Iteration: 52800. Train_MSE: 0.0002859064843505621. Test_MSE: 0.0001137788191244746\n",
      "Epoch: 562 Iteration: 52900. Train_MSE: 0.00030780560337007046. Test_MSE: 0.00011371490002895572\n",
      "Epoch: 563 Iteration: 53000. Train_MSE: 0.001003739656880498. Test_MSE: 0.00011369038133189677\n",
      "Epoch: 564 Iteration: 53100. Train_MSE: 0.00035142924753017724. Test_MSE: 0.00011373028213880594\n",
      "Epoch: 565 Iteration: 53200. Train_MSE: 0.00017570467025507241. Test_MSE: 0.0001135965889341437\n",
      "Epoch: 567 Iteration: 53300. Train_MSE: 0.00010860191832762212. Test_MSE: 0.00011356429597552732\n",
      "Epoch: 568 Iteration: 53400. Train_MSE: 0.00032603618456050754. Test_MSE: 0.00011349862980908634\n",
      "Epoch: 569 Iteration: 53500. Train_MSE: 0.0002557196712587029. Test_MSE: 0.00011316830284734513\n",
      "Epoch: 570 Iteration: 53600. Train_MSE: 0.0002287871320731938. Test_MSE: 0.00011303720743093328\n",
      "Epoch: 571 Iteration: 53700. Train_MSE: 0.0005131878424435854. Test_MSE: 0.00011294973160610537\n",
      "Epoch: 572 Iteration: 53800. Train_MSE: 0.004300314467400312. Test_MSE: 0.00011297981403858462\n",
      "Epoch: 573 Iteration: 53900. Train_MSE: 0.0035180402919650078. Test_MSE: 0.00011295267443779317\n",
      "Epoch: 574 Iteration: 54000. Train_MSE: 0.00012202971265651286. Test_MSE: 0.00011284117636490123\n",
      "Epoch: 575 Iteration: 54100. Train_MSE: 0.00014466118591371924. Test_MSE: 0.00011285504881421862\n",
      "Epoch: 576 Iteration: 54200. Train_MSE: 0.0001824613136705011. Test_MSE: 0.00011274246238070183\n",
      "Epoch: 577 Iteration: 54300. Train_MSE: 0.00033301018993370235. Test_MSE: 0.00011253065297740179\n",
      "Epoch: 578 Iteration: 54400. Train_MSE: 0.0002871487522497773. Test_MSE: 0.00011241198802463175\n",
      "Epoch: 579 Iteration: 54500. Train_MSE: 0.0006451712688431144. Test_MSE: 0.00011235715529213882\n",
      "Epoch: 580 Iteration: 54600. Train_MSE: 0.008681089617311954. Test_MSE: 0.0001124245679753148\n",
      "Epoch: 581 Iteration: 54700. Train_MSE: 0.0002174523688154295. Test_MSE: 0.00011238912045266196\n",
      "Epoch: 582 Iteration: 54800. Train_MSE: 9.202004730468616e-05. Test_MSE: 0.00011225172849365782\n",
      "Epoch: 584 Iteration: 54900. Train_MSE: 0.00010007210948970169. Test_MSE: 0.00011218986462695809\n",
      "Epoch: 585 Iteration: 55000. Train_MSE: 0.00024934555403888226. Test_MSE: 0.00011209415396166972\n",
      "Epoch: 586 Iteration: 55100. Train_MSE: 0.0006168614490889013. Test_MSE: 0.00011183100324324616\n",
      "Epoch: 587 Iteration: 55200. Train_MSE: 0.0003630665014497936. Test_MSE: 0.000111715592047759\n",
      "Epoch: 588 Iteration: 55300. Train_MSE: 0.0005451073520816863. Test_MSE: 0.00011165406562899326\n",
      "Epoch: 589 Iteration: 55400. Train_MSE: 0.0003070308011956513. Test_MSE: 0.00011168273120001024\n",
      "Epoch: 590 Iteration: 55500. Train_MSE: 0.00014106403978075832. Test_MSE: 0.0001116369121492411\n",
      "Epoch: 591 Iteration: 55600. Train_MSE: 0.00012595368025358766. Test_MSE: 0.00011155195997634951\n",
      "Epoch: 592 Iteration: 55700. Train_MSE: 0.00014782526704948395. Test_MSE: 0.00011157593267477948\n",
      "Epoch: 593 Iteration: 55800. Train_MSE: 0.0001316013076575473. Test_MSE: 0.0001113988202450455\n",
      "Epoch: 594 Iteration: 55900. Train_MSE: 0.000654730771202594. Test_MSE: 0.00011121027305571954\n",
      "Epoch: 595 Iteration: 56000. Train_MSE: 0.00031122041400521994. Test_MSE: 0.00011111956702710827\n",
      "Epoch: 596 Iteration: 56100. Train_MSE: 0.00038385807420127094. Test_MSE: 0.00011107672540213737\n",
      "Epoch: 597 Iteration: 56200. Train_MSE: 0.000260920642176643. Test_MSE: 0.00011114538673343086\n",
      "Epoch: 598 Iteration: 56300. Train_MSE: 0.00012357646482996643. Test_MSE: 0.00011107002311770213\n",
      "Epoch: 599 Iteration: 56400. Train_MSE: 6.239824870135635e-05. Test_MSE: 0.00011096612735550678\n",
      "Epoch: 601 Iteration: 56500. Train_MSE: 0.0001710609212750569. Test_MSE: 0.00011093738362728262\n",
      "Epoch: 602 Iteration: 56600. Train_MSE: 0.0004496112815104425. Test_MSE: 0.00011070921289312995\n",
      "Epoch: 603 Iteration: 56700. Train_MSE: 0.0007471017306670547. Test_MSE: 0.00011051621480238123\n",
      "Epoch: 604 Iteration: 56800. Train_MSE: 0.0003951756516471505. Test_MSE: 0.00011043814371664463\n",
      "Epoch: 605 Iteration: 56900. Train_MSE: 0.0003663563111331314. Test_MSE: 0.0001103993250782277\n",
      "Epoch: 606 Iteration: 57000. Train_MSE: 0.0002509820042178035. Test_MSE: 0.00011040424362377741\n",
      "Epoch: 607 Iteration: 57100. Train_MSE: 0.002080658683553338. Test_MSE: 0.00011034371778351466\n",
      "Epoch: 608 Iteration: 57200. Train_MSE: 9.497534483671188e-05. Test_MSE: 0.00011029291915622229\n",
      "Epoch: 609 Iteration: 57300. Train_MSE: 0.00039673561695963144. Test_MSE: 0.00011027143187144253\n",
      "Epoch: 610 Iteration: 57400. Train_MSE: 0.00019952580623794347. Test_MSE: 0.0001100824982610774\n",
      "Epoch: 611 Iteration: 57500. Train_MSE: 0.0002792312006931752. Test_MSE: 0.0001099336897675905\n",
      "Epoch: 612 Iteration: 57600. Train_MSE: 0.0003017832641489804. Test_MSE: 0.00010987750875916269\n",
      "Epoch: 613 Iteration: 57700. Train_MSE: 0.0009979649912565947. Test_MSE: 0.00010986269565894682\n",
      "Epoch: 614 Iteration: 57800. Train_MSE: 0.0003447287599556148. Test_MSE: 0.00010991440735064592\n",
      "Epoch: 615 Iteration: 57900. Train_MSE: 0.00016753451200202107. Test_MSE: 0.00010978809790183647\n",
      "Epoch: 617 Iteration: 58000. Train_MSE: 0.00010030437260866165. Test_MSE: 0.00010976368240391385\n",
      "Epoch: 618 Iteration: 58100. Train_MSE: 0.0003176239551976323. Test_MSE: 0.00010970520825109625\n",
      "Epoch: 619 Iteration: 58200. Train_MSE: 0.00024557497818022966. Test_MSE: 0.00010937887893875778\n",
      "Epoch: 620 Iteration: 58300. Train_MSE: 0.00022190186427906156. Test_MSE: 0.0001092551820573864\n",
      "Epoch: 621 Iteration: 58400. Train_MSE: 0.0005020945682190359. Test_MSE: 0.0001091742695070714\n",
      "Epoch: 622 Iteration: 58500. Train_MSE: 0.004299718886613846. Test_MSE: 0.00010921542753051025\n",
      "Epoch: 623 Iteration: 58600. Train_MSE: 0.0035153755452483892. Test_MSE: 0.00010919749469564254\n",
      "Epoch: 624 Iteration: 58700. Train_MSE: 0.00011913255002582446. Test_MSE: 0.0001090939147482622\n",
      "Epoch: 625 Iteration: 58800. Train_MSE: 0.0001338483561994508. Test_MSE: 0.00010911512502872366\n",
      "Epoch: 626 Iteration: 58900. Train_MSE: 0.000175633977050893. Test_MSE: 0.00010901098906189592\n",
      "Epoch: 627 Iteration: 59000. Train_MSE: 0.0003256827185396105. Test_MSE: 0.00010880361830966015\n",
      "Epoch: 628 Iteration: 59100. Train_MSE: 0.00028190328157506883. Test_MSE: 0.0001086913344290147\n",
      "Epoch: 629 Iteration: 59200. Train_MSE: 0.000634623400401324. Test_MSE: 0.00010864457103789546\n",
      "Epoch: 630 Iteration: 59300. Train_MSE: 0.008678853511810303. Test_MSE: 0.0001087243632640816\n",
      "Epoch: 631 Iteration: 59400. Train_MSE: 0.00020933248742949218. Test_MSE: 0.00010869785926479666\n",
      "Epoch: 632 Iteration: 59500. Train_MSE: 8.754897862672806e-05. Test_MSE: 0.0001085674890964264\n",
      "Epoch: 634 Iteration: 59600. Train_MSE: 9.392800711793825e-05. Test_MSE: 0.00010851212177731255\n",
      "Epoch: 635 Iteration: 59700. Train_MSE: 0.0002414303889963776. Test_MSE: 0.00010842266926575891\n",
      "Epoch: 636 Iteration: 59800. Train_MSE: 0.0006101711187511683. Test_MSE: 0.00010816383101684221\n",
      "Epoch: 637 Iteration: 59900. Train_MSE: 0.0003535306896083057. Test_MSE: 0.00010805568091663801\n",
      "Epoch: 638 Iteration: 60000. Train_MSE: 0.0005373702733777463. Test_MSE: 0.00010800096956903305\n",
      "Epoch: 639 Iteration: 60100. Train_MSE: 0.0002982825681101531. Test_MSE: 0.00010804087323225686\n",
      "Epoch: 640 Iteration: 60200. Train_MSE: 0.00013422912161331624. Test_MSE: 0.00010800327428615332\n",
      "Epoch: 641 Iteration: 60300. Train_MSE: 0.00011694077693391591. Test_MSE: 0.00010792487210039932\n",
      "Epoch: 642 Iteration: 60400. Train_MSE: 0.00013860689068678766. Test_MSE: 0.00010795788003201896\n"
     ]
    },
    {
     "name": "stdout",
     "output_type": "stream",
     "text": [
      "Epoch: 643 Iteration: 60500. Train_MSE: 0.00012614711886271834. Test_MSE: 0.00010778676364917776\n",
      "Epoch: 644 Iteration: 60600. Train_MSE: 0.0006448554340749979. Test_MSE: 0.0001076038736177757\n",
      "Epoch: 645 Iteration: 60700. Train_MSE: 0.00030469283228740096. Test_MSE: 0.00010751932503180689\n",
      "Epoch: 646 Iteration: 60800. Train_MSE: 0.00037700351094827056. Test_MSE: 0.00010748457205464748\n",
      "Epoch: 647 Iteration: 60900. Train_MSE: 0.0002478296810295433. Test_MSE: 0.00010756503252854764\n",
      "Epoch: 648 Iteration: 61000. Train_MSE: 0.00011766704847104847. Test_MSE: 0.0001074970197279542\n",
      "Epoch: 649 Iteration: 61100. Train_MSE: 5.741617496823892e-05. Test_MSE: 0.00010740143065770422\n",
      "Epoch: 651 Iteration: 61200. Train_MSE: 0.00015895253454800695. Test_MSE: 0.00010737901883953942\n",
      "Epoch: 652 Iteration: 61300. Train_MSE: 0.00043526143417693675. Test_MSE: 0.00010715542549548081\n",
      "Epoch: 653 Iteration: 61400. Train_MSE: 0.0007373919943347573. Test_MSE: 0.0001069690396178648\n",
      "Epoch: 654 Iteration: 61500. Train_MSE: 0.00038897444028407335. Test_MSE: 0.00010689737340356629\n",
      "Epoch: 655 Iteration: 61600. Train_MSE: 0.00035839571501128376. Test_MSE: 0.00010686650689463388\n",
      "Epoch: 656 Iteration: 61700. Train_MSE: 0.0002414286573184654. Test_MSE: 0.00010688158118332878\n",
      "Epoch: 657 Iteration: 61800. Train_MSE: 0.00207188306376338. Test_MSE: 0.00010682910401641063\n",
      "Epoch: 658 Iteration: 61900. Train_MSE: 8.806811820250005e-05. Test_MSE: 0.00010678508259186044\n",
      "Epoch: 659 Iteration: 62000. Train_MSE: 0.0003919108130503446. Test_MSE: 0.00010677303251676362\n",
      "Epoch: 660 Iteration: 62100. Train_MSE: 0.00019391687237657607. Test_MSE: 0.0001065887731382191\n",
      "Epoch: 661 Iteration: 62200. Train_MSE: 0.0002729907282628119. Test_MSE: 0.00010644537688220668\n",
      "Epoch: 662 Iteration: 62300. Train_MSE: 0.00029613677179440856. Test_MSE: 0.00010639630905159588\n",
      "Epoch: 663 Iteration: 62400. Train_MSE: 0.0009929483057931066. Test_MSE: 0.00010639065450583712\n",
      "Epoch: 664 Iteration: 62500. Train_MSE: 0.00033883494324982166. Test_MSE: 0.0001064535754379915\n",
      "Epoch: 665 Iteration: 62600. Train_MSE: 0.00015999338938854635. Test_MSE: 0.00010633372877426793\n",
      "Epoch: 667 Iteration: 62700. Train_MSE: 9.314357157563791e-05. Test_MSE: 0.00010631643727960625\n",
      "Epoch: 668 Iteration: 62800. Train_MSE: 0.0003105377545580268. Test_MSE: 0.00010626467564644883\n",
      "Epoch: 669 Iteration: 62900. Train_MSE: 0.00023633426462765783. Test_MSE: 0.00010594162535799806\n",
      "Epoch: 670 Iteration: 63000. Train_MSE: 0.00021571513207163662. Test_MSE: 0.00010582474525115341\n",
      "Epoch: 671 Iteration: 63100. Train_MSE: 0.0004920051433146. Test_MSE: 0.00010574988461734061\n",
      "Epoch: 672 Iteration: 63200. Train_MSE: 0.0042995731346309185. Test_MSE: 0.00010580188724447922\n",
      "Epoch: 673 Iteration: 63300. Train_MSE: 0.00351336901076138. Test_MSE: 0.00010579258121719128\n",
      "Epoch: 674 Iteration: 63400. Train_MSE: 0.00011647411884041503. Test_MSE: 0.00010569617168890388\n",
      "Epoch: 675 Iteration: 63500. Train_MSE: 0.0001244833110831678. Test_MSE: 0.00010572426852272151\n",
      "Epoch: 676 Iteration: 63600. Train_MSE: 0.00016960925131570548. Test_MSE: 0.00010562794166019596\n",
      "Epoch: 677 Iteration: 63700. Train_MSE: 0.0003187464317306876. Test_MSE: 0.00010542443596542549\n",
      "Epoch: 678 Iteration: 63800. Train_MSE: 0.00027708837296813726. Test_MSE: 0.0001053181451875696\n",
      "Epoch: 679 Iteration: 63900. Train_MSE: 0.0006250683800317347. Test_MSE: 0.0001052787227086607\n",
      "Epoch: 680 Iteration: 64000. Train_MSE: 0.008676757104694843. Test_MSE: 0.00010537056077305355\n",
      "Epoch: 681 Iteration: 64100. Train_MSE: 0.0002020576357608661. Test_MSE: 0.00010535238058283892\n",
      "Epoch: 682 Iteration: 64200. Train_MSE: 8.36448380141519e-05. Test_MSE: 0.00010522853588600041\n",
      "Epoch: 684 Iteration: 64300. Train_MSE: 8.874009654391557e-05. Test_MSE: 0.00010517920985438306\n",
      "Epoch: 685 Iteration: 64400. Train_MSE: 0.00023401546059176326. Test_MSE: 0.00010509593903724943\n",
      "Epoch: 686 Iteration: 64500. Train_MSE: 0.0006038590800017118. Test_MSE: 0.00010484111295861048\n",
      "Epoch: 687 Iteration: 64600. Train_MSE: 0.0003451420343481004. Test_MSE: 0.00010473995953590595\n",
      "Epoch: 688 Iteration: 64700. Train_MSE: 0.0005305576487444341. Test_MSE: 0.00010469174208267338\n",
      "Epoch: 689 Iteration: 64800. Train_MSE: 0.00029027098207734525. Test_MSE: 0.00010474257730751255\n",
      "Epoch: 690 Iteration: 64900. Train_MSE: 0.00012828368926420808. Test_MSE: 0.00010471290417822046\n",
      "Epoch: 691 Iteration: 65000. Train_MSE: 0.00010933417797787115. Test_MSE: 0.0001046408455656156\n",
      "Epoch: 692 Iteration: 65100. Train_MSE: 0.00013060816854704171. Test_MSE: 0.00010468268123282567\n",
      "Epoch: 693 Iteration: 65200. Train_MSE: 0.00012134477583458647. Test_MSE: 0.00010451728625032182\n",
      "Epoch: 694 Iteration: 65300. Train_MSE: 0.0006359644467011094. Test_MSE: 0.00010433941178406157\n",
      "Epoch: 695 Iteration: 65400. Train_MSE: 0.00029884616378694773. Test_MSE: 0.00010426062717017969\n",
      "Epoch: 696 Iteration: 65500. Train_MSE: 0.0003705044218804687. Test_MSE: 0.00010423330043782634\n",
      "Epoch: 697 Iteration: 65600. Train_MSE: 0.0002361239166930318. Test_MSE: 0.00010432519985266494\n",
      "Epoch: 698 Iteration: 65700. Train_MSE: 0.00011256017023697495. Test_MSE: 0.00010426384830654652\n",
      "Epoch: 699 Iteration: 65800. Train_MSE: 5.3209201723802835e-05. Test_MSE: 0.00010417570312639756\n",
      "Epoch: 701 Iteration: 65900. Train_MSE: 0.00014846377598587424. Test_MSE: 0.00010415910486984271\n",
      "Epoch: 702 Iteration: 66000. Train_MSE: 0.0004216432280372828. Test_MSE: 0.00010393930998449677\n",
      "Epoch: 703 Iteration: 66100. Train_MSE: 0.0007285751635208726. Test_MSE: 0.0001037588244947617\n",
      "Epoch: 704 Iteration: 66200. Train_MSE: 0.0003833867667708546. Test_MSE: 0.00010369307926045212\n",
      "Epoch: 705 Iteration: 66300. Train_MSE: 0.0003511763643473387. Test_MSE: 0.00010366939293822307\n",
      "Epoch: 706 Iteration: 66400. Train_MSE: 0.00023287742806132883. Test_MSE: 0.00010369394712676856\n",
      "Epoch: 707 Iteration: 66500. Train_MSE: 0.0020642210729420185. Test_MSE: 0.00010364874193901947\n",
      "Epoch: 708 Iteration: 66600. Train_MSE: 8.215672278311104e-05. Test_MSE: 0.00010361075404374119\n",
      "Epoch: 709 Iteration: 66700. Train_MSE: 0.0003877134877257049. Test_MSE: 0.00010360740171934168\n",
      "Epoch: 710 Iteration: 66800. Train_MSE: 0.00018860217824112624. Test_MSE: 0.00010342709605814576\n",
      "Epoch: 711 Iteration: 66900. Train_MSE: 0.0002673699054867029. Test_MSE: 0.00010328852744970897\n",
      "Epoch: 712 Iteration: 67000. Train_MSE: 0.0002909836475737393. Test_MSE: 0.00010324583385295102\n",
      "Epoch: 713 Iteration: 67100. Train_MSE: 0.0009884423343464732. Test_MSE: 0.00010324840790947888\n",
      "Epoch: 714 Iteration: 67200. Train_MSE: 0.0003335328365210444. Test_MSE: 0.00010332180086428649\n",
      "Epoch: 715 Iteration: 67300. Train_MSE: 0.00015325187996495515. Test_MSE: 0.00010320741195481629\n",
      "Epoch: 717 Iteration: 67400. Train_MSE: 8.686765795573592e-05. Test_MSE: 0.00010319646928063798\n",
      "Epoch: 718 Iteration: 67500. Train_MSE: 0.0003045412595383823. Test_MSE: 0.0001031507490791028\n",
      "Epoch: 719 Iteration: 67600. Train_MSE: 0.00022818036086391658. Test_MSE: 0.00010282997090172794\n",
      "Epoch: 720 Iteration: 67700. Train_MSE: 0.00021018825646024197. Test_MSE: 0.00010271907185810294\n",
      "Epoch: 721 Iteration: 67800. Train_MSE: 0.000483013252960518. Test_MSE: 0.00010264925843589324\n",
      "Epoch: 722 Iteration: 67900. Train_MSE: 0.004299507942050695. Test_MSE: 0.00010271114937802694\n",
      "Epoch: 723 Iteration: 68000. Train_MSE: 0.003511483781039715. Test_MSE: 0.00010270936347341246\n",
      "Epoch: 724 Iteration: 68100. Train_MSE: 0.00011404689576011151. Test_MSE: 0.00010261878222660387\n",
      "Epoch: 725 Iteration: 68200. Train_MSE: 0.00011631016968749464. Test_MSE: 0.00010265286587979361\n",
      "Epoch: 726 Iteration: 68300. Train_MSE: 0.0001642127026570961. Test_MSE: 0.00010256328018920584\n",
      "Epoch: 727 Iteration: 68400. Train_MSE: 0.0003121772897429764. Test_MSE: 0.00010236261164367938\n",
      "Epoch: 728 Iteration: 68500. Train_MSE: 0.00027265361859463155. Test_MSE: 0.00010226131335019775\n",
      "Epoch: 729 Iteration: 68600. Train_MSE: 0.0006164940423332155. Test_MSE: 0.00010222823044201974\n",
      "Epoch: 730 Iteration: 68700. Train_MSE: 0.008674425072968006. Test_MSE: 0.00010233126046276874\n",
      "Epoch: 731 Iteration: 68800. Train_MSE: 0.00019580945081543177. Test_MSE: 0.00010232010058194059\n",
      "Epoch: 732 Iteration: 68900. Train_MSE: 8.02381182438694e-05. Test_MSE: 0.00010220143566534975\n",
      "Epoch: 734 Iteration: 69000. Train_MSE: 8.433382026851177e-05. Test_MSE: 0.00010215705822560793\n"
     ]
    },
    {
     "name": "stdout",
     "output_type": "stream",
     "text": [
      "Epoch: 735 Iteration: 69100. Train_MSE: 0.0002272971032653004. Test_MSE: 0.00010207872760395452\n",
      "Epoch: 736 Iteration: 69200. Train_MSE: 0.0005980435525998473. Test_MSE: 0.00010182666659842122\n",
      "Epoch: 737 Iteration: 69300. Train_MSE: 0.0003375227388460189. Test_MSE: 0.00010173141101178815\n",
      "Epoch: 738 Iteration: 69400. Train_MSE: 0.000524385366588831. Test_MSE: 0.00010168865867133234\n",
      "Epoch: 739 Iteration: 69500. Train_MSE: 0.00028304275474511087. Test_MSE: 0.00010174930857115363\n",
      "Epoch: 740 Iteration: 69600. Train_MSE: 0.00012323232658673078. Test_MSE: 0.00010172622747128909\n",
      "Epoch: 741 Iteration: 69700. Train_MSE: 0.00010282367293257266. Test_MSE: 0.00010165916395303387\n",
      "Epoch: 742 Iteration: 69800. Train_MSE: 0.0001235798408742994. Test_MSE: 0.000101708525402085\n",
      "Epoch: 743 Iteration: 69900. Train_MSE: 0.00011706658551702276. Test_MSE: 0.0001015475180095433\n",
      "Epoch: 744 Iteration: 70000. Train_MSE: 0.0006280314410105348. Test_MSE: 0.00010137354799672732\n",
      "Epoch: 745 Iteration: 70100. Train_MSE: 0.0002934803196694702. Test_MSE: 0.0001012990308103121\n",
      "Epoch: 746 Iteration: 70200. Train_MSE: 0.00036442468990571797. Test_MSE: 0.0001012776733981586\n",
      "Epoch: 747 Iteration: 70300. Train_MSE: 0.00022556103067472577. Test_MSE: 0.0001013795050412495\n",
      "Epoch: 748 Iteration: 70400. Train_MSE: 0.00010806741192936897. Test_MSE: 0.00010132322967932992\n",
      "Epoch: 749 Iteration: 70500. Train_MSE: 4.96002467116341e-05. Test_MSE: 0.0001012406606103542\n",
      "Epoch: 751 Iteration: 70600. Train_MSE: 0.0001392178819514811. Test_MSE: 0.00010122859742549723\n",
      "Epoch: 752 Iteration: 70700. Train_MSE: 0.0004085817199666053. Test_MSE: 0.00010101133127405159\n",
      "Epoch: 753 Iteration: 70800. Train_MSE: 0.0007205905858427286. Test_MSE: 0.00010083546778431823\n",
      "Epoch: 754 Iteration: 70900. Train_MSE: 0.0003783209540415555. Test_MSE: 0.0001007742375005982\n",
      "Epoch: 755 Iteration: 71000. Train_MSE: 0.0003444683097768575. Test_MSE: 0.00010075625035279231\n",
      "Epoch: 756 Iteration: 71100. Train_MSE: 0.00022523716324940324. Test_MSE: 0.00010078876776823522\n",
      "Epoch: 757 Iteration: 71200. Train_MSE: 0.002057419391348958. Test_MSE: 0.0001007493366268186\n",
      "Epoch: 758 Iteration: 71300. Train_MSE: 7.703630399191752e-05. Test_MSE: 0.00010071600041165745\n",
      "Epoch: 759 Iteration: 71400. Train_MSE: 0.0003839603450614959. Test_MSE: 0.00010072008392111538\n",
      "Epoch: 760 Iteration: 71500. Train_MSE: 0.00018358035595156252. Test_MSE: 0.00010054279690229712\n",
      "Epoch: 761 Iteration: 71600. Train_MSE: 0.0002622244937811047. Test_MSE: 0.00010040798625614037\n",
      "Epoch: 762 Iteration: 71700. Train_MSE: 0.0002862483379431069. Test_MSE: 0.00010037054211805442\n",
      "Epoch: 763 Iteration: 71800. Train_MSE: 0.0009842182043939829. Test_MSE: 0.00010038051866842353\n",
      "Epoch: 764 Iteration: 71900. Train_MSE: 0.00032866408582776785. Test_MSE: 0.00010046315048073369\n",
      "Epoch: 765 Iteration: 72000. Train_MSE: 0.00014720701437909156. Test_MSE: 0.00010035289092327717\n",
      "Epoch: 767 Iteration: 72100. Train_MSE: 8.140043064486235e-05. Test_MSE: 0.00010034676989648338\n",
      "Epoch: 768 Iteration: 72200. Train_MSE: 0.0002993157831951976. Test_MSE: 0.00010030571425825139\n",
      "Epoch: 769 Iteration: 72300. Train_MSE: 0.0002208169607911259. Test_MSE: 9.998683508857753e-05\n",
      "Epoch: 770 Iteration: 72400. Train_MSE: 0.00020516535732895136. Test_MSE: 9.988093435378747e-05\n",
      "Epoch: 771 Iteration: 72500. Train_MSE: 0.0004746643826365471. Test_MSE: 9.981491377639266e-05\n",
      "Epoch: 772 Iteration: 72600. Train_MSE: 0.0042996592819690704. Test_MSE: 9.988504050091944e-05\n",
      "Epoch: 773 Iteration: 72700. Train_MSE: 0.0035096867941319942. Test_MSE: 9.988920398476082e-05\n",
      "Epoch: 774 Iteration: 72800. Train_MSE: 0.00011176332918694243. Test_MSE: 9.980340729280462e-05\n",
      "Epoch: 775 Iteration: 72900. Train_MSE: 0.00010914653830695897. Test_MSE: 9.984234902803904e-05\n",
      "Epoch: 776 Iteration: 73000. Train_MSE: 0.00015908059140201658. Test_MSE: 9.975862719345469e-05\n",
      "Epoch: 777 Iteration: 73100. Train_MSE: 0.00030599278397858143. Test_MSE: 9.956036004908823e-05\n",
      "Epoch: 778 Iteration: 73200. Train_MSE: 0.0002685593208298087. Test_MSE: 9.946310730150051e-05\n",
      "Epoch: 779 Iteration: 73300. Train_MSE: 0.0006085567874833941. Test_MSE: 9.943501284065946e-05\n",
      "Epoch: 780 Iteration: 73400. Train_MSE: 0.008672013878822327. Test_MSE: 9.95473084889813e-05\n",
      "Epoch: 781 Iteration: 73500. Train_MSE: 0.00019025368965230882. Test_MSE: 9.954161881184885e-05\n",
      "Epoch: 782 Iteration: 73600. Train_MSE: 7.713651575613767e-05. Test_MSE: 9.942705977350367e-05\n",
      "Epoch: 784 Iteration: 73700. Train_MSE: 8.056006481638178e-05. Test_MSE: 9.938652583589215e-05\n",
      "Epoch: 785 Iteration: 73800. Train_MSE: 0.000220981179154478. Test_MSE: 9.931224519783811e-05\n",
      "Epoch: 786 Iteration: 73900. Train_MSE: 0.0005924873985350132. Test_MSE: 9.906286721865703e-05\n",
      "Epoch: 787 Iteration: 74000. Train_MSE: 0.0003306474245619029. Test_MSE: 9.897193179655043e-05\n",
      "Epoch: 788 Iteration: 74100. Train_MSE: 0.0005187045317143202. Test_MSE: 9.893327451157312e-05\n",
      "Epoch: 789 Iteration: 74200. Train_MSE: 0.0002764479722827673. Test_MSE: 9.900187897288201e-05\n",
      "Epoch: 790 Iteration: 74300. Train_MSE: 0.0001186891458928585. Test_MSE: 9.898391407558733e-05\n",
      "Epoch: 791 Iteration: 74400. Train_MSE: 9.728589066071436e-05. Test_MSE: 9.892077509746746e-05\n",
      "Epoch: 792 Iteration: 74500. Train_MSE: 0.00011740341142285615. Test_MSE: 9.897606404760153e-05\n",
      "Epoch: 793 Iteration: 74600. Train_MSE: 0.00011323223588988185. Test_MSE: 9.881942080969155e-05\n",
      "Epoch: 794 Iteration: 74700. Train_MSE: 0.000620778591837734. Test_MSE: 9.864954097769608e-05\n",
      "Epoch: 795 Iteration: 74800. Train_MSE: 0.00028842093888670206. Test_MSE: 9.857922293266077e-05\n",
      "Epoch: 796 Iteration: 74900. Train_MSE: 0.0003586859966162592. Test_MSE: 9.856323244311036e-05\n",
      "Epoch: 797 Iteration: 75000. Train_MSE: 0.0002159995783586055. Test_MSE: 9.867346595091474e-05\n",
      "Epoch: 798 Iteration: 75100. Train_MSE: 0.00010405364446341991. Test_MSE: 9.862132347819183e-05\n",
      "Epoch: 799 Iteration: 75200. Train_MSE: 4.6468911023112014e-05. Test_MSE: 9.854362151563023e-05\n",
      "Epoch: 801 Iteration: 75300. Train_MSE: 0.0001310602528974414. Test_MSE: 9.853488140849873e-05\n",
      "Epoch: 802 Iteration: 75400. Train_MSE: 0.0003962055197916925. Test_MSE: 9.832069888201634e-05\n",
      "Epoch: 803 Iteration: 75500. Train_MSE: 0.0007133575272746384. Test_MSE: 9.8149429134398e-05\n",
      "Epoch: 804 Iteration: 75600. Train_MSE: 0.00037370406789705157. Test_MSE: 9.809210489660427e-05\n",
      "Epoch: 805 Iteration: 75700. Train_MSE: 0.0003383472212590277. Test_MSE: 9.807866272961198e-05\n",
      "Epoch: 806 Iteration: 75800. Train_MSE: 0.00021839659893885255. Test_MSE: 9.811762159660846e-05\n",
      "Epoch: 807 Iteration: 75900. Train_MSE: 0.0020514586940407753. Test_MSE: 9.808292631752721e-05\n",
      "Epoch: 808 Iteration: 76000. Train_MSE: 7.258627010742202e-05. Test_MSE: 9.805321009541389e-05\n",
      "Epoch: 809 Iteration: 76100. Train_MSE: 0.00038060927181504667. Test_MSE: 9.806322714744403e-05\n",
      "Epoch: 810 Iteration: 76200. Train_MSE: 0.00017881704843603075. Test_MSE: 9.788902673383178e-05\n",
      "Epoch: 811 Iteration: 76300. Train_MSE: 0.0002575102844275534. Test_MSE: 9.775785443408725e-05\n",
      "Epoch: 812 Iteration: 76400. Train_MSE: 0.0002819036890286952. Test_MSE: 9.772446956889256e-05\n",
      "Epoch: 813 Iteration: 76500. Train_MSE: 0.000980337499640882. Test_MSE: 9.773994297736256e-05\n",
      "Epoch: 814 Iteration: 76600. Train_MSE: 0.00032420307979919016. Test_MSE: 9.782959272836334e-05\n",
      "Epoch: 815 Iteration: 76700. Train_MSE: 0.00014169496716931462. Test_MSE: 9.772323127687936e-05\n",
      "Epoch: 817 Iteration: 76800. Train_MSE: 7.656656816834584e-05. Test_MSE: 9.77211778719959e-05\n",
      "Epoch: 818 Iteration: 76900. Train_MSE: 0.00029474651091732085. Test_MSE: 9.768430720884327e-05\n",
      "Epoch: 819 Iteration: 77000. Train_MSE: 0.00021424618898890913. Test_MSE: 9.73678513675038e-05\n",
      "Epoch: 820 Iteration: 77100. Train_MSE: 0.00020059137023054063. Test_MSE: 9.726659939184533e-05\n",
      "Epoch: 821 Iteration: 77200. Train_MSE: 0.0004670528578571975. Test_MSE: 9.720385773867146e-05\n",
      "Epoch: 822 Iteration: 77300. Train_MSE: 0.004299811087548733. Test_MSE: 9.728101980001907e-05\n",
      "Epoch: 823 Iteration: 77400. Train_MSE: 0.0035079983063042164. Test_MSE: 9.729025828831756e-05\n",
      "Epoch: 824 Iteration: 77500. Train_MSE: 0.00010963453678414226. Test_MSE: 9.720875848802e-05\n",
      "Epoch: 825 Iteration: 77600. Train_MSE: 0.00010280559945385903. Test_MSE: 9.725108217227844e-05\n"
     ]
    },
    {
     "name": "stdout",
     "output_type": "stream",
     "text": [
      "Epoch: 826 Iteration: 77700. Train_MSE: 0.0001543950493214652. Test_MSE: 9.717259979915583e-05\n",
      "Epoch: 827 Iteration: 77800. Train_MSE: 0.00030020097619853914. Test_MSE: 9.697706173403541e-05\n",
      "Epoch: 828 Iteration: 77900. Train_MSE: 0.00026477259234525263. Test_MSE: 9.688360732398231e-05\n",
      "Epoch: 829 Iteration: 78000. Train_MSE: 0.0006013592355884612. Test_MSE: 9.685984119217434e-05\n",
      "Epoch: 830 Iteration: 78100. Train_MSE: 0.008669516071677208. Test_MSE: 9.69801220226608e-05\n",
      "Epoch: 831 Iteration: 78200. Train_MSE: 0.00018543047190178186. Test_MSE: 9.697926910031204e-05\n",
      "Epoch: 832 Iteration: 78300. Train_MSE: 7.433156133629382e-05. Test_MSE: 9.686878777741548e-05\n",
      "Epoch: 834 Iteration: 78400. Train_MSE: 7.723196904407814e-05. Test_MSE: 9.683169932767263e-05\n",
      "Epoch: 835 Iteration: 78500. Train_MSE: 0.00021518030553124845. Test_MSE: 9.6761176277676e-05\n",
      "Epoch: 836 Iteration: 78600. Train_MSE: 0.0005870959721505642. Test_MSE: 9.65150745692071e-05\n",
      "Epoch: 837 Iteration: 78700. Train_MSE: 0.0003243926621507853. Test_MSE: 9.642911523596307e-05\n",
      "Epoch: 838 Iteration: 78800. Train_MSE: 0.0005135360988788307. Test_MSE: 9.639368905600791e-05\n",
      "Epoch: 839 Iteration: 78900. Train_MSE: 0.0002705015940591693. Test_MSE: 9.646863706402076e-05\n",
      "Epoch: 840 Iteration: 79000. Train_MSE: 0.00011462024122010916. Test_MSE: 9.645466691203392e-05\n",
      "Epoch: 841 Iteration: 79100. Train_MSE: 9.24922278500162e-05. Test_MSE: 9.639464647677618e-05\n",
      "Epoch: 842 Iteration: 79200. Train_MSE: 0.00011183058086317033. Test_MSE: 9.645453986527853e-05\n",
      "Epoch: 843 Iteration: 79300. Train_MSE: 0.00010972467134706676. Test_MSE: 9.630170848473141e-05\n",
      "Epoch: 844 Iteration: 79400. Train_MSE: 0.000614215387031436. Test_MSE: 9.613523893213327e-05\n",
      "Epoch: 845 Iteration: 79500. Train_MSE: 0.00028371866210363805. Test_MSE: 9.606785601846804e-05\n",
      "Epoch: 846 Iteration: 79600. Train_MSE: 0.0003532960545271635. Test_MSE: 9.605565350281465e-05\n",
      "Epoch: 847 Iteration: 79700. Train_MSE: 0.00020732899429276586. Test_MSE: 9.617316138995635e-05\n",
      "Epoch: 848 Iteration: 79800. Train_MSE: 0.00010052700235974044. Test_MSE: 9.612476600234152e-05\n",
      "Epoch: 849 Iteration: 79900. Train_MSE: 4.368114605313167e-05. Test_MSE: 9.605159096892868e-05\n",
      "Epoch: 851 Iteration: 80000. Train_MSE: 0.00012377371604088694. Test_MSE: 9.604624044132646e-05\n",
      "Epoch: 852 Iteration: 80100. Train_MSE: 0.0003844736493192613. Test_MSE: 9.583510719416617e-05\n",
      "Epoch: 853 Iteration: 80200. Train_MSE: 0.0007068210979923606. Test_MSE: 9.566829005291881e-05\n",
      "Epoch: 854 Iteration: 80300. Train_MSE: 0.0003695163468364626. Test_MSE: 9.561422038260528e-05\n",
      "Epoch: 855 Iteration: 80400. Train_MSE: 0.00033278801129199564. Test_MSE: 9.560504424324578e-05\n",
      "Epoch: 856 Iteration: 80500. Train_MSE: 0.00021235292661003768. Test_MSE: 9.564995927902619e-05\n",
      "Epoch: 857 Iteration: 80600. Train_MSE: 0.0020460765808820724. Test_MSE: 9.561949095752155e-05\n",
      "Epoch: 858 Iteration: 80700. Train_MSE: 6.874902464915067e-05. Test_MSE: 9.559317924286181e-05\n",
      "Epoch: 859 Iteration: 80800. Train_MSE: 0.0003775997320190072. Test_MSE: 9.560909370881614e-05\n",
      "Epoch: 860 Iteration: 80900. Train_MSE: 0.00017426420527044684. Test_MSE: 9.543776478486353e-05\n",
      "Epoch: 861 Iteration: 81000. Train_MSE: 0.0002531743375584483. Test_MSE: 9.53099971287615e-05\n",
      "Epoch: 862 Iteration: 81100. Train_MSE: 0.00027788724401034415. Test_MSE: 9.528059368801735e-05\n",
      "Epoch: 863 Iteration: 81200. Train_MSE: 0.0009767725132405758. Test_MSE: 9.530119352396175e-05\n",
      "Epoch: 864 Iteration: 81300. Train_MSE: 0.00032014347380027175. Test_MSE: 9.539748671914401e-05\n",
      "Epoch: 865 Iteration: 81400. Train_MSE: 0.0001366365177091211. Test_MSE: 9.529445466080457e-05\n",
      "Epoch: 867 Iteration: 81500. Train_MSE: 7.226559682749212e-05. Test_MSE: 9.529604599168377e-05\n",
      "Epoch: 868 Iteration: 81600. Train_MSE: 0.00029072575853206217. Test_MSE: 9.526337819693603e-05\n",
      "Epoch: 869 Iteration: 81700. Train_MSE: 0.00020826369291171432. Test_MSE: 9.494939231945695e-05\n",
      "Epoch: 870 Iteration: 81800. Train_MSE: 0.00019640882965177298. Test_MSE: 9.48525352194609e-05\n",
      "Epoch: 871 Iteration: 81900. Train_MSE: 0.0004600844404194504. Test_MSE: 9.479267997999989e-05\n",
      "Epoch: 872 Iteration: 82000. Train_MSE: 0.004300050903111696. Test_MSE: 9.487630367746899e-05\n",
      "Epoch: 873 Iteration: 82100. Train_MSE: 0.0035063461400568485. Test_MSE: 9.489008245806709e-05\n",
      "Epoch: 874 Iteration: 82200. Train_MSE: 0.0001077198248822242. Test_MSE: 9.48122670319353e-05\n",
      "Epoch: 875 Iteration: 82300. Train_MSE: 9.716235945234075e-05. Test_MSE: 9.485831641154678e-05\n",
      "Epoch: 876 Iteration: 82400. Train_MSE: 0.00015008104674052447. Test_MSE: 9.478494745371746e-05\n",
      "Epoch: 877 Iteration: 82500. Train_MSE: 0.0002946656313724816. Test_MSE: 9.459191467017555e-05\n",
      "Epoch: 878 Iteration: 82600. Train_MSE: 0.0002612024254631251. Test_MSE: 9.450191658932286e-05\n",
      "Epoch: 879 Iteration: 82700. Train_MSE: 0.000594792771153152. Test_MSE: 9.448210307513268e-05\n",
      "Epoch: 880 Iteration: 82800. Train_MSE: 0.008666967041790485. Test_MSE: 9.460989591777443e-05\n",
      "Epoch: 881 Iteration: 82900. Train_MSE: 0.00018109401571564376. Test_MSE: 9.461313396031362e-05\n",
      "Epoch: 882 Iteration: 83000. Train_MSE: 7.177930820034817e-05. Test_MSE: 9.450589986448378e-05\n",
      "Epoch: 884 Iteration: 83100. Train_MSE: 7.42987758712843e-05. Test_MSE: 9.44716657736139e-05\n",
      "Epoch: 885 Iteration: 83200. Train_MSE: 0.00020978528482373804. Test_MSE: 9.440454765638507e-05\n",
      "Epoch: 886 Iteration: 83300. Train_MSE: 0.0005818920326419175. Test_MSE: 9.416070108939366e-05\n",
      "Epoch: 887 Iteration: 83400. Train_MSE: 0.0003187093825545162. Test_MSE: 9.407839108626011e-05\n",
      "Epoch: 888 Iteration: 83500. Train_MSE: 0.0005088351899757981. Test_MSE: 9.404565050966649e-05\n",
      "Epoch: 889 Iteration: 83600. Train_MSE: 0.0002649829548317939. Test_MSE: 9.412654893756465e-05\n",
      "Epoch: 890 Iteration: 83700. Train_MSE: 0.0001109542790800333. Test_MSE: 9.411612510091324e-05\n",
      "Epoch: 891 Iteration: 83800. Train_MSE: 8.82917083799839e-05. Test_MSE: 9.405877742153309e-05\n",
      "Epoch: 892 Iteration: 83900. Train_MSE: 0.00010685089364415035. Test_MSE: 9.412303376803152e-05\n",
      "Epoch: 893 Iteration: 84000. Train_MSE: 0.00010649042815202847. Test_MSE: 9.3973529743563e-05\n",
      "Epoch: 894 Iteration: 84100. Train_MSE: 0.0006082984618842602. Test_MSE: 9.381006844691975e-05\n",
      "Epoch: 895 Iteration: 84200. Train_MSE: 0.00027919281274080276. Test_MSE: 9.374538516672145e-05\n",
      "Epoch: 896 Iteration: 84300. Train_MSE: 0.0003481959574855864. Test_MSE: 9.373677369824975e-05\n",
      "Epoch: 897 Iteration: 84400. Train_MSE: 0.00019941598293371499. Test_MSE: 9.386104451497973e-05\n",
      "Epoch: 898 Iteration: 84500. Train_MSE: 9.732002217788249e-05. Test_MSE: 9.381552201753931e-05\n",
      "Epoch: 899 Iteration: 84600. Train_MSE: 4.118493234273046e-05. Test_MSE: 9.374589169905572e-05\n",
      "Epoch: 901 Iteration: 84700. Train_MSE: 0.00011721195915015414. Test_MSE: 9.374323645880921e-05\n",
      "Epoch: 902 Iteration: 84800. Train_MSE: 0.00037325909943319857. Test_MSE: 9.353456899121081e-05\n",
      "Epoch: 903 Iteration: 84900. Train_MSE: 0.0007008123211562634. Test_MSE: 9.337133584382249e-05\n",
      "Epoch: 904 Iteration: 85000. Train_MSE: 0.0003656977496575564. Test_MSE: 9.331985016225871e-05\n",
      "Epoch: 905 Iteration: 85100. Train_MSE: 0.0003276954230386764. Test_MSE: 9.3313965448114e-05\n",
      "Epoch: 906 Iteration: 85200. Train_MSE: 0.00020681765454355627. Test_MSE: 9.336394498404629e-05\n",
      "Epoch: 907 Iteration: 85300. Train_MSE: 0.002041230909526348. Test_MSE: 9.333703025535248e-05\n",
      "Epoch: 908 Iteration: 85400. Train_MSE: 6.53546885587275e-05. Test_MSE: 9.331335397466331e-05\n",
      "Epoch: 909 Iteration: 85500. Train_MSE: 0.00037487660301849246. Test_MSE: 9.333444133933061e-05\n",
      "Epoch: 910 Iteration: 85600. Train_MSE: 0.00016992002201732248. Test_MSE: 9.316532105248498e-05\n",
      "Epoch: 911 Iteration: 85700. Train_MSE: 0.0002491703489795327. Test_MSE: 9.304032677952201e-05\n",
      "Epoch: 912 Iteration: 85800. Train_MSE: 0.00027410133043304086. Test_MSE: 9.301405536532669e-05\n",
      "Epoch: 913 Iteration: 85900. Train_MSE: 0.0009735184139572084. Test_MSE: 9.303918255092174e-05\n",
      "Epoch: 914 Iteration: 86000. Train_MSE: 0.000316409656079486. Test_MSE: 9.314117764569269e-05\n",
      "Epoch: 915 Iteration: 86100. Train_MSE: 0.00013192827464081347. Test_MSE: 9.304053257453978e-05\n",
      "Epoch: 917 Iteration: 86200. Train_MSE: 6.8441811890807e-05. Test_MSE: 9.304488297469594e-05\n",
      "Epoch: 918 Iteration: 86300. Train_MSE: 0.0002871684555429965. Test_MSE: 9.301544692370761e-05\n",
      "Epoch: 919 Iteration: 86400. Train_MSE: 0.0002026886068051681. Test_MSE: 9.270296002127327e-05\n"
     ]
    },
    {
     "name": "stdout",
     "output_type": "stream",
     "text": [
      "Epoch: 920 Iteration: 86500. Train_MSE: 0.0001925397664308548. Test_MSE: 9.26096004811586e-05\n",
      "Epoch: 921 Iteration: 86600. Train_MSE: 0.0004534038598649204. Test_MSE: 9.255178273276742e-05\n",
      "Epoch: 922 Iteration: 86700. Train_MSE: 0.004300435073673725. Test_MSE: 9.264084790188184e-05\n",
      "Epoch: 923 Iteration: 86800. Train_MSE: 0.0035048809368163347. Test_MSE: 9.26582241503497e-05\n",
      "Epoch: 924 Iteration: 86900. Train_MSE: 0.00010594358900561929. Test_MSE: 9.258309930217544e-05\n",
      "Epoch: 925 Iteration: 87000. Train_MSE: 9.210929420078173e-05. Test_MSE: 9.263188984228539e-05\n",
      "Epoch: 926 Iteration: 87100. Train_MSE: 0.00014607649063691497. Test_MSE: 9.256273025727744e-05\n",
      "Epoch: 927 Iteration: 87200. Train_MSE: 0.00028944446239620447. Test_MSE: 9.237138412028637e-05\n",
      "Epoch: 928 Iteration: 87300. Train_MSE: 0.0002576907572802156. Test_MSE: 9.22839801836087e-05\n",
      "Epoch: 929 Iteration: 87400. Train_MSE: 0.0005886803846806288. Test_MSE: 9.226733863358812e-05\n",
      "Epoch: 930 Iteration: 87500. Train_MSE: 0.00866451021283865. Test_MSE: 9.240153510715681e-05\n",
      "Epoch: 931 Iteration: 87600. Train_MSE: 0.00017706856306176633. Test_MSE: 9.24077431484578e-05\n",
      "Epoch: 932 Iteration: 87700. Train_MSE: 6.940207094885409e-05. Test_MSE: 9.230308314111506e-05\n",
      "Epoch: 934 Iteration: 87800. Train_MSE: 7.1699294494465e-05. Test_MSE: 9.227092034781435e-05\n",
      "Epoch: 935 Iteration: 87900. Train_MSE: 0.0002046861918643117. Test_MSE: 9.220676045453562e-05\n",
      "Epoch: 936 Iteration: 88000. Train_MSE: 0.0005768726696260273. Test_MSE: 9.196516466626599e-05\n",
      "Epoch: 937 Iteration: 88100. Train_MSE: 0.00031359365675598383. Test_MSE: 9.188606416398709e-05\n",
      "Epoch: 938 Iteration: 88200. Train_MSE: 0.0005045704310759902. Test_MSE: 9.185544381029848e-05\n",
      "Epoch: 939 Iteration: 88300. Train_MSE: 0.0002598666469566524. Test_MSE: 9.194141417149337e-05\n",
      "Epoch: 940 Iteration: 88400. Train_MSE: 0.00010762971214717254. Test_MSE: 9.193390419039071e-05\n",
      "Epoch: 941 Iteration: 88500. Train_MSE: 8.459425589535385e-05. Test_MSE: 9.187902480367094e-05\n",
      "Epoch: 942 Iteration: 88600. Train_MSE: 0.00010234966612188146. Test_MSE: 9.194750751013683e-05\n",
      "Epoch: 943 Iteration: 88700. Train_MSE: 0.00010348824434913695. Test_MSE: 9.180133512790802e-05\n",
      "Epoch: 944 Iteration: 88800. Train_MSE: 0.0006028278730809689. Test_MSE: 9.164085664570957e-05\n",
      "Epoch: 945 Iteration: 88900. Train_MSE: 0.00027500474243424833. Test_MSE: 9.157858032007213e-05\n",
      "Epoch: 946 Iteration: 89000. Train_MSE: 0.0003433499368838966. Test_MSE: 9.15731775314386e-05\n",
      "Epoch: 947 Iteration: 89100. Train_MSE: 0.00019218245870433748. Test_MSE: 9.170356673309088e-05\n",
      "Epoch: 948 Iteration: 89200. Train_MSE: 9.439625137019902e-05. Test_MSE: 9.166058662608962e-05\n",
      "Epoch: 949 Iteration: 89300. Train_MSE: 3.898573049809784e-05. Test_MSE: 9.159390042687423e-05\n",
      "Epoch: 951 Iteration: 89400. Train_MSE: 0.00011127660400234163. Test_MSE: 9.159370810517222e-05\n",
      "Epoch: 952 Iteration: 89500. Train_MSE: 0.00036263137008063495. Test_MSE: 9.13873902735572e-05\n",
      "Epoch: 953 Iteration: 89600. Train_MSE: 0.0006952789262868464. Test_MSE: 9.122754787258016e-05\n",
      "Epoch: 954 Iteration: 89700. Train_MSE: 0.0003620758361648768. Test_MSE: 9.117843005012141e-05\n",
      "Epoch: 955 Iteration: 89800. Train_MSE: 0.0003230154106859118. Test_MSE: 9.11753892333104e-05\n",
      "Epoch: 956 Iteration: 89900. Train_MSE: 0.0002017150109168142. Test_MSE: 9.122991953766802e-05\n",
      "Epoch: 957 Iteration: 90000. Train_MSE: 0.002036822959780693. Test_MSE: 9.120604476050065e-05\n",
      "Epoch: 958 Iteration: 90100. Train_MSE: 6.234132160898298e-05. Test_MSE: 9.118458277394275e-05\n",
      "Epoch: 959 Iteration: 90200. Train_MSE: 0.00037239064113236964. Test_MSE: 9.121054983454332e-05\n",
      "Epoch: 960 Iteration: 90300. Train_MSE: 0.00016576888447161764. Test_MSE: 9.104348228917746e-05\n",
      "Epoch: 961 Iteration: 90400. Train_MSE: 0.0002454078639857471. Test_MSE: 9.09210295892212e-05\n",
      "Epoch: 962 Iteration: 90500. Train_MSE: 0.00027051850338466465. Test_MSE: 9.089745705785252e-05\n",
      "Epoch: 963 Iteration: 90600. Train_MSE: 0.0009703810792416334. Test_MSE: 9.092660168728454e-05\n",
      "Epoch: 964 Iteration: 90700. Train_MSE: 0.0003130200784653425. Test_MSE: 9.103394217650726e-05\n",
      "Epoch: 965 Iteration: 90800. Train_MSE: 0.00012754228373523802. Test_MSE: 9.093551717624223e-05\n",
      "Epoch: 967 Iteration: 90900. Train_MSE: 6.50053916615434e-05. Test_MSE: 9.094227164587451e-05\n",
      "Epoch: 968 Iteration: 91000. Train_MSE: 0.0002840194501914084. Test_MSE: 9.091594154003808e-05\n",
      "Epoch: 969 Iteration: 91100. Train_MSE: 0.00019748038903344423. Test_MSE: 9.060510631051275e-05\n",
      "Epoch: 970 Iteration: 91200. Train_MSE: 0.00018895471293944865. Test_MSE: 9.051518877364148e-05\n",
      "Epoch: 971 Iteration: 91300. Train_MSE: 0.00044720005826093256. Test_MSE: 9.045929629321512e-05\n",
      "Epoch: 972 Iteration: 91400. Train_MSE: 0.004300874657928944. Test_MSE: 9.055337995912978e-05\n",
      "Epoch: 973 Iteration: 91500. Train_MSE: 0.003503568470478058. Test_MSE: 9.057396411707996e-05\n",
      "Epoch: 974 Iteration: 91600. Train_MSE: 0.00010420619219075888. Test_MSE: 9.050125168284424e-05\n",
      "Epoch: 975 Iteration: 91700. Train_MSE: 8.758828334975988e-05. Test_MSE: 9.055261451710116e-05\n",
      "Epoch: 976 Iteration: 91800. Train_MSE: 0.00014237475988920778. Test_MSE: 9.048756213492172e-05\n",
      "Epoch: 977 Iteration: 91900. Train_MSE: 0.0002845669805537909. Test_MSE: 9.029803579193025e-05\n",
      "Epoch: 978 Iteration: 92000. Train_MSE: 0.0002543869486544281. Test_MSE: 9.021291893664891e-05\n",
      "Epoch: 979 Iteration: 92100. Train_MSE: 0.0005830285954289138. Test_MSE: 9.019908373516653e-05\n",
      "Epoch: 980 Iteration: 92200. Train_MSE: 0.008662151172757149. Test_MSE: 9.033953620588357e-05\n",
      "Epoch: 981 Iteration: 92300. Train_MSE: 0.00017326651141047478. Test_MSE: 9.0348814799678e-05\n",
      "Epoch: 982 Iteration: 92400. Train_MSE: 6.722465332131833e-05. Test_MSE: 9.02467826660653e-05\n",
      "Epoch: 984 Iteration: 92500. Train_MSE: 6.937582656973973e-05. Test_MSE: 9.021687934470536e-05\n",
      "Epoch: 985 Iteration: 92600. Train_MSE: 0.0001998734805965796. Test_MSE: 9.0155806905985e-05\n",
      "Epoch: 986 Iteration: 92700. Train_MSE: 0.0005720952758565545. Test_MSE: 8.991636221538103e-05\n",
      "Epoch: 987 Iteration: 92800. Train_MSE: 0.0003089515957981348. Test_MSE: 8.984046633102407e-05\n",
      "Epoch: 988 Iteration: 92900. Train_MSE: 0.0005007447325624526. Test_MSE: 8.981209490260521e-05\n",
      "Epoch: 989 Iteration: 93000. Train_MSE: 0.0002551318611949682. Test_MSE: 8.990334606323983e-05\n",
      "Epoch: 990 Iteration: 93100. Train_MSE: 0.00010458505130372941. Test_MSE: 8.989890327367542e-05\n",
      "Epoch: 991 Iteration: 93200. Train_MSE: 8.130961214192212e-05. Test_MSE: 8.984634412854727e-05\n",
      "Epoch: 992 Iteration: 93300. Train_MSE: 9.82778801699169e-05. Test_MSE: 8.991862792366215e-05\n",
      "Epoch: 993 Iteration: 93400. Train_MSE: 0.00010069718700833619. Test_MSE: 8.977537566351527e-05\n",
      "Epoch: 994 Iteration: 93500. Train_MSE: 0.0005977414548397064. Test_MSE: 8.961742259747576e-05\n",
      "Epoch: 995 Iteration: 93600. Train_MSE: 0.00027114979457110167. Test_MSE: 8.955719423383759e-05\n",
      "Epoch: 996 Iteration: 93700. Train_MSE: 0.00033874972723424435. Test_MSE: 8.95546328827408e-05\n",
      "Epoch: 997 Iteration: 93800. Train_MSE: 0.0001855529990280047. Test_MSE: 8.969091986917926e-05\n",
      "Epoch: 998 Iteration: 93900. Train_MSE: 9.176387538900599e-05. Test_MSE: 8.965006321646914e-05\n",
      "Epoch: 999 Iteration: 94000. Train_MSE: 3.7036665162304416e-05. Test_MSE: 8.958613796899753e-05\n"
     ]
    }
   ],
   "source": [
    "# Training the model\n",
    "seq_dim = 1\n",
    "\n",
    "n_iter =0\n",
    "num_samples = len(X_train)\n",
    "test_samples = len(X_test)\n",
    "batch_size = 100\n",
    "num_epochs = 1000\n",
    "feat_dim = X_train.shape[1]\n",
    "\n",
    "X_train = X_train.type(torch.FloatTensor)\n",
    "y_train = y_train.type(torch.FloatTensor)\n",
    "X_test = X_test.type(torch.FloatTensor)\n",
    "y_test = y_test.type(torch.FloatTensor)\n",
    "\n",
    "for epoch in range(num_epochs):\n",
    "    for i in range(0, int(num_samples/batch_size -1)):\n",
    "        \n",
    "        \n",
    "        features = Variable(X_train[i*batch_size:(i+1)*batch_size, :]).view(-1, seq_dim, feat_dim)\n",
    "        Kt_value = Variable(y_train[i*batch_size:(i+1)*batch_size])\n",
    "        \n",
    "        #print(\"Kt_value={}\".format(Kt_value))\n",
    "        \n",
    "        optimizer.zero_grad()\n",
    "        \n",
    "        outputs = model(features)\n",
    "        #print(\"outputs ={}\".format(outputs))\n",
    "        \n",
    "        loss = criterion(outputs, Kt_value)\n",
    "        \n",
    "        train_loss.append(loss.data[0])\n",
    "        train_iter.append(n_iter)\n",
    "\n",
    "        #print(\"loss = {}\".format(loss))\n",
    "        loss.backward()\n",
    "        \n",
    "        optimizer.step()\n",
    "        \n",
    "        n_iter += 1  \n",
    "            \n",
    "        if n_iter%100 == 0:\n",
    "            for i in range(0,int(test_samples/batch_size -1)):\n",
    "                features = Variable(X_test[i*batch_size:(i+1)*batch_size, :]).view(-1, seq_dim, feat_dim)\n",
    "                Kt_test = Variable(y_test[i*batch_size:(i+1)*batch_size])\n",
    "                \n",
    "                outputs = model(features)\n",
    "                \n",
    "                mse = np.sqrt(np.mean((Kt_test.data.numpy() - outputs.data.numpy().squeeze())**2)/num_samples)\n",
    "                \n",
    "                test_iter.append(n_iter)\n",
    "                test_loss.append(mse)\n",
    "                \n",
    "            print('Epoch: {} Iteration: {}. Train_MSE: {}. Test_MSE: {}'.format(epoch, n_iter, loss.data[0], mse))\n",
    "               "
   ]
  },
  {
   "cell_type": "code",
   "execution_count": 78,
   "metadata": {},
   "outputs": [
    {
     "name": "stdout",
     "output_type": "stream",
     "text": [
      "39480\n"
     ]
    },
    {
     "data": {
      "text/plain": [
       "[<matplotlib.lines.Line2D at 0x13846390>]"
      ]
     },
     "execution_count": 78,
     "metadata": {},
     "output_type": "execute_result"
    },
    {
     "data": {
      "image/png": "[encoded data removed]",
      "text/plain": [
       "<Figure size 432x288 with 1 Axes>"
      ]
     },
     "metadata": {},
     "output_type": "display_data"
    }
   ],
   "source": [
    "print(len(test_loss))\n",
    "#plt.plot(test_loss)\n",
    "plt.plot(train_loss,'-')\n",
    "#plt.ylim([0.000,0.99])\n"
   ]
  },
  {
   "cell_type": "code",
   "execution_count": 79,
   "metadata": {},
   "outputs": [
    {
     "data": {
      "text/plain": [
       "[<matplotlib.lines.Line2D at 0xdc358d0>]"
      ]
     },
     "execution_count": 79,
     "metadata": {},
     "output_type": "execute_result"
    },
    {
     "data": {
      "image/png": "[encoded data removed]",
      "text/plain": [
       "<Figure size 432x288 with 1 Axes>"
      ]
     },
     "metadata": {},
     "output_type": "display_data"
    }
   ],
   "source": [
    "plt.plot(test_loss,'r')"
   ]
  },
  {
   "cell_type": "markdown",
   "metadata": {
    "collapsed": true
   },
   "source": [
    "#### Demornamization"
   ]
  },
  {
   "cell_type": "code",
   "execution_count": 80,
   "metadata": {},
   "outputs": [],
   "source": [
    "rmse = np.sqrt(mse)"
   ]
  },
  {
   "cell_type": "code",
   "execution_count": 81,
   "metadata": {},
   "outputs": [],
   "source": [
    "rmse_denorm = (rmse * (df_new_test['Kt'].max() - df_new_test['Kt'].min()))+ df_new_test['Kt'].mean()"
   ]
  },
  {
   "cell_type": "code",
   "execution_count": 82,
   "metadata": {},
   "outputs": [
    {
     "data": {
      "text/plain": [
       "9.598802517989334"
      ]
     },
     "execution_count": 82,
     "metadata": {},
     "output_type": "execute_result"
    }
   ],
   "source": [
    "rmse_denorm"
   ]
  },
  {
   "cell_type": "code",
   "execution_count": 83,
   "metadata": {},
   "outputs": [
    {
     "data": {
      "text/plain": [
       "count    4271.000000\n",
       "mean        3.414005\n",
       "std        17.372489\n",
       "min        -0.157857\n",
       "25%        -0.004881\n",
       "50%         0.188162\n",
       "75%         1.119065\n",
       "max       653.281210\n",
       "Name: Kt, dtype: float64"
      ]
     },
     "execution_count": 83,
     "metadata": {},
     "output_type": "execute_result"
    }
   ],
   "source": [
    "df_new_test['Kt'].describe()"
   ]
  },
  {
   "cell_type": "markdown",
   "metadata": {
    "collapsed": true
   },
   "source": [
    "### Saving train and test losses to a csv"
   ]
  },
  {
   "cell_type": "code",
   "execution_count": 84,
   "metadata": {},
   "outputs": [],
   "source": [
    "df_trainLoss = pd.DataFrame(data={'Train Loss':train_loss, 'iteration': train_iter}, columns=['Train Loss','iteration'])\n",
    "df_trainLoss.to_csv('RNN Paper Results/Exp1_PennState_TrainLoss.csv')\n",
    "df_testLoss = pd.DataFrame(data={'Test Loss':test_loss, 'iteration': test_iter}, columns=['Test Loss','iteration'])\n",
    "df_testLoss.to_csv('RNN Paper Results/Exp1_PenState_TestLoss.csv')"
   ]
  },
  {
   "cell_type": "code",
   "execution_count": null,
   "metadata": {},
   "outputs": [],
   "source": []
  }
 ],
 "metadata": {
  "anaconda-cloud": {},
  "kernelspec": {
   "display_name": "Python 3",
   "language": "python",
   "name": "python3"
  },
  "language_info": {
   "codemirror_mode": {
    "name": "ipython",
    "version": 3
   },
   "file_extension": ".py",
   "mimetype": "text/x-python",
   "name": "python",
   "nbconvert_exporter": "python",
   "pygments_lexer": "ipython3",
   "version": "3.6.1"
  }
 },
 "nbformat": 4,
 "nbformat_minor": 2
}
