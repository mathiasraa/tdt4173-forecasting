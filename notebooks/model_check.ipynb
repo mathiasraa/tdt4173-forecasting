{
 "cells": [
  {
   "cell_type": "code",
   "execution_count": 3,
   "metadata": {},
   "outputs": [],
   "source": [
    "%load_ext autoreload\n",
    "%autoreload 2\n",
    "\n",
    "import os\n",
    "import sys\n",
    "module_path = os.path.abspath(os.path.join('..'))\n",
    "if module_path not in sys.path:\n",
    "    sys.path.append(module_path)\n"
   ]
  },
  {
   "cell_type": "code",
   "execution_count": 4,
   "metadata": {},
   "outputs": [],
   "source": [
    "from src.utils import (\n",
    "    load_data,\n",
    "    remove_duplicates_in_coloumn,\n",
    "    convert_from_degree_to_ciruclar,\n",
    "    resample_hourly,\n",
    "    create_time_features,\n",
    "    find_repeated_indices,\n",
    "    load_val_dates,\n",
    "    create_lag_features\n",
    ")\n",
    "\n",
    "import pandas as pd\n",
    "import numpy as np\n",
    "from sklearn.metrics import mean_absolute_error\n",
    "from sklearn.preprocessing import MinMaxScaler\n",
    "from datetime import datetime"
   ]
  },
  {
   "cell_type": "code",
   "execution_count": 5,
   "metadata": {},
   "outputs": [],
   "source": [
    "predictions_1 = pd.read_csv(\"../data/comparison/model_1_train_predictions.csv\")\n",
    "# predictions_1 = pd.read_csv(\"../data/comparison/model_2_train_predictions_3.csv\")\n",
    "# predictions_2 = pd.read_csv(\"../data/comparison/model_2_train_predictions_4.csv\")\n",
    "predictions_2 = pd.read_csv(\"../data/comparison/model_2_train_predictions_5.csv\")\n",
    "# predictions_2 = pd.read_csv(\"../data/comparison/model_local.csv\")\n",
    "\n",
    "train_dates = pd.read_csv(\"../data/processed/train2.csv\")"
   ]
  },
  {
   "cell_type": "code",
   "execution_count": 6,
   "metadata": {},
   "outputs": [],
   "source": [
    "scaler = MinMaxScaler(feature_range=(0, 365))\n",
    "\n",
    "train_day_of_year = scaler.fit_transform(train_dates[[\"dayofyear\"]])\n",
    "train_dates[\"day_of_year\"] = train_day_of_year\n",
    "predictions_1[\"day_of_year\"] = train_day_of_year\n",
    "predictions_2[\"day_of_year\"] = train_day_of_year\n",
    "# predictions_local[\"day_of_year\"] = train_day_of_year"
   ]
  },
  {
   "cell_type": "code",
   "execution_count": 7,
   "metadata": {},
   "outputs": [],
   "source": [
    "val_dates = load_val_dates()\n",
    "days_of_year = list(set([datetime.strptime(date, \"%Y-%m-%d %H:%M:%S\").timetuple().tm_yday for date in val_dates]))\n",
    "winter_days_of_year = [day - 100 for day in days_of_year]"
   ]
  },
  {
   "cell_type": "code",
   "execution_count": 9,
   "metadata": {},
   "outputs": [],
   "source": [
    "target_predictions_1 = predictions_1[predictions_1[\"day_of_year\"].isin(days_of_year)][\"predict\"]\n",
    "target_predictions_2 = predictions_2[predictions_2[\"day_of_year\"].isin(days_of_year)][\"pv_measurement\"]\n",
    "# target_predictions_local = predictions_local[predictions_local[\"day_of_year\"].isin(days_of_year)][\"predict\"]"
   ]
  },
  {
   "cell_type": "code",
   "execution_count": 10,
   "metadata": {},
   "outputs": [
    {
     "data": {
      "text/plain": [
       "4861     0.000000\n",
       "4862     0.000000\n",
       "4863     0.001709\n",
       "4864     0.006837\n",
       "4865     0.023930\n",
       "           ...   \n",
       "74150    0.019416\n",
       "74151    0.004029\n",
       "74152    0.000000\n",
       "74153    0.000000\n",
       "74154    0.000000\n",
       "Name: pv_measurement, Length: 4045, dtype: float64"
      ]
     },
     "execution_count": 10,
     "metadata": {},
     "output_type": "execute_result"
    }
   ],
   "source": [
    "train_dates[train_dates[\"day_of_year\"].isin(days_of_year)][\"pv_measurement\"]"
   ]
  },
  {
   "cell_type": "markdown",
   "metadata": {},
   "source": [
    "### Model Comparison for Kaggle Days"
   ]
  },
  {
   "cell_type": "code",
   "execution_count": 11,
   "metadata": {},
   "outputs": [
    {
     "name": "stdout",
     "output_type": "stream",
     "text": [
      "Improvement?\n",
      "0.11884293237093943\n"
     ]
    }
   ],
   "source": [
    "a = mean_absolute_error(\n",
    "    target_predictions_1,\n",
    "    train_dates[train_dates[\"day_of_year\"].isin(days_of_year)][\"pv_measurement\"],\n",
    ")\n",
    "b = mean_absolute_error(\n",
    "    target_predictions_2,\n",
    "    train_dates[train_dates[\"day_of_year\"].isin(days_of_year)][\"pv_measurement\"],\n",
    ")\n",
    "\n",
    "print(\"Improvement?\")\n",
    "print(a - b)"
   ]
  },
  {
   "cell_type": "markdown",
   "metadata": {},
   "source": [
    "### Model Comparison for All Days"
   ]
  },
  {
   "cell_type": "code",
   "execution_count": 13,
   "metadata": {},
   "outputs": [
    {
     "name": "stdout",
     "output_type": "stream",
     "text": [
      "Improvement?\n",
      "0.09231799802164226\n"
     ]
    }
   ],
   "source": [
    "a = mean_absolute_error(\n",
    "    predictions_1[\"predict\"],\n",
    "    train_dates[\"pv_measurement\"],\n",
    ")\n",
    "b = mean_absolute_error(\n",
    "    predictions_2[\"pv_measurement\"],\n",
    "    train_dates[\"pv_measurement\"],\n",
    ")\n",
    "\n",
    "print(\"Improvement?\")\n",
    "print(a - b)"
   ]
  },
  {
   "cell_type": "markdown",
   "metadata": {},
   "source": [
    "### Model Comparison for Winter Days"
   ]
  },
  {
   "cell_type": "code",
   "execution_count": 15,
   "metadata": {},
   "outputs": [
    {
     "name": "stdout",
     "output_type": "stream",
     "text": [
      "Improvement?\n",
      "0.06816660627256298\n"
     ]
    }
   ],
   "source": [
    "a = mean_absolute_error(\n",
    "    predictions_1[predictions_1[\"day_of_year\"].isin(winter_days_of_year)][\"predict\"],\n",
    "    train_dates[train_dates[\"day_of_year\"].isin(winter_days_of_year)][\"pv_measurement\"],\n",
    ")\n",
    "b = mean_absolute_error(\n",
    "    predictions_2[predictions_2[\"day_of_year\"].isin(winter_days_of_year)][\"pv_measurement\"],\n",
    "    train_dates[train_dates[\"day_of_year\"].isin(winter_days_of_year)][\"pv_measurement\"],\n",
    ")\n",
    "\n",
    "print(\"Improvement?\")\n",
    "print(a - b)"
   ]
  }
 ],
 "metadata": {
  "kernelspec": {
   "display_name": "forecasting",
   "language": "python",
   "name": "python3"
  },
  "language_info": {
   "codemirror_mode": {
    "name": "ipython",
    "version": 3
   },
   "file_extension": ".py",
   "mimetype": "text/x-python",
   "name": "python",
   "nbconvert_exporter": "python",
   "pygments_lexer": "ipython3",
   "version": "3.10.4"
  }
 },
 "nbformat": 4,
 "nbformat_minor": 2
}
