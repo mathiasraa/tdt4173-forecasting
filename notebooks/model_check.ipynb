{
 "cells": [
  {
   "cell_type": "code",
   "execution_count": 1,
   "metadata": {},
   "outputs": [],
   "source": [
    "%load_ext autoreload\n",
    "%autoreload 2\n",
    "\n",
    "import os\n",
    "import sys\n",
    "module_path = os.path.abspath(os.path.join('..'))\n",
    "if module_path not in sys.path:\n",
    "    sys.path.append(module_path)\n"
   ]
  },
  {
   "cell_type": "code",
   "execution_count": 26,
   "metadata": {},
   "outputs": [],
   "source": [
    "from src.utils import (\n",
    "    load_data,\n",
    "    remove_duplicates_in_coloumn,\n",
    "    convert_from_degree_to_ciruclar,\n",
    "    resample_hourly,\n",
    "    create_time_features,\n",
    "    find_repeated_indices,\n",
    "    load_val_dates,\n",
    "    create_lag_features\n",
    ")\n",
    "\n",
    "import pandas as pd\n",
    "import numpy as np\n",
    "from sklearn.metrics import mean_absolute_error\n",
    "from sklearn.preprocessing import MinMaxScaler\n",
    "from datetime import datetime"
   ]
  },
  {
   "cell_type": "code",
   "execution_count": 11,
   "metadata": {},
   "outputs": [],
   "source": [
    "predictions_1 = pd.read_csv(\"../data/comparison/model_1_train_predictions.csv\")\n",
    "predictions_2 = pd.read_csv(\"../data/comparison/train_predictions.csv\")\n",
    "\n",
    "train_dates = pd.read_csv(\"../data/processed/train2.csv\")"
   ]
  },
  {
   "cell_type": "code",
   "execution_count": 44,
   "metadata": {},
   "outputs": [],
   "source": [
    "scaler = MinMaxScaler(feature_range=(0, 365))\n",
    "\n",
    "train_day_of_year = scaler.fit_transform(train_dates[[\"dayofyear\"]])\n",
    "train_dates[\"day_of_year\"] = train_day_of_year\n",
    "predictions_1[\"day_of_year\"] = train_day_of_year\n",
    "predictions_2[\"day_of_year\"] = train_day_of_year"
   ]
  },
  {
   "cell_type": "code",
   "execution_count": 50,
   "metadata": {},
   "outputs": [],
   "source": [
    "val_dates = load_val_dates()\n",
    "days_of_year = list(set([datetime.strptime(date, \"%Y-%m-%d %H:%M:%S\").timetuple().tm_yday for date in val_dates]))\n",
    "winter_days_of_year = [day - 100 for day in days_of_year]"
   ]
  },
  {
   "cell_type": "code",
   "execution_count": 38,
   "metadata": {},
   "outputs": [],
   "source": [
    "target_predictions_1 = predictions_1[predictions_1[\"day_of_year\"].isin(days_of_year)][\"predict\"]\n",
    "target_predictions_2 = predictions_2[predictions_2[\"day_of_year\"].isin(days_of_year)][\"predict\"]"
   ]
  },
  {
   "cell_type": "code",
   "execution_count": 43,
   "metadata": {},
   "outputs": [
    {
     "data": {
      "text/plain": [
       "0        0.673973\n",
       "1        0.673973\n",
       "2        0.676712\n",
       "3        0.676712\n",
       "4        0.676712\n",
       "           ...   \n",
       "81161    0.326027\n",
       "81162    0.326027\n",
       "81163    0.326027\n",
       "81164    0.326027\n",
       "81165    0.326027\n",
       "Name: dayofyear, Length: 81166, dtype: float64"
      ]
     },
     "execution_count": 43,
     "metadata": {},
     "output_type": "execute_result"
    }
   ],
   "source": [
    "train_dates[train_dates[\"day_of_year\"].isin(days_of_year)][\"pv_measurement\"]"
   ]
  },
  {
   "cell_type": "markdown",
   "metadata": {},
   "source": [
    "### Model Comparison for Kaggle Days"
   ]
  },
  {
   "cell_type": "code",
   "execution_count": 45,
   "metadata": {},
   "outputs": [
    {
     "data": {
      "text/plain": [
       "0.12727934615643224"
      ]
     },
     "execution_count": 45,
     "metadata": {},
     "output_type": "execute_result"
    }
   ],
   "source": [
    "mean_absolute_error(target_predictions_1, train_dates[train_dates[\"day_of_year\"].isin(days_of_year)][\"pv_measurement\"])"
   ]
  },
  {
   "cell_type": "code",
   "execution_count": 46,
   "metadata": {},
   "outputs": [
    {
     "data": {
      "text/plain": [
       "0.1325528024583385"
      ]
     },
     "execution_count": 46,
     "metadata": {},
     "output_type": "execute_result"
    }
   ],
   "source": [
    "mean_absolute_error(target_predictions_2, train_dates[train_dates[\"day_of_year\"].isin(days_of_year)][\"pv_measurement\"])"
   ]
  },
  {
   "cell_type": "markdown",
   "metadata": {},
   "source": [
    "### Model Comparison for All Days"
   ]
  },
  {
   "cell_type": "code",
   "execution_count": 53,
   "metadata": {},
   "outputs": [
    {
     "data": {
      "text/plain": [
       "0.05651121393456173"
      ]
     },
     "execution_count": 53,
     "metadata": {},
     "output_type": "execute_result"
    }
   ],
   "source": [
    "mean_absolute_error(\n",
    "    predictions_1[\"predict\"],\n",
    "    train_dates[\"pv_measurement\"],\n",
    ")"
   ]
  },
  {
   "cell_type": "code",
   "execution_count": 54,
   "metadata": {},
   "outputs": [
    {
     "data": {
      "text/plain": [
       "0.061755802813476396"
      ]
     },
     "execution_count": 54,
     "metadata": {},
     "output_type": "execute_result"
    }
   ],
   "source": [
    "mean_absolute_error(\n",
    "    predictions_2[\"predict\"],\n",
    "    train_dates[\"pv_measurement\"],\n",
    ")"
   ]
  },
  {
   "cell_type": "markdown",
   "metadata": {},
   "source": [
    "### Model Comparison for Winter Days"
   ]
  },
  {
   "cell_type": "code",
   "execution_count": 51,
   "metadata": {},
   "outputs": [
    {
     "data": {
      "text/plain": [
       "0.02724627429429478"
      ]
     },
     "execution_count": 51,
     "metadata": {},
     "output_type": "execute_result"
    }
   ],
   "source": [
    "mean_absolute_error(\n",
    "    predictions_1[predictions_1[\"day_of_year\"].isin(winter_days_of_year)][\"predict\"],\n",
    "    train_dates[train_dates[\"day_of_year\"].isin(winter_days_of_year)][\"pv_measurement\"],\n",
    ")"
   ]
  },
  {
   "cell_type": "code",
   "execution_count": 52,
   "metadata": {},
   "outputs": [
    {
     "data": {
      "text/plain": [
       "0.032483011367746166"
      ]
     },
     "execution_count": 52,
     "metadata": {},
     "output_type": "execute_result"
    }
   ],
   "source": [
    "mean_absolute_error(\n",
    "    predictions_2[predictions_2[\"day_of_year\"].isin(winter_days_of_year)][\"predict\"],\n",
    "    train_dates[train_dates[\"day_of_year\"].isin(winter_days_of_year)][\"pv_measurement\"],\n",
    ")"
   ]
  }
 ],
 "metadata": {
  "kernelspec": {
   "display_name": "forecasting",
   "language": "python",
   "name": "python3"
  },
  "language_info": {
   "codemirror_mode": {
    "name": "ipython",
    "version": 3
   },
   "file_extension": ".py",
   "mimetype": "text/x-python",
   "name": "python",
   "nbconvert_exporter": "python",
   "pygments_lexer": "ipython3",
   "version": "3.10.4"
  }
 },
 "nbformat": 4,
 "nbformat_minor": 2
}
