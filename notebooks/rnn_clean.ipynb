{
 "cells": [
  {
   "cell_type": "code",
   "execution_count": 1,
   "metadata": {},
   "outputs": [],
   "source": [
    "%load_ext autoreload"
   ]
  },
  {
   "cell_type": "code",
   "execution_count": 2,
   "metadata": {},
   "outputs": [],
   "source": [
    "%autoreload 2\n",
    "\n",
    "import os\n",
    "import sys\n",
    "module_path = os.path.abspath(os.path.join('..'))\n",
    "if module_path not in sys.path:\n",
    "    sys.path.append(module_path)\n",
    "\n",
    "import pandas as pd\n",
    "import matplotlib.pyplot as plt\n",
    "import seaborn as sns\n",
    "import numpy as np\n",
    "import xgboost as xgb\n",
    "from src.utils import load_all_locations\n",
    "from sklearn.metrics import mean_absolute_error\n",
    "from sklearn.preprocessing import MinMaxScaler\n",
    "\n",
    "# Torch\n",
    "import torch\n",
    "import torch.nn as nn\n",
    "import torchvision.transforms as transforms\n",
    "import torchvision.datasets as dsets\n",
    "from torch.autograd import Variable\n",
    "\n",
    "\n",
    "sns.set_theme(style=\"darkgrid\")"
   ]
  },
  {
   "cell_type": "code",
   "execution_count": 3,
   "metadata": {},
   "outputs": [],
   "source": [
    "data = load_all_locations()"
   ]
  },
  {
   "cell_type": "code",
   "execution_count": 4,
   "metadata": {},
   "outputs": [],
   "source": [
    "def create_time_features(df):\n",
    "    df['hour'] = df.time.dt.hour\n",
    "    df['dayofmonth'] = df.time.dt.day\n",
    "    df['dayofweek'] = df.time.dt.dayofweek\n",
    "    df['quarter'] = df.time.dt.quarter\n",
    "    df['month'] = df.time.dt.month\n",
    "    df['year'] = df.time.dt.year\n",
    "    df['dayofyear'] = df.time.dt.dayofyear\n",
    "    return df"
   ]
  },
  {
   "cell_type": "code",
   "execution_count": 5,
   "metadata": {},
   "outputs": [
    {
     "data": {
      "text/plain": [
       "((81118, 53), (81118, 4))"
      ]
     },
     "execution_count": 5,
     "metadata": {},
     "output_type": "execute_result"
    }
   ],
   "source": [
    "X, y = data[0].copy(), data[1].copy()\n",
    "\n",
    "\n",
    "# One-hot Encoding\n",
    "X = X.reset_index().drop(columns=\"index\")\n",
    "one_hot = pd.get_dummies(X[\"location\"]).astype(int)\n",
    "X = X.drop(\"location\", axis=1)\n",
    "X = pd.merge(X, one_hot, left_index=True, right_index=True)\n",
    "\n",
    "# Add time based features\n",
    "X = create_time_features(X)\n",
    "\n",
    "# Drop datetime\n",
    "X = X.drop(columns=[\"time\"])\n",
    "\n",
    "# Drop missing column values\n",
    "nan_columns = X.columns[X.isna().any()].tolist()\n",
    "X = X.drop(columns=nan_columns)\n",
    "\n",
    "X.shape, y.shape\n"
   ]
  },
  {
   "cell_type": "code",
   "execution_count": 6,
   "metadata": {},
   "outputs": [],
   "source": [
    "X_train = X[X.set_type == \"TRAIN\"].copy().drop(columns=[\"set_type\"])\n",
    "X_train_scaler = MinMaxScaler()\n",
    "X_train_scaler = X_train_scaler.fit(X_train)\n",
    "X_train = X_train_scaler.transform(X_train)\n",
    "\n",
    "y_train = y[y.set_type == \"TRAIN\"].copy()[[\"y\"]]\n",
    "y_train_scaler = MinMaxScaler()\n",
    "y_train_scaler = y_train_scaler.fit(y_train)\n",
    "y_train = y_train_scaler.transform(y_train)\n",
    "\n",
    "X_test = X[(X.set_type == \"TEST\")].copy().drop(columns=[\"set_type\"])\n",
    "y_test = y[(y.set_type == \"TEST\")].copy()[[\"y\"]]\n",
    "# X_test = X[(X.set_type == \"TEST\") & (X.A == True)].copy().drop(columns=[\"set_type\"])\n",
    "# y_test = y[(y.set_type == \"TEST\") & (y.location == \"A\")].copy()[[\"y\"]]\n",
    "\n",
    "X_test = X_train_scaler.transform(X_test)\n",
    "y_test = y_train_scaler.transform(y_test)\n"
   ]
  },
  {
   "cell_type": "code",
   "execution_count": 7,
   "metadata": {},
   "outputs": [],
   "source": [
    "class RNNModel(nn.Module):\n",
    "    def __init__(self, input_dim, hidden_dim, layer_dim, output_dim):\n",
    "        super(RNNModel, self).__init__()\n",
    "        #Hidden Dimension\n",
    "        self.hidden_dim = hidden_dim\n",
    "        \n",
    "        # Number of hidden layers\n",
    "        self.layer_dim = layer_dim\n",
    "        \n",
    "        #Building the RNN\n",
    "        self.rnn = nn.RNN(input_dim, hidden_dim, layer_dim, batch_first=True, nonlinearity='relu')\n",
    "        \n",
    "        # Readout layer\n",
    "        self.fc = nn.Linear(hidden_dim, output_dim)\n",
    "        \n",
    "    def forward(self, x):\n",
    "        # Initializing the hidden state with zeros\n",
    "        # (layer_dim, batch_size, hidden_dim)\n",
    "        h0 = Variable(torch.zeros(self.layer_dim, x.size(0), self.hidden_dim))\n",
    "        \n",
    "        #One time step (the last one perhaps?)\n",
    "        out, hn = self.rnn(x, h0)\n",
    "        \n",
    "        # Indexing hidden state of the last time step\n",
    "        # out.size() --> ??\n",
    "        #out[:,-1,:] --> is it going to be 100,100\n",
    "        out = self.fc(out[:,-1,:])\n",
    "        # out.size() --> 100,1\n",
    "        return out\n",
    "        "
   ]
  },
  {
   "cell_type": "code",
   "execution_count": 8,
   "metadata": {},
   "outputs": [],
   "source": [
    "# Instantiating Model Class\n",
    "input_dim = 52\n",
    "hidden_dim = 15\n",
    "layer_dim = 1\n",
    "output_dim = 1\n",
    "batch_size = 100\n",
    "\n",
    "model = RNNModel(input_dim, hidden_dim, layer_dim, output_dim)\n",
    "\n",
    "# Instantiating Loss Class\n",
    "criterion = nn.L1Loss()\n",
    "\n",
    "# Instantiate Optimizer Class\n",
    "learning_rate = 0.001\n",
    "optimizer = torch.optim.Adam(model.parameters())\n",
    "\n",
    "# converting numpy array to torch tensor\n",
    "X_train = torch.from_numpy(X_train)\n",
    "y_train = torch.from_numpy(y_train)\n",
    "X_test = torch.from_numpy(X_test)\n",
    "y_test = torch.from_numpy(y_test)\n",
    "\n",
    "# initializing lists to store losses over epochs:\n",
    "train_loss = []\n",
    "test_loss = []\n",
    "train_iter = []\n",
    "test_iter = []"
   ]
  },
  {
   "cell_type": "code",
   "execution_count": 9,
   "metadata": {},
   "outputs": [
    {
     "data": {
      "text/plain": [
       "52"
      ]
     },
     "execution_count": 9,
     "metadata": {},
     "output_type": "execute_result"
    }
   ],
   "source": [
    "X_test.shape[1]"
   ]
  },
  {
   "cell_type": "code",
   "execution_count": 11,
   "metadata": {},
   "outputs": [
    {
     "name": "stdout",
     "output_type": "stream",
     "text": [
      "Epoch: 0 Iteration: 100. Train_MSE: 0.056731995195150375. Test_MSE: 0.041873570531606674\n",
      "Epoch: 0 Iteration: 200. Train_MSE: 0.028853900730609894. Test_MSE: 0.03940415754914284\n",
      "Epoch: 0 Iteration: 300. Train_MSE: 0.0008284401847049594. Test_MSE: 0.0458223894238472\n",
      "Epoch: 0 Iteration: 400. Train_MSE: 0.01161998137831688. Test_MSE: 0.041602227836847305\n",
      "Epoch: 0 Iteration: 500. Train_MSE: 0.0004988288856111467. Test_MSE: 0.04283464699983597\n",
      "Epoch: 0 Iteration: 600. Train_MSE: 0.004203674383461475. Test_MSE: 0.04868488758802414\n",
      "Epoch: 0 Iteration: 700. Train_MSE: 0.013500946573913097. Test_MSE: 0.0455872118473053\n",
      "Epoch: 1 Iteration: 800. Train_MSE: 0.06896216422319412. Test_MSE: 0.03914617374539375\n",
      "Epoch: 1 Iteration: 900. Train_MSE: 0.05789221450686455. Test_MSE: 0.03729189187288284\n",
      "Epoch: 1 Iteration: 1000. Train_MSE: 0.000996443210169673. Test_MSE: 0.04261096939444542\n",
      "Epoch: 1 Iteration: 1100. Train_MSE: 0.010414081625640392. Test_MSE: 0.04153499752283096\n",
      "Epoch: 1 Iteration: 1200. Train_MSE: 0.0017114054644480348. Test_MSE: 0.04244939982891083\n",
      "Epoch: 1 Iteration: 1300. Train_MSE: 0.005488650873303413. Test_MSE: 0.04894682392477989\n",
      "Epoch: 1 Iteration: 1400. Train_MSE: 0.005279417149722576. Test_MSE: 0.04597899317741394\n",
      "Epoch: 2 Iteration: 1500. Train_MSE: 0.08097250759601593. Test_MSE: 0.038460344076156616\n",
      "Epoch: 2 Iteration: 1600. Train_MSE: 0.04529285803437233. Test_MSE: 0.0361068956553936\n",
      "Epoch: 2 Iteration: 1700. Train_MSE: 0.01930367201566696. Test_MSE: 0.04042898863554001\n",
      "Epoch: 2 Iteration: 1800. Train_MSE: 0.007074412889778614. Test_MSE: 0.04217901453375816\n",
      "Epoch: 2 Iteration: 1900. Train_MSE: 0.0018181094201281667. Test_MSE: 0.04272949695587158\n",
      "Epoch: 2 Iteration: 2000. Train_MSE: 0.007410203106701374. Test_MSE: 0.04836859554052353\n",
      "Epoch: 2 Iteration: 2100. Train_MSE: 0.0031335128005594015. Test_MSE: 0.04590161517262459\n",
      "Epoch: 3 Iteration: 2200. Train_MSE: 0.04760514199733734. Test_MSE: 0.03867725655436516\n",
      "Epoch: 3 Iteration: 2300. Train_MSE: 0.03781283274292946. Test_MSE: 0.03572574630379677\n",
      "Epoch: 3 Iteration: 2400. Train_MSE: 0.020658332854509354. Test_MSE: 0.039185259491205215\n",
      "Epoch: 3 Iteration: 2500. Train_MSE: 0.0060580517165362835. Test_MSE: 0.042684122920036316\n",
      "Epoch: 3 Iteration: 2600. Train_MSE: 0.0017688623629510403. Test_MSE: 0.04255276545882225\n",
      "Epoch: 3 Iteration: 2700. Train_MSE: 0.006947385612875223. Test_MSE: 0.04664936661720276\n",
      "Epoch: 3 Iteration: 2800. Train_MSE: 0.0029593801591545343. Test_MSE: 0.04598866403102875\n",
      "Epoch: 4 Iteration: 2900. Train_MSE: 0.042233727872371674. Test_MSE: 0.03891327977180481\n",
      "Epoch: 4 Iteration: 3000. Train_MSE: 0.09043619781732559. Test_MSE: 0.03613985702395439\n",
      "Epoch: 4 Iteration: 3100. Train_MSE: 0.04545016214251518. Test_MSE: 0.03763233870267868\n",
      "Epoch: 4 Iteration: 3200. Train_MSE: 0.005126641597598791. Test_MSE: 0.04263024032115936\n",
      "Epoch: 4 Iteration: 3300. Train_MSE: 0.0016799846198409796. Test_MSE: 0.04316988214850426\n",
      "Epoch: 4 Iteration: 3400. Train_MSE: 0.008819201029837132. Test_MSE: 0.04620583355426788\n",
      "Epoch: 4 Iteration: 3500. Train_MSE: 0.005475987680256367. Test_MSE: 0.047214969992637634\n",
      "Epoch: 5 Iteration: 3600. Train_MSE: 0.042222291231155396. Test_MSE: 0.0394987054169178\n",
      "Epoch: 5 Iteration: 3700. Train_MSE: 0.09528470784425735. Test_MSE: 0.036197371780872345\n",
      "Epoch: 5 Iteration: 3800. Train_MSE: 0.02306525409221649. Test_MSE: 0.03615528717637062\n",
      "Epoch: 5 Iteration: 3900. Train_MSE: 0.005339483730494976. Test_MSE: 0.04282495006918907\n",
      "Epoch: 5 Iteration: 4000. Train_MSE: 0.004241920541971922. Test_MSE: 0.04253076761960983\n",
      "Epoch: 5 Iteration: 4100. Train_MSE: 0.0068948473781347275. Test_MSE: 0.04532616585493088\n",
      "Epoch: 5 Iteration: 4200. Train_MSE: 0.00045760200009681284. Test_MSE: 0.04710335284471512\n",
      "Epoch: 6 Iteration: 4300. Train_MSE: 0.05739486217498779. Test_MSE: 0.04180585965514183\n",
      "Epoch: 6 Iteration: 4400. Train_MSE: 0.043840497732162476. Test_MSE: 0.0365479551255703\n",
      "Epoch: 6 Iteration: 4500. Train_MSE: 0.024200646206736565. Test_MSE: 0.03563668206334114\n",
      "Epoch: 6 Iteration: 4600. Train_MSE: 0.006814897526055574. Test_MSE: 0.043060529977083206\n",
      "Epoch: 6 Iteration: 4700. Train_MSE: 0.003398237517103553. Test_MSE: 0.04235582798719406\n",
      "Epoch: 6 Iteration: 4800. Train_MSE: 0.007358153350651264. Test_MSE: 0.044853925704956055\n",
      "Epoch: 6 Iteration: 4900. Train_MSE: 0.000672005582600832. Test_MSE: 0.047241125255823135\n",
      "Epoch: 7 Iteration: 5000. Train_MSE: 0.07776299118995667. Test_MSE: 0.04510657861828804\n",
      "Epoch: 7 Iteration: 5100. Train_MSE: 0.07004815340042114. Test_MSE: 0.03717351704835892\n",
      "Epoch: 7 Iteration: 5200. Train_MSE: 0.05337632820010185. Test_MSE: 0.03480662405490875\n",
      "Epoch: 7 Iteration: 5300. Train_MSE: 0.0030473521910607815. Test_MSE: 0.04326913505792618\n",
      "Epoch: 7 Iteration: 5400. Train_MSE: 0.005574101582169533. Test_MSE: 0.04150199517607689\n",
      "Epoch: 7 Iteration: 5500. Train_MSE: 0.009928178042173386. Test_MSE: 0.04451863840222359\n",
      "Epoch: 7 Iteration: 5600. Train_MSE: 0.0009528448572382331. Test_MSE: 0.04630450904369354\n",
      "Epoch: 8 Iteration: 5700. Train_MSE: 0.051991596817970276. Test_MSE: 0.04700201749801636\n",
      "Epoch: 8 Iteration: 5800. Train_MSE: 0.0587112158536911. Test_MSE: 0.03777894750237465\n",
      "Epoch: 8 Iteration: 5900. Train_MSE: 0.04687684401869774. Test_MSE: 0.034597404301166534\n",
      "Epoch: 8 Iteration: 6000. Train_MSE: 0.0030847780872136354. Test_MSE: 0.04264871031045914\n",
      "Epoch: 8 Iteration: 6100. Train_MSE: 0.006433702073991299. Test_MSE: 0.03942091390490532\n",
      "Epoch: 8 Iteration: 6200. Train_MSE: 0.008312592282891273. Test_MSE: 0.04484625533223152\n",
      "Epoch: 8 Iteration: 6300. Train_MSE: 0.0014944481663405895. Test_MSE: 0.04596146568655968\n",
      "Epoch: 9 Iteration: 6400. Train_MSE: 0.07272785902023315. Test_MSE: 0.047384876757860184\n",
      "Epoch: 9 Iteration: 6500. Train_MSE: 0.052206240594387054. Test_MSE: 0.0390363372862339\n",
      "Epoch: 9 Iteration: 6600. Train_MSE: 0.054277945309877396. Test_MSE: 0.03487630933523178\n",
      "Epoch: 9 Iteration: 6700. Train_MSE: 0.0014023988042026758. Test_MSE: 0.04242692515254021\n",
      "Epoch: 9 Iteration: 6800. Train_MSE: 0.00875395629554987. Test_MSE: 0.03818884119391441\n",
      "Epoch: 9 Iteration: 6900. Train_MSE: 0.011457058601081371. Test_MSE: 0.04530443996191025\n",
      "Epoch: 9 Iteration: 7000. Train_MSE: 0.0014368696138262749. Test_MSE: 0.046061430126428604\n",
      "Epoch: 10 Iteration: 7100. Train_MSE: 0.07003795355558395. Test_MSE: 0.046983323991298676\n",
      "Epoch: 10 Iteration: 7200. Train_MSE: 0.08051428198814392. Test_MSE: 0.041177693754434586\n",
      "Epoch: 10 Iteration: 7300. Train_MSE: 0.06575179845094681. Test_MSE: 0.03512099012732506\n",
      "Epoch: 10 Iteration: 7400. Train_MSE: 0.0006884582107886672. Test_MSE: 0.04196608439087868\n",
      "Epoch: 10 Iteration: 7500. Train_MSE: 0.007817515172064304. Test_MSE: 0.036821942776441574\n",
      "Epoch: 10 Iteration: 7600. Train_MSE: 0.014586224220693111. Test_MSE: 0.04615764319896698\n",
      "Epoch: 10 Iteration: 7700. Train_MSE: 0.0021886336617171764. Test_MSE: 0.04601336643099785\n",
      "Epoch: 11 Iteration: 7800. Train_MSE: 0.06044901907444. Test_MSE: 0.04586267098784447\n",
      "Epoch: 11 Iteration: 7900. Train_MSE: 0.050227951258420944. Test_MSE: 0.04320420324802399\n",
      "Epoch: 11 Iteration: 8000. Train_MSE: 0.06104116886854172. Test_MSE: 0.036348409950733185\n",
      "Epoch: 11 Iteration: 8100. Train_MSE: 0.0006450067739933729. Test_MSE: 0.042172882705926895\n",
      "Epoch: 11 Iteration: 8200. Train_MSE: 0.011430156417191029. Test_MSE: 0.03628101944923401\n",
      "Epoch: 11 Iteration: 8300. Train_MSE: 0.011024374514818192. Test_MSE: 0.0480470284819603\n",
      "Epoch: 11 Iteration: 8400. Train_MSE: 0.0027140092570334673. Test_MSE: 0.04595067724585533\n",
      "Epoch: 12 Iteration: 8500. Train_MSE: 0.025890300050377846. Test_MSE: 0.045405883342027664\n",
      "Epoch: 12 Iteration: 8600. Train_MSE: 0.05059649795293808. Test_MSE: 0.04674641042947769\n",
      "Epoch: 12 Iteration: 8700. Train_MSE: 0.05473065748810768. Test_MSE: 0.036464378237724304\n",
      "Epoch: 12 Iteration: 8800. Train_MSE: 0.0002780051145236939. Test_MSE: 0.04193072021007538\n",
      "Epoch: 12 Iteration: 8900. Train_MSE: 0.013445637188851833. Test_MSE: 0.03669319301843643\n",
      "Epoch: 12 Iteration: 9000. Train_MSE: 0.010206899605691433. Test_MSE: 0.0490625724196434\n",
      "Epoch: 12 Iteration: 9100. Train_MSE: 0.0029763448983430862. Test_MSE: 0.04542803764343262\n",
      "Epoch: 13 Iteration: 9200. Train_MSE: 0.04618864879012108. Test_MSE: 0.045271944254636765\n",
      "Epoch: 13 Iteration: 9300. Train_MSE: 0.08378557115793228. Test_MSE: 0.05201800540089607\n",
      "Epoch: 13 Iteration: 9400. Train_MSE: 0.039197925478219986. Test_MSE: 0.036455053836107254\n",
      "Epoch: 13 Iteration: 9500. Train_MSE: 0.0005293889553286135. Test_MSE: 0.04224593564867973\n",
      "Epoch: 13 Iteration: 9600. Train_MSE: 0.01075113657861948. Test_MSE: 0.03797255828976631\n",
      "Epoch: 13 Iteration: 9700. Train_MSE: 0.011427626945078373. Test_MSE: 0.04787192866206169\n",
      "Epoch: 13 Iteration: 9800. Train_MSE: 0.003108029253780842. Test_MSE: 0.046067818999290466\n",
      "Epoch: 14 Iteration: 9900. Train_MSE: 0.04892868921160698. Test_MSE: 0.044351737946271896\n",
      "Epoch: 14 Iteration: 10000. Train_MSE: 0.06482873111963272. Test_MSE: 0.053333722054958344\n",
      "Epoch: 14 Iteration: 10100. Train_MSE: 0.04168371111154556. Test_MSE: 0.03879771754145622\n",
      "Epoch: 14 Iteration: 10200. Train_MSE: 0.0002748249680735171. Test_MSE: 0.0427231602370739\n",
      "Epoch: 14 Iteration: 10300. Train_MSE: 0.012092692777514458. Test_MSE: 0.04132258892059326\n",
      "Epoch: 14 Iteration: 10400. Train_MSE: 0.010426120832562447. Test_MSE: 0.04535447061061859\n",
      "Epoch: 14 Iteration: 10500. Train_MSE: 0.003557266667485237. Test_MSE: 0.046141352504491806\n",
      "Epoch: 15 Iteration: 10600. Train_MSE: 0.053963255137205124. Test_MSE: 0.04442160204052925\n",
      "Epoch: 15 Iteration: 10700. Train_MSE: 0.04209532588720322. Test_MSE: 0.05331549048423767\n",
      "Epoch: 15 Iteration: 10800. Train_MSE: 0.06957828253507614. Test_MSE: 0.0403074286878109\n",
      "Epoch: 15 Iteration: 10900. Train_MSE: 0.0007679284317418933. Test_MSE: 0.04323352128267288\n",
      "Epoch: 15 Iteration: 11000. Train_MSE: 0.016390949487686157. Test_MSE: 0.04576096311211586\n",
      "Epoch: 15 Iteration: 11100. Train_MSE: 0.010113569907844067. Test_MSE: 0.04465646296739578\n",
      "Epoch: 15 Iteration: 11200. Train_MSE: 0.00491347536444664. Test_MSE: 0.047254934906959534\n",
      "Epoch: 16 Iteration: 11300. Train_MSE: 0.029041502624750137. Test_MSE: 0.042810115963220596\n",
      "Epoch: 16 Iteration: 11400. Train_MSE: 0.07122102379798889. Test_MSE: 0.05134514719247818\n",
      "Epoch: 16 Iteration: 11500. Train_MSE: 0.04945410415530205. Test_MSE: 0.04297604411840439\n",
      "Epoch: 16 Iteration: 11600. Train_MSE: 0.001183923683129251. Test_MSE: 0.04373716562986374\n",
      "Epoch: 16 Iteration: 11700. Train_MSE: 0.02014194428920746. Test_MSE: 0.04799738898873329\n",
      "Epoch: 16 Iteration: 11800. Train_MSE: 0.01814652793109417. Test_MSE: 0.04281172528862953\n",
      "Epoch: 16 Iteration: 11900. Train_MSE: 0.005384613759815693. Test_MSE: 0.046712081879377365\n",
      "Epoch: 17 Iteration: 12000. Train_MSE: 0.033266741782426834. Test_MSE: 0.043354909867048264\n",
      "Epoch: 17 Iteration: 12100. Train_MSE: 0.05194350332021713. Test_MSE: 0.04953242838382721\n",
      "Epoch: 17 Iteration: 12200. Train_MSE: 0.05643095821142197. Test_MSE: 0.0464327409863472\n",
      "Epoch: 17 Iteration: 12300. Train_MSE: 0.0014202020829543471. Test_MSE: 0.04393348842859268\n",
      "Epoch: 17 Iteration: 12400. Train_MSE: 0.01426363829523325. Test_MSE: 0.04841238260269165\n",
      "Epoch: 17 Iteration: 12500. Train_MSE: 0.009546838700771332. Test_MSE: 0.044634681195020676\n",
      "Epoch: 17 Iteration: 12600. Train_MSE: 0.007185928989201784. Test_MSE: 0.04732628911733627\n",
      "Epoch: 18 Iteration: 12700. Train_MSE: 0.019008267670869827. Test_MSE: 0.04210261255502701\n",
      "Epoch: 18 Iteration: 12800. Train_MSE: 0.041106127202510834. Test_MSE: 0.046979404985904694\n",
      "Epoch: 18 Iteration: 12900. Train_MSE: 0.061253275722265244. Test_MSE: 0.04997112974524498\n",
      "Epoch: 18 Iteration: 13000. Train_MSE: 0.0020119810942560434. Test_MSE: 0.04417497664690018\n",
      "Epoch: 18 Iteration: 13100. Train_MSE: 0.007600054610520601. Test_MSE: 0.045474015176296234\n",
      "Epoch: 18 Iteration: 13200. Train_MSE: 0.005761554464697838. Test_MSE: 0.045378100126981735\n",
      "Epoch: 18 Iteration: 13300. Train_MSE: 0.005431519355624914. Test_MSE: 0.044294316321611404\n",
      "Epoch: 19 Iteration: 13400. Train_MSE: 0.03957153484225273. Test_MSE: 0.04215474799275398\n",
      "Epoch: 19 Iteration: 13500. Train_MSE: 0.05424821004271507. Test_MSE: 0.04572156444191933\n",
      "Epoch: 19 Iteration: 13600. Train_MSE: 0.07298792898654938. Test_MSE: 0.053260575979948044\n",
      "Epoch: 19 Iteration: 13700. Train_MSE: 0.0022093034349381924. Test_MSE: 0.04503926634788513\n",
      "Epoch: 19 Iteration: 13800. Train_MSE: 0.013744422234594822. Test_MSE: 0.04144563898444176\n",
      "Epoch: 19 Iteration: 13900. Train_MSE: 0.006573800463229418. Test_MSE: 0.0481424555182457\n",
      "Epoch: 19 Iteration: 14000. Train_MSE: 0.009182062931358814. Test_MSE: 0.04222517088055611\n",
      "Epoch: 20 Iteration: 14100. Train_MSE: 0.006613408215343952. Test_MSE: 0.041535429656505585\n",
      "Epoch: 20 Iteration: 14200. Train_MSE: 0.059867534786462784. Test_MSE: 0.04407485947012901\n",
      "Epoch: 20 Iteration: 14300. Train_MSE: 0.05657603219151497. Test_MSE: 0.05431085079908371\n",
      "Epoch: 20 Iteration: 14400. Train_MSE: 0.0037010549567639828. Test_MSE: 0.045995090156793594\n",
      "Epoch: 20 Iteration: 14500. Train_MSE: 0.0152350552380085. Test_MSE: 0.03858838230371475\n",
      "Epoch: 20 Iteration: 14600. Train_MSE: 0.007632845547050238. Test_MSE: 0.05147791653871536\n",
      "Epoch: 20 Iteration: 14700. Train_MSE: 0.009561738930642605. Test_MSE: 0.0407133623957634\n",
      "Epoch: 21 Iteration: 14800. Train_MSE: 0.023836126551032066. Test_MSE: 0.041051607578992844\n",
      "Epoch: 21 Iteration: 14900. Train_MSE: 0.0229199081659317. Test_MSE: 0.04232224076986313\n",
      "Epoch: 21 Iteration: 15000. Train_MSE: 0.04298023879528046. Test_MSE: 0.05440765991806984\n",
      "Epoch: 21 Iteration: 15100. Train_MSE: 0.005139593966305256. Test_MSE: 0.046662501990795135\n",
      "Epoch: 21 Iteration: 15200. Train_MSE: 0.015088576823472977. Test_MSE: 0.036395568400621414\n",
      "Epoch: 21 Iteration: 15300. Train_MSE: 0.01194350142031908. Test_MSE: 0.055656798183918\n",
      "Epoch: 21 Iteration: 15400. Train_MSE: 0.009096392430365086. Test_MSE: 0.04053222015500069\n",
      "Epoch: 22 Iteration: 15500. Train_MSE: 0.003022632095962763. Test_MSE: 0.04105275124311447\n",
      "Epoch: 22 Iteration: 15600. Train_MSE: 0.09545610100030899. Test_MSE: 0.04142191261053085\n",
      "Epoch: 22 Iteration: 15700. Train_MSE: 0.06982313841581345. Test_MSE: 0.05223247781395912\n",
      "Epoch: 22 Iteration: 15800. Train_MSE: 0.0049036298878490925. Test_MSE: 0.047371283173561096\n",
      "Epoch: 22 Iteration: 15900. Train_MSE: 0.015880759805440903. Test_MSE: 0.035319749265909195\n",
      "Epoch: 22 Iteration: 16000. Train_MSE: 0.011177572421729565. Test_MSE: 0.05856463685631752\n",
      "Epoch: 22 Iteration: 16100. Train_MSE: 0.007636085618287325. Test_MSE: 0.041841473430395126\n",
      "Epoch: 23 Iteration: 16200. Train_MSE: 0.009997994638979435. Test_MSE: 0.041838597506284714\n",
      "Epoch: 23 Iteration: 16300. Train_MSE: 0.01339822169393301. Test_MSE: 0.04167758673429489\n",
      "Epoch: 23 Iteration: 16400. Train_MSE: 0.032676972448825836. Test_MSE: 0.0496712364256382\n",
      "Epoch: 23 Iteration: 16500. Train_MSE: 0.0037833144888281822. Test_MSE: 0.046901386231184006\n",
      "Epoch: 23 Iteration: 16600. Train_MSE: 0.003675899002701044. Test_MSE: 0.03515138477087021\n",
      "Epoch: 23 Iteration: 16700. Train_MSE: 0.010956358164548874. Test_MSE: 0.060322389006614685\n",
      "Epoch: 23 Iteration: 16800. Train_MSE: 0.006574143655598164. Test_MSE: 0.04376232996582985\n",
      "Epoch: 24 Iteration: 16900. Train_MSE: 0.0013692450011149049. Test_MSE: 0.04186103492975235\n",
      "Epoch: 24 Iteration: 17000. Train_MSE: 0.04521613195538521. Test_MSE: 0.040897682309150696\n",
      "Epoch: 24 Iteration: 17100. Train_MSE: 0.08419398963451385. Test_MSE: 0.04666012525558472\n",
      "Epoch: 24 Iteration: 17200. Train_MSE: 0.006384255830198526. Test_MSE: 0.04735526069998741\n",
      "Epoch: 24 Iteration: 17300. Train_MSE: 0.0008616953855380416. Test_MSE: 0.034822069108486176\n",
      "Epoch: 24 Iteration: 17400. Train_MSE: 0.0032001263462007046. Test_MSE: 0.05991164594888687\n",
      "Epoch: 24 Iteration: 17500. Train_MSE: 0.009068526327610016. Test_MSE: 0.04627343639731407\n",
      "Epoch: 25 Iteration: 17600. Train_MSE: 0.006609431467950344. Test_MSE: 0.041453856974840164\n",
      "Epoch: 25 Iteration: 17700. Train_MSE: 0.02137833647429943. Test_MSE: 0.04026179760694504\n",
      "Epoch: 25 Iteration: 17800. Train_MSE: 0.041704826056957245. Test_MSE: 0.044170234352350235\n",
      "Epoch: 25 Iteration: 17900. Train_MSE: 0.0076054977253079414. Test_MSE: 0.04690892994403839\n",
      "Epoch: 25 Iteration: 18000. Train_MSE: 0.0018985457718372345. Test_MSE: 0.03501168265938759\n",
      "Epoch: 25 Iteration: 18100. Train_MSE: 0.001588141662068665. Test_MSE: 0.05968955531716347\n",
      "Epoch: 25 Iteration: 18200. Train_MSE: 0.012610072270035744. Test_MSE: 0.047180406749248505\n",
      "Epoch: 26 Iteration: 18300. Train_MSE: 0.005613848101347685. Test_MSE: 0.04113151505589485\n",
      "Epoch: 26 Iteration: 18400. Train_MSE: 0.011272533796727657. Test_MSE: 0.03975290432572365\n",
      "Epoch: 26 Iteration: 18500. Train_MSE: 0.06237483024597168. Test_MSE: 0.042725712060928345\n",
      "Epoch: 26 Iteration: 18600. Train_MSE: 0.01216659415513277. Test_MSE: 0.046774644404649734\n",
      "Epoch: 26 Iteration: 18700. Train_MSE: 0.0004228140169288963. Test_MSE: 0.03497251868247986\n",
      "Epoch: 26 Iteration: 18800. Train_MSE: 0.0014357833424583077. Test_MSE: 0.06179548427462578\n",
      "Epoch: 26 Iteration: 18900. Train_MSE: 0.010515978559851646. Test_MSE: 0.046195995062589645\n",
      "Epoch: 27 Iteration: 19000. Train_MSE: 0.0036739639472216368. Test_MSE: 0.04236605018377304\n",
      "Epoch: 27 Iteration: 19100. Train_MSE: 0.008196165785193443. Test_MSE: 0.04034410044550896\n",
      "Epoch: 27 Iteration: 19200. Train_MSE: 0.04109089821577072. Test_MSE: 0.04196794703602791\n",
      "Epoch: 27 Iteration: 19300. Train_MSE: 0.00903476681560278. Test_MSE: 0.04533204436302185\n",
      "Epoch: 27 Iteration: 19400. Train_MSE: 0.00024843329447321594. Test_MSE: 0.034958235919475555\n",
      "Epoch: 27 Iteration: 19500. Train_MSE: 0.0007820893661119044. Test_MSE: 0.061164092272520065\n",
      "Epoch: 27 Iteration: 19600. Train_MSE: 0.005841378588229418. Test_MSE: 0.04398227110505104\n",
      "Epoch: 28 Iteration: 19700. Train_MSE: 0.002381092868745327. Test_MSE: 0.04323284327983856\n",
      "Epoch: 28 Iteration: 19800. Train_MSE: 0.004363456275314093. Test_MSE: 0.04090669006109238\n",
      "Epoch: 28 Iteration: 19900. Train_MSE: 0.0656534880399704. Test_MSE: 0.04076847434043884\n",
      "Epoch: 28 Iteration: 20000. Train_MSE: 0.00979349110275507. Test_MSE: 0.04337465018033981\n",
      "Epoch: 28 Iteration: 20100. Train_MSE: 0.0003346734447404742. Test_MSE: 0.03525795042514801\n",
      "Epoch: 28 Iteration: 20200. Train_MSE: 0.0005911870393902063. Test_MSE: 0.061175793409347534\n",
      "Epoch: 28 Iteration: 20300. Train_MSE: 0.012735004536807537. Test_MSE: 0.04246530681848526\n",
      "Epoch: 29 Iteration: 20400. Train_MSE: 0.011029306799173355. Test_MSE: 0.04172515124082565\n",
      "Epoch: 29 Iteration: 20500. Train_MSE: 0.005297529511153698. Test_MSE: 0.04014458507299423\n",
      "Epoch: 29 Iteration: 20600. Train_MSE: 0.033478450030088425. Test_MSE: 0.03941968455910683\n",
      "Epoch: 29 Iteration: 20700. Train_MSE: 0.014125709421932697. Test_MSE: 0.041362788528203964\n",
      "Epoch: 29 Iteration: 20800. Train_MSE: 0.00036146456841379404. Test_MSE: 0.03499499335885048\n",
      "Epoch: 29 Iteration: 20900. Train_MSE: 0.00043423843453638256. Test_MSE: 0.05978403240442276\n",
      "Epoch: 29 Iteration: 21000. Train_MSE: 0.010695729404687881. Test_MSE: 0.0431818924844265\n",
      "Epoch: 30 Iteration: 21100. Train_MSE: 0.021247874945402145. Test_MSE: 0.04203630983829498\n",
      "Epoch: 30 Iteration: 21200. Train_MSE: 0.008601692505180836. Test_MSE: 0.04034607857465744\n",
      "Epoch: 30 Iteration: 21300. Train_MSE: 0.03327731788158417. Test_MSE: 0.03921358659863472\n",
      "Epoch: 30 Iteration: 21400. Train_MSE: 0.012584874406456947. Test_MSE: 0.04132811352610588\n",
      "Epoch: 30 Iteration: 21500. Train_MSE: 0.0007873375434428453. Test_MSE: 0.03523021936416626\n",
      "Epoch: 30 Iteration: 21600. Train_MSE: 0.0015240379143506289. Test_MSE: 0.05923481285572052\n",
      "Epoch: 30 Iteration: 21700. Train_MSE: 0.009860098361968994. Test_MSE: 0.04258136451244354\n",
      "Epoch: 31 Iteration: 21800. Train_MSE: 0.019041765481233597. Test_MSE: 0.04112343490123749\n",
      "Epoch: 31 Iteration: 21900. Train_MSE: 0.004000616259872913. Test_MSE: 0.03996334224939346\n",
      "Epoch: 31 Iteration: 22000. Train_MSE: 0.00851418636739254. Test_MSE: 0.03900337591767311\n",
      "Epoch: 31 Iteration: 22100. Train_MSE: 0.008638614788651466. Test_MSE: 0.04341208562254906\n",
      "Epoch: 31 Iteration: 22200. Train_MSE: 0.0010100569343194366. Test_MSE: 0.03535374626517296\n",
      "Epoch: 31 Iteration: 22300. Train_MSE: 0.001957804197445512. Test_MSE: 0.059719398617744446\n",
      "Epoch: 31 Iteration: 22400. Train_MSE: 0.009189675562083721. Test_MSE: 0.043256573379039764\n",
      "Epoch: 32 Iteration: 22500. Train_MSE: 0.007385130040347576. Test_MSE: 0.04015829414129257\n",
      "Epoch: 32 Iteration: 22600. Train_MSE: 0.005469183903187513. Test_MSE: 0.03985506668686867\n",
      "Epoch: 32 Iteration: 22700. Train_MSE: 0.008469868451356888. Test_MSE: 0.03916631639003754\n",
      "Epoch: 32 Iteration: 22800. Train_MSE: 0.013242932967841625. Test_MSE: 0.04550652205944061\n",
      "Epoch: 32 Iteration: 22900. Train_MSE: 0.0009157608728855848. Test_MSE: 0.035330455750226974\n",
      "Epoch: 32 Iteration: 23000. Train_MSE: 0.0034093621652573347. Test_MSE: 0.05919041857123375\n",
      "Epoch: 32 Iteration: 23100. Train_MSE: 0.0037759938277304173. Test_MSE: 0.04461280629038811\n",
      "Epoch: 33 Iteration: 23200. Train_MSE: 0.018078772351145744. Test_MSE: 0.03885731101036072\n",
      "Epoch: 33 Iteration: 23300. Train_MSE: 0.010458845645189285. Test_MSE: 0.03985229879617691\n",
      "Epoch: 33 Iteration: 23400. Train_MSE: 0.004302873741835356. Test_MSE: 0.03910180553793907\n",
      "Epoch: 33 Iteration: 23500. Train_MSE: 0.0176628939807415. Test_MSE: 0.047348689287900925\n",
      "Epoch: 33 Iteration: 23600. Train_MSE: 0.0017957671079784632. Test_MSE: 0.03570593148469925\n",
      "Epoch: 33 Iteration: 23700. Train_MSE: 0.0022316270042210817. Test_MSE: 0.05832907184958458\n",
      "Epoch: 33 Iteration: 23800. Train_MSE: 0.01703096181154251. Test_MSE: 0.04586680233478546\n",
      "Epoch: 34 Iteration: 23900. Train_MSE: 0.03259926289319992. Test_MSE: 0.0379168763756752\n",
      "Epoch: 34 Iteration: 24000. Train_MSE: 0.005763759836554527. Test_MSE: 0.04010516405105591\n",
      "Epoch: 34 Iteration: 24100. Train_MSE: 0.006401148624718189. Test_MSE: 0.039591554552316666\n",
      "Epoch: 34 Iteration: 24200. Train_MSE: 0.012815860100090504. Test_MSE: 0.04794736206531525\n",
      "Epoch: 34 Iteration: 24300. Train_MSE: 0.001609322614967823. Test_MSE: 0.03638894483447075\n",
      "Epoch: 34 Iteration: 24400. Train_MSE: 0.00336352176964283. Test_MSE: 0.05695981904864311\n",
      "Epoch: 34 Iteration: 24500. Train_MSE: 0.006748814135789871. Test_MSE: 0.04583447054028511\n",
      "Epoch: 35 Iteration: 24600. Train_MSE: 0.0321832150220871. Test_MSE: 0.03736968711018562\n",
      "Epoch: 35 Iteration: 24700. Train_MSE: 0.0047989701852202415. Test_MSE: 0.040355220437049866\n",
      "Epoch: 35 Iteration: 24800. Train_MSE: 0.0023123843129724264. Test_MSE: 0.03978483006358147\n",
      "Epoch: 35 Iteration: 24900. Train_MSE: 0.012630218639969826. Test_MSE: 0.04745491221547127\n",
      "Epoch: 35 Iteration: 25000. Train_MSE: 0.002436352428048849. Test_MSE: 0.036902278661727905\n",
      "Epoch: 35 Iteration: 25100. Train_MSE: 0.0031646566931158304. Test_MSE: 0.05470801889896393\n",
      "Epoch: 35 Iteration: 25200. Train_MSE: 0.006360274739563465. Test_MSE: 0.0451558493077755\n",
      "Epoch: 36 Iteration: 25300. Train_MSE: 0.058357805013656616. Test_MSE: 0.03645981848239899\n",
      "Epoch: 36 Iteration: 25400. Train_MSE: 0.009153908118605614. Test_MSE: 0.0400022454559803\n",
      "Epoch: 36 Iteration: 25500. Train_MSE: 0.001794485142454505. Test_MSE: 0.039847325533628464\n",
      "Epoch: 36 Iteration: 25600. Train_MSE: 0.0203689094632864. Test_MSE: 0.04596030339598656\n",
      "Epoch: 36 Iteration: 25700. Train_MSE: 0.0017311177216470242. Test_MSE: 0.036713890731334686\n",
      "Epoch: 36 Iteration: 25800. Train_MSE: 0.0038861273787915707. Test_MSE: 0.05004770681262016\n",
      "Epoch: 36 Iteration: 25900. Train_MSE: 0.004663713742047548. Test_MSE: 0.04366762563586235\n",
      "Epoch: 37 Iteration: 26000. Train_MSE: 0.030658671632409096. Test_MSE: 0.03530336543917656\n",
      "Epoch: 37 Iteration: 26100. Train_MSE: 0.006173681002110243. Test_MSE: 0.039538122713565826\n",
      "Epoch: 37 Iteration: 26200. Train_MSE: 0.00253078481182456. Test_MSE: 0.040557682514190674\n",
      "Epoch: 37 Iteration: 26300. Train_MSE: 0.009625053033232689. Test_MSE: 0.04420192167162895\n",
      "Epoch: 37 Iteration: 26400. Train_MSE: 0.003396520856767893. Test_MSE: 0.03724007308483124\n",
      "Epoch: 37 Iteration: 26500. Train_MSE: 0.005697569344192743. Test_MSE: 0.04757567495107651\n",
      "Epoch: 37 Iteration: 26600. Train_MSE: 0.002662567887455225. Test_MSE: 0.044622987508773804\n",
      "Epoch: 38 Iteration: 26700. Train_MSE: 0.05079306289553642. Test_MSE: 0.0351395308971405\n",
      "Epoch: 38 Iteration: 26800. Train_MSE: 0.019213151186704636. Test_MSE: 0.03935599327087402\n",
      "Epoch: 38 Iteration: 26900. Train_MSE: 0.0022477672901004553. Test_MSE: 0.040633007884025574\n",
      "Epoch: 38 Iteration: 27000. Train_MSE: 0.014673914760351181. Test_MSE: 0.043386705219745636\n",
      "Epoch: 38 Iteration: 27100. Train_MSE: 0.0044692279770970345. Test_MSE: 0.03750038519501686\n",
      "Epoch: 38 Iteration: 27200. Train_MSE: 0.007280871272087097. Test_MSE: 0.04352577030658722\n",
      "Epoch: 38 Iteration: 27300. Train_MSE: 0.0018979876767843962. Test_MSE: 0.044564325362443924\n",
      "Epoch: 39 Iteration: 27400. Train_MSE: 0.05651605501770973. Test_MSE: 0.034472376108169556\n",
      "Epoch: 39 Iteration: 27500. Train_MSE: 0.020765595138072968. Test_MSE: 0.03878173604607582\n",
      "Epoch: 39 Iteration: 27600. Train_MSE: 0.0018214142182841897. Test_MSE: 0.04044456034898758\n",
      "Epoch: 39 Iteration: 27700. Train_MSE: 0.010700944811105728. Test_MSE: 0.0436222217977047\n",
      "Epoch: 39 Iteration: 27800. Train_MSE: 0.003875523805618286. Test_MSE: 0.03704984486103058\n",
      "Epoch: 39 Iteration: 27900. Train_MSE: 0.01077614538371563. Test_MSE: 0.040785644203424454\n",
      "Epoch: 39 Iteration: 28000. Train_MSE: 0.00047674166853539646. Test_MSE: 0.04454411566257477\n",
      "Epoch: 40 Iteration: 28100. Train_MSE: 0.08452944457530975. Test_MSE: 0.03432070091366768\n",
      "Epoch: 40 Iteration: 28200. Train_MSE: 0.027129292488098145. Test_MSE: 0.038047436624765396\n",
      "Epoch: 40 Iteration: 28300. Train_MSE: 0.015553228557109833. Test_MSE: 0.04041817784309387\n",
      "Epoch: 40 Iteration: 28400. Train_MSE: 0.007492706645280123. Test_MSE: 0.044674720615148544\n",
      "Epoch: 40 Iteration: 28500. Train_MSE: 0.005575729068368673. Test_MSE: 0.036675985902547836\n",
      "Epoch: 40 Iteration: 28600. Train_MSE: 0.00924913864582777. Test_MSE: 0.03949471190571785\n",
      "Epoch: 40 Iteration: 28700. Train_MSE: 0.00035751296672970057. Test_MSE: 0.045045722275972366\n",
      "Epoch: 41 Iteration: 28800. Train_MSE: 0.05506886541843414. Test_MSE: 0.03439470753073692\n",
      "Epoch: 41 Iteration: 28900. Train_MSE: 0.03651043400168419. Test_MSE: 0.037547431886196136\n",
      "Epoch: 41 Iteration: 29000. Train_MSE: 0.012189972214400768. Test_MSE: 0.04009585082530975\n",
      "Epoch: 41 Iteration: 29100. Train_MSE: 0.006595646031200886. Test_MSE: 0.04600134491920471\n",
      "Epoch: 41 Iteration: 29200. Train_MSE: 0.006460658740252256. Test_MSE: 0.03697637841105461\n",
      "Epoch: 41 Iteration: 29300. Train_MSE: 0.006908666342496872. Test_MSE: 0.038743577897548676\n",
      "Epoch: 41 Iteration: 29400. Train_MSE: 0.0005798159400001168. Test_MSE: 0.04455536603927612\n",
      "Epoch: 42 Iteration: 29500. Train_MSE: 0.049739789217710495. Test_MSE: 0.03471461310982704\n",
      "Epoch: 42 Iteration: 29600. Train_MSE: 0.05856630951166153. Test_MSE: 0.037443000823259354\n",
      "Epoch: 42 Iteration: 29700. Train_MSE: 0.003052763408049941. Test_MSE: 0.04021807387471199\n",
      "Epoch: 42 Iteration: 29800. Train_MSE: 0.00580714363604784. Test_MSE: 0.04706677421927452\n",
      "Epoch: 42 Iteration: 29900. Train_MSE: 0.00990532711148262. Test_MSE: 0.03837239369750023\n",
      "Epoch: 42 Iteration: 30000. Train_MSE: 0.011047951877117157. Test_MSE: 0.03844410181045532\n",
      "Epoch: 42 Iteration: 30100. Train_MSE: 0.0009366609738208354. Test_MSE: 0.04396567866206169\n",
      "Epoch: 43 Iteration: 30200. Train_MSE: 0.04720521345734596. Test_MSE: 0.03525284305214882\n",
      "Epoch: 43 Iteration: 30300. Train_MSE: 0.025223100557923317. Test_MSE: 0.037304703146219254\n",
      "Epoch: 43 Iteration: 30400. Train_MSE: 0.01689349114894867. Test_MSE: 0.04017741605639458\n",
      "Epoch: 43 Iteration: 30500. Train_MSE: 0.006282796151936054. Test_MSE: 0.04763174057006836\n",
      "Epoch: 43 Iteration: 30600. Train_MSE: 0.015139774419367313. Test_MSE: 0.04000629112124443\n",
      "Epoch: 43 Iteration: 30700. Train_MSE: 0.015116634778678417. Test_MSE: 0.0394936241209507\n",
      "Epoch: 43 Iteration: 30800. Train_MSE: 0.0008127675973810256. Test_MSE: 0.04424425587058067\n",
      "Epoch: 44 Iteration: 30900. Train_MSE: 0.04627175256609917. Test_MSE: 0.03604234755039215\n",
      "Epoch: 44 Iteration: 31000. Train_MSE: 0.03329435735940933. Test_MSE: 0.03682037070393562\n",
      "Epoch: 44 Iteration: 31100. Train_MSE: 0.028730496764183044. Test_MSE: 0.03969689458608627\n",
      "Epoch: 44 Iteration: 31200. Train_MSE: 0.006435608956962824. Test_MSE: 0.04673827812075615\n",
      "Epoch: 44 Iteration: 31300. Train_MSE: 0.012728624045848846. Test_MSE: 0.04256458580493927\n",
      "Epoch: 44 Iteration: 31400. Train_MSE: 0.005091317929327488. Test_MSE: 0.03942809998989105\n",
      "Epoch: 44 Iteration: 31500. Train_MSE: 0.0010068631963804364. Test_MSE: 0.044572047889232635\n",
      "Epoch: 45 Iteration: 31600. Train_MSE: 0.07412761449813843. Test_MSE: 0.03837589547038078\n",
      "Epoch: 45 Iteration: 31700. Train_MSE: 0.04900944605469704. Test_MSE: 0.03670491650700569\n",
      "Epoch: 45 Iteration: 31800. Train_MSE: 0.01935010403394699. Test_MSE: 0.03966666758060455\n",
      "Epoch: 45 Iteration: 31900. Train_MSE: 0.004609179683029652. Test_MSE: 0.04653358832001686\n",
      "Epoch: 45 Iteration: 32000. Train_MSE: 0.012604761868715286. Test_MSE: 0.04450700804591179\n",
      "Epoch: 45 Iteration: 32100. Train_MSE: 0.004150434397161007. Test_MSE: 0.039774518460035324\n",
      "Epoch: 45 Iteration: 32200. Train_MSE: 0.0018395616207271814. Test_MSE: 0.04546299949288368\n",
      "Epoch: 46 Iteration: 32300. Train_MSE: 0.052092790603637695. Test_MSE: 0.040158942341804504\n",
      "Epoch: 46 Iteration: 32400. Train_MSE: 0.04725104197859764. Test_MSE: 0.03633341193199158\n",
      "Epoch: 46 Iteration: 32500. Train_MSE: 0.0214457456022501. Test_MSE: 0.03889726474881172\n",
      "Epoch: 46 Iteration: 32600. Train_MSE: 0.004156662616878748. Test_MSE: 0.04533155634999275\n",
      "Epoch: 46 Iteration: 32700. Train_MSE: 0.011515307240188122. Test_MSE: 0.04314428195357323\n",
      "Epoch: 46 Iteration: 32800. Train_MSE: 0.0016824278282001615. Test_MSE: 0.03973863646388054\n",
      "Epoch: 46 Iteration: 32900. Train_MSE: 0.0011670198291540146. Test_MSE: 0.04533907026052475\n",
      "Epoch: 47 Iteration: 33000. Train_MSE: 0.12930911779403687. Test_MSE: 0.04141063615679741\n",
      "Epoch: 47 Iteration: 33100. Train_MSE: 0.043627433478832245. Test_MSE: 0.03605691343545914\n",
      "Epoch: 47 Iteration: 33200. Train_MSE: 0.025661740452051163. Test_MSE: 0.03791304677724838\n",
      "Epoch: 47 Iteration: 33300. Train_MSE: 0.0033978072460740805. Test_MSE: 0.04405742883682251\n",
      "Epoch: 47 Iteration: 33400. Train_MSE: 0.010954946279525757. Test_MSE: 0.04100210592150688\n",
      "Epoch: 47 Iteration: 33500. Train_MSE: 0.0007868874818086624. Test_MSE: 0.03961032256484032\n",
      "Epoch: 47 Iteration: 33600. Train_MSE: 0.0016189984744414687. Test_MSE: 0.045323338359594345\n",
      "Epoch: 48 Iteration: 33700. Train_MSE: 0.062303610146045685. Test_MSE: 0.04243791103363037\n",
      "Epoch: 48 Iteration: 33800. Train_MSE: 0.04677904024720192. Test_MSE: 0.036384135484695435\n",
      "Epoch: 48 Iteration: 33900. Train_MSE: 0.037648919969797134. Test_MSE: 0.03725656494498253\n",
      "Epoch: 48 Iteration: 34000. Train_MSE: 0.0040527875535190105. Test_MSE: 0.04300630837678909\n",
      "Epoch: 48 Iteration: 34100. Train_MSE: 0.013919041492044926. Test_MSE: 0.04058258607983589\n",
      "Epoch: 48 Iteration: 34200. Train_MSE: 0.0008491354528814554. Test_MSE: 0.04018031060695648\n",
      "Epoch: 48 Iteration: 34300. Train_MSE: 0.0024931004736572504. Test_MSE: 0.04679161682724953\n",
      "Epoch: 49 Iteration: 34400. Train_MSE: 0.05433690920472145. Test_MSE: 0.04308624938130379\n",
      "Epoch: 49 Iteration: 34500. Train_MSE: 0.0718243420124054. Test_MSE: 0.03704284504055977\n",
      "Epoch: 49 Iteration: 34600. Train_MSE: 0.03706582635641098. Test_MSE: 0.036907047033309937\n",
      "Epoch: 49 Iteration: 34700. Train_MSE: 0.001370353507809341. Test_MSE: 0.04279835522174835\n",
      "Epoch: 49 Iteration: 34800. Train_MSE: 0.015135373920202255. Test_MSE: 0.040144942700862885\n",
      "Epoch: 49 Iteration: 34900. Train_MSE: 0.0007652598433196545. Test_MSE: 0.04023215174674988\n",
      "Epoch: 49 Iteration: 35000. Train_MSE: 0.003599463729187846. Test_MSE: 0.04898012802004814\n",
      "Epoch: 49 Iteration: 35100. Train_MSE: 0.004510162863880396. Test_MSE: 0.04468084126710892\n"
     ]
    }
   ],
   "source": [
    "# Training the model\n",
    "seq_dim = 1\n",
    "\n",
    "n_iter = 0\n",
    "num_samples = len(X_train)\n",
    "test_samples = len(X_test)\n",
    "batch_size = 100\n",
    "num_epochs = 50\n",
    "feat_dim = X_train.shape[1]\n",
    "\n",
    "X_train = X_train.type(torch.FloatTensor)\n",
    "y_train = y_train.type(torch.FloatTensor)\n",
    "X_test = X_test.type(torch.FloatTensor)\n",
    "y_test = y_test.type(torch.FloatTensor)\n",
    "\n",
    "for epoch in range(num_epochs):\n",
    "    for i in range(0, int(num_samples/batch_size -1)):\n",
    "        \n",
    "        \n",
    "        features = Variable(X_train[i*batch_size:(i+1)*batch_size, :]).view(-1, seq_dim, feat_dim)\n",
    "        Kt_value = Variable(y_train[i*batch_size:(i+1)*batch_size])\n",
    "        \n",
    "        #print(\"Kt_value={}\".format(Kt_value))\n",
    "        \n",
    "        optimizer.zero_grad()\n",
    "        \n",
    "        outputs = model(features)\n",
    "        #print(\"outputs ={}\".format(outputs))\n",
    "        \n",
    "        loss = criterion(outputs, Kt_value)\n",
    "\n",
    "        train_loss.append(loss.data)\n",
    "        train_iter.append(n_iter)\n",
    "\n",
    "        #print(\"loss = {}\".format(loss))\n",
    "        loss.backward()\n",
    "        \n",
    "        optimizer.step()\n",
    "        \n",
    "        n_iter += 1  \n",
    "            \n",
    "        if n_iter%100 == 0:\n",
    "            for i in range(0,int(test_samples/batch_size -1)):\n",
    "                features = Variable(X_test[i*batch_size:(i+1)*batch_size, :]).view(-1, seq_dim, feat_dim)\n",
    "                Kt_test = Variable(y_test[i*batch_size:(i+1)*batch_size])\n",
    "                \n",
    "                outputs = model(features)\n",
    "                \n",
    "                mse = np.mean(np.abs(Kt_test.data.numpy() - outputs.data.numpy().squeeze()))\n",
    "                \n",
    "                test_iter.append(n_iter)\n",
    "                test_loss.append(mse)\n",
    "                \n",
    "            print('Epoch: {} Iteration: {}. Train_MSE: {}. Test_MSE: {}'.format(epoch, n_iter, loss.data, mse))"
   ]
  },
  {
   "cell_type": "code",
   "execution_count": null,
   "metadata": {},
   "outputs": [
    {
     "data": {
      "text/plain": [
       "torch.Size([100, 1, 52])"
      ]
     },
     "execution_count": 49,
     "metadata": {},
     "output_type": "execute_result"
    }
   ],
   "source": [
    "features.shape"
   ]
  },
  {
   "cell_type": "code",
   "execution_count": 12,
   "metadata": {},
   "outputs": [
    {
     "data": {
      "text/plain": [
       "[<matplotlib.lines.Line2D at 0x291546170>]"
      ]
     },
     "execution_count": 12,
     "metadata": {},
     "output_type": "execute_result"
    },
    {
     "data": {
      "image/png": "[encoded data removed]",
      "text/plain": [
       "<Figure size 640x480 with 1 Axes>"
      ]
     },
     "metadata": {},
     "output_type": "display_data"
    }
   ],
   "source": [
    "plt.plot(train_loss,'-')"
   ]
  },
  {
   "cell_type": "code",
   "execution_count": 13,
   "metadata": {},
   "outputs": [
    {
     "data": {
      "text/plain": [
       "[<matplotlib.lines.Line2D at 0x29731d210>]"
      ]
     },
     "execution_count": 13,
     "metadata": {},
     "output_type": "execute_result"
    },
    {
     "data": {
      "image/png": "[encoded data removed]",
      "text/plain": [
       "<Figure size 640x480 with 1 Axes>"
      ]
     },
     "metadata": {},
     "output_type": "display_data"
    }
   ],
   "source": [
    "plt.plot(test_loss,'r')"
   ]
  },
  {
   "cell_type": "code",
   "execution_count": 24,
   "metadata": {},
   "outputs": [
    {
     "data": {
      "text/plain": [
       "RNNModel(\n",
       "  (rnn): RNN(52, 15, batch_first=True)\n",
       "  (fc): Linear(in_features=15, out_features=1, bias=True)\n",
       ")"
      ]
     },
     "execution_count": 24,
     "metadata": {},
     "output_type": "execute_result"
    }
   ],
   "source": [
    "model"
   ]
  },
  {
   "cell_type": "code",
   "execution_count": 25,
   "metadata": {},
   "outputs": [
    {
     "ename": "RuntimeError",
     "evalue": "For unbatched 2-D input, hx should also be 2-D but got 3-D tensor",
     "output_type": "error",
     "traceback": [
      "\u001b[0;31m---------------------------------------------------------------------------\u001b[0m",
      "\u001b[0;31mRuntimeError\u001b[0m                              Traceback (most recent call last)",
      "\u001b[1;32m/Users/mathiasraa/Desktop/ntnu/tdt4173-forecasting/notebooks/rnn_clean.ipynb Cell 15\u001b[0m line \u001b[0;36m2\n\u001b[1;32m      <a href='vscode-notebook-cell:/Users/mathiasraa/Desktop/ntnu/tdt4173-forecasting/notebooks/rnn_clean.ipynb#X16sZmlsZQ%3D%3D?line=0'>1</a>\u001b[0m plt\u001b[39m.\u001b[39mplot(y_test)\n\u001b[0;32m----> <a href='vscode-notebook-cell:/Users/mathiasraa/Desktop/ntnu/tdt4173-forecasting/notebooks/rnn_clean.ipynb#X16sZmlsZQ%3D%3D?line=1'>2</a>\u001b[0m plt\u001b[39m.\u001b[39mplot(model(X_test))\n",
      "File \u001b[0;32m~/anaconda3/envs/forecasting/lib/python3.10/site-packages/torch/nn/modules/module.py:1501\u001b[0m, in \u001b[0;36mModule._call_impl\u001b[0;34m(self, *args, **kwargs)\u001b[0m\n\u001b[1;32m   1496\u001b[0m \u001b[39m# If we don't have any hooks, we want to skip the rest of the logic in\u001b[39;00m\n\u001b[1;32m   1497\u001b[0m \u001b[39m# this function, and just call forward.\u001b[39;00m\n\u001b[1;32m   1498\u001b[0m \u001b[39mif\u001b[39;00m \u001b[39mnot\u001b[39;00m (\u001b[39mself\u001b[39m\u001b[39m.\u001b[39m_backward_hooks \u001b[39mor\u001b[39;00m \u001b[39mself\u001b[39m\u001b[39m.\u001b[39m_backward_pre_hooks \u001b[39mor\u001b[39;00m \u001b[39mself\u001b[39m\u001b[39m.\u001b[39m_forward_hooks \u001b[39mor\u001b[39;00m \u001b[39mself\u001b[39m\u001b[39m.\u001b[39m_forward_pre_hooks\n\u001b[1;32m   1499\u001b[0m         \u001b[39mor\u001b[39;00m _global_backward_pre_hooks \u001b[39mor\u001b[39;00m _global_backward_hooks\n\u001b[1;32m   1500\u001b[0m         \u001b[39mor\u001b[39;00m _global_forward_hooks \u001b[39mor\u001b[39;00m _global_forward_pre_hooks):\n\u001b[0;32m-> 1501\u001b[0m     \u001b[39mreturn\u001b[39;00m forward_call(\u001b[39m*\u001b[39;49margs, \u001b[39m*\u001b[39;49m\u001b[39m*\u001b[39;49mkwargs)\n\u001b[1;32m   1502\u001b[0m \u001b[39m# Do not call functions when jit is used\u001b[39;00m\n\u001b[1;32m   1503\u001b[0m full_backward_hooks, non_full_backward_hooks \u001b[39m=\u001b[39m [], []\n",
      "\u001b[1;32m/Users/mathiasraa/Desktop/ntnu/tdt4173-forecasting/notebooks/rnn_clean.ipynb Cell 15\u001b[0m line \u001b[0;36m2\n\u001b[1;32m     <a href='vscode-notebook-cell:/Users/mathiasraa/Desktop/ntnu/tdt4173-forecasting/notebooks/rnn_clean.ipynb#X16sZmlsZQ%3D%3D?line=18'>19</a>\u001b[0m h0 \u001b[39m=\u001b[39m Variable(torch\u001b[39m.\u001b[39mzeros(\u001b[39mself\u001b[39m\u001b[39m.\u001b[39mlayer_dim, x\u001b[39m.\u001b[39msize(\u001b[39m0\u001b[39m), \u001b[39mself\u001b[39m\u001b[39m.\u001b[39mhidden_dim))\n\u001b[1;32m     <a href='vscode-notebook-cell:/Users/mathiasraa/Desktop/ntnu/tdt4173-forecasting/notebooks/rnn_clean.ipynb#X16sZmlsZQ%3D%3D?line=20'>21</a>\u001b[0m \u001b[39m#One time step (the last one perhaps?)\u001b[39;00m\n\u001b[0;32m---> <a href='vscode-notebook-cell:/Users/mathiasraa/Desktop/ntnu/tdt4173-forecasting/notebooks/rnn_clean.ipynb#X16sZmlsZQ%3D%3D?line=21'>22</a>\u001b[0m out, hn \u001b[39m=\u001b[39m \u001b[39mself\u001b[39;49m\u001b[39m.\u001b[39;49mrnn(x, h0)\n\u001b[1;32m     <a href='vscode-notebook-cell:/Users/mathiasraa/Desktop/ntnu/tdt4173-forecasting/notebooks/rnn_clean.ipynb#X16sZmlsZQ%3D%3D?line=23'>24</a>\u001b[0m \u001b[39m# Indexing hidden state of the last time step\u001b[39;00m\n\u001b[1;32m     <a href='vscode-notebook-cell:/Users/mathiasraa/Desktop/ntnu/tdt4173-forecasting/notebooks/rnn_clean.ipynb#X16sZmlsZQ%3D%3D?line=24'>25</a>\u001b[0m \u001b[39m# out.size() --> ??\u001b[39;00m\n\u001b[1;32m     <a href='vscode-notebook-cell:/Users/mathiasraa/Desktop/ntnu/tdt4173-forecasting/notebooks/rnn_clean.ipynb#X16sZmlsZQ%3D%3D?line=25'>26</a>\u001b[0m \u001b[39m#out[:,-1,:] --> is it going to be 100,100\u001b[39;00m\n\u001b[1;32m     <a href='vscode-notebook-cell:/Users/mathiasraa/Desktop/ntnu/tdt4173-forecasting/notebooks/rnn_clean.ipynb#X16sZmlsZQ%3D%3D?line=26'>27</a>\u001b[0m out \u001b[39m=\u001b[39m \u001b[39mself\u001b[39m\u001b[39m.\u001b[39mfc(out[:,\u001b[39m-\u001b[39m\u001b[39m1\u001b[39m,:])\n",
      "File \u001b[0;32m~/anaconda3/envs/forecasting/lib/python3.10/site-packages/torch/nn/modules/module.py:1501\u001b[0m, in \u001b[0;36mModule._call_impl\u001b[0;34m(self, *args, **kwargs)\u001b[0m\n\u001b[1;32m   1496\u001b[0m \u001b[39m# If we don't have any hooks, we want to skip the rest of the logic in\u001b[39;00m\n\u001b[1;32m   1497\u001b[0m \u001b[39m# this function, and just call forward.\u001b[39;00m\n\u001b[1;32m   1498\u001b[0m \u001b[39mif\u001b[39;00m \u001b[39mnot\u001b[39;00m (\u001b[39mself\u001b[39m\u001b[39m.\u001b[39m_backward_hooks \u001b[39mor\u001b[39;00m \u001b[39mself\u001b[39m\u001b[39m.\u001b[39m_backward_pre_hooks \u001b[39mor\u001b[39;00m \u001b[39mself\u001b[39m\u001b[39m.\u001b[39m_forward_hooks \u001b[39mor\u001b[39;00m \u001b[39mself\u001b[39m\u001b[39m.\u001b[39m_forward_pre_hooks\n\u001b[1;32m   1499\u001b[0m         \u001b[39mor\u001b[39;00m _global_backward_pre_hooks \u001b[39mor\u001b[39;00m _global_backward_hooks\n\u001b[1;32m   1500\u001b[0m         \u001b[39mor\u001b[39;00m _global_forward_hooks \u001b[39mor\u001b[39;00m _global_forward_pre_hooks):\n\u001b[0;32m-> 1501\u001b[0m     \u001b[39mreturn\u001b[39;00m forward_call(\u001b[39m*\u001b[39;49margs, \u001b[39m*\u001b[39;49m\u001b[39m*\u001b[39;49mkwargs)\n\u001b[1;32m   1502\u001b[0m \u001b[39m# Do not call functions when jit is used\u001b[39;00m\n\u001b[1;32m   1503\u001b[0m full_backward_hooks, non_full_backward_hooks \u001b[39m=\u001b[39m [], []\n",
      "File \u001b[0;32m~/anaconda3/envs/forecasting/lib/python3.10/site-packages/torch/nn/modules/rnn.py:483\u001b[0m, in \u001b[0;36mRNN.forward\u001b[0;34m(self, input, hx)\u001b[0m\n\u001b[1;32m    481\u001b[0m     \u001b[39mif\u001b[39;00m hx \u001b[39mis\u001b[39;00m \u001b[39mnot\u001b[39;00m \u001b[39mNone\u001b[39;00m:\n\u001b[1;32m    482\u001b[0m         \u001b[39mif\u001b[39;00m hx\u001b[39m.\u001b[39mdim() \u001b[39m!=\u001b[39m \u001b[39m2\u001b[39m:\n\u001b[0;32m--> 483\u001b[0m             \u001b[39mraise\u001b[39;00m \u001b[39mRuntimeError\u001b[39;00m(\n\u001b[1;32m    484\u001b[0m                 \u001b[39mf\u001b[39m\u001b[39m\"\u001b[39m\u001b[39mFor unbatched 2-D input, hx should also be 2-D but got \u001b[39m\u001b[39m{\u001b[39;00mhx\u001b[39m.\u001b[39mdim()\u001b[39m}\u001b[39;00m\u001b[39m-D tensor\u001b[39m\u001b[39m\"\u001b[39m)\n\u001b[1;32m    485\u001b[0m         hx \u001b[39m=\u001b[39m hx\u001b[39m.\u001b[39munsqueeze(\u001b[39m1\u001b[39m)\n\u001b[1;32m    486\u001b[0m \u001b[39melse\u001b[39;00m:\n",
      "\u001b[0;31mRuntimeError\u001b[0m: For unbatched 2-D input, hx should also be 2-D but got 3-D tensor"
     ]
    },
    {
     "data": {
      "image/png": "[encoded data removed]",
      "text/plain": [
       "<Figure size 640x480 with 1 Axes>"
      ]
     },
     "metadata": {},
     "output_type": "display_data"
    }
   ],
   "source": [
    "plt.plot(y_test)\n",
    "plt.plot(model(X_test))"
   ]
  },
  {
   "cell_type": "code",
   "execution_count": 16,
   "metadata": {},
   "outputs": [
    {
     "ename": "AttributeError",
     "evalue": "'Tensor' object has no attribute 'copy'",
     "output_type": "error",
     "traceback": [
      "\u001b[0;31m---------------------------------------------------------------------------\u001b[0m",
      "\u001b[0;31mAttributeError\u001b[0m                            Traceback (most recent call last)",
      "\u001b[1;32m/Users/mathiasraa/Desktop/ntnu/tdt4173-forecasting/notebooks/rnn_clean.ipynb Cell 15\u001b[0m line \u001b[0;36m1\n\u001b[0;32m----> <a href='vscode-notebook-cell:/Users/mathiasraa/Desktop/ntnu/tdt4173-forecasting/notebooks/rnn_clean.ipynb#X20sZmlsZQ%3D%3D?line=0'>1</a>\u001b[0m \u001b[39minput\u001b[39m \u001b[39m=\u001b[39m X_train\u001b[39m.\u001b[39;49mcopy()\n",
      "\u001b[0;31mAttributeError\u001b[0m: 'Tensor' object has no attribute 'copy'"
     ]
    }
   ],
   "source": [
    "input = X_train.copy()"
   ]
  },
  {
   "cell_type": "code",
   "execution_count": 19,
   "metadata": {},
   "outputs": [
    {
     "ename": "TypeError",
     "evalue": "expected np.ndarray (got Tensor)",
     "output_type": "error",
     "traceback": [
      "\u001b[0;31m---------------------------------------------------------------------------\u001b[0m",
      "\u001b[0;31mTypeError\u001b[0m                                 Traceback (most recent call last)",
      "\u001b[1;32m/Users/mathiasraa/Desktop/ntnu/tdt4173-forecasting/notebooks/rnn_clean.ipynb Cell 16\u001b[0m line \u001b[0;36m4\n\u001b[1;32m      <a href='vscode-notebook-cell:/Users/mathiasraa/Desktop/ntnu/tdt4173-forecasting/notebooks/rnn_clean.ipynb#X21sZmlsZQ%3D%3D?line=0'>1</a>\u001b[0m predictions \u001b[39m=\u001b[39m np\u001b[39m.\u001b[39marray([])\n\u001b[1;32m      <a href='vscode-notebook-cell:/Users/mathiasraa/Desktop/ntnu/tdt4173-forecasting/notebooks/rnn_clean.ipynb#X21sZmlsZQ%3D%3D?line=2'>3</a>\u001b[0m \u001b[39mfor\u001b[39;00m i \u001b[39min\u001b[39;00m \u001b[39mrange\u001b[39m(\u001b[39m0\u001b[39m, \u001b[39mint\u001b[39m(num_samples\u001b[39m/\u001b[39mbatch_size \u001b[39m-\u001b[39m\u001b[39m1\u001b[39m)):\n\u001b[0;32m----> <a href='vscode-notebook-cell:/Users/mathiasraa/Desktop/ntnu/tdt4173-forecasting/notebooks/rnn_clean.ipynb#X21sZmlsZQ%3D%3D?line=3'>4</a>\u001b[0m     features \u001b[39m=\u001b[39m Variable(torch\u001b[39m.\u001b[39;49mfrom_numpy(X_test)\u001b[39m.\u001b[39mtype(torch\u001b[39m.\u001b[39mFloatTensor)[i\u001b[39m*\u001b[39mbatch_size:(i\u001b[39m+\u001b[39m\u001b[39m1\u001b[39m)\u001b[39m*\u001b[39mbatch_size, :])\u001b[39m.\u001b[39mview(\u001b[39m-\u001b[39m\u001b[39m1\u001b[39m, seq_dim, feat_dim)\n\u001b[1;32m      <a href='vscode-notebook-cell:/Users/mathiasraa/Desktop/ntnu/tdt4173-forecasting/notebooks/rnn_clean.ipynb#X21sZmlsZQ%3D%3D?line=5'>6</a>\u001b[0m     predictions \u001b[39m=\u001b[39m np\u001b[39m.\u001b[39mappend(predictions, model(features)\u001b[39m.\u001b[39mdetach()\u001b[39m.\u001b[39mnumpy())\n",
      "\u001b[0;31mTypeError\u001b[0m: expected np.ndarray (got Tensor)"
     ]
    }
   ],
   "source": [
    "predictions = np.array([])\n",
    "\n",
    "for i in range(0, int(num_samples/batch_size -1)):\n",
    "    features = Variable(torch.from_numpy(X_test).type(torch.FloatTensor)[i*batch_size:(i+1)*batch_size, :]).view(-1, seq_dim, feat_dim)\n",
    "\n",
    "    predictions = np.append(predictions, model(features).detach().numpy())"
   ]
  },
  {
   "cell_type": "code",
   "execution_count": 18,
   "metadata": {},
   "outputs": [
    {
     "ename": "ValueError",
     "evalue": "Found array with 0 feature(s) (shape=(1, 0)) while a minimum of 1 is required.",
     "output_type": "error",
     "traceback": [
      "\u001b[0;31m---------------------------------------------------------------------------\u001b[0m",
      "\u001b[0;31mValueError\u001b[0m                                Traceback (most recent call last)",
      "\u001b[1;32m/Users/mathiasraa/Desktop/ntnu/tdt4173-forecasting/notebooks/rnn_clean.ipynb Cell 17\u001b[0m line \u001b[0;36m1\n\u001b[0;32m----> <a href='vscode-notebook-cell:/Users/mathiasraa/Desktop/ntnu/tdt4173-forecasting/notebooks/rnn_clean.ipynb#X22sZmlsZQ%3D%3D?line=0'>1</a>\u001b[0m preds \u001b[39m=\u001b[39m y_train_scaler\u001b[39m.\u001b[39;49minverse_transform(predictions\u001b[39m.\u001b[39;49mreshape(\u001b[39m1\u001b[39;49m, \u001b[39m-\u001b[39;49m\u001b[39m1\u001b[39;49m))\n",
      "File \u001b[0;32m~/anaconda3/envs/forecasting/lib/python3.10/site-packages/sklearn/preprocessing/_data.py:543\u001b[0m, in \u001b[0;36mMinMaxScaler.inverse_transform\u001b[0;34m(self, X)\u001b[0m\n\u001b[1;32m    529\u001b[0m \u001b[39m\u001b[39m\u001b[39m\"\"\"Undo the scaling of X according to feature_range.\u001b[39;00m\n\u001b[1;32m    530\u001b[0m \n\u001b[1;32m    531\u001b[0m \u001b[39mParameters\u001b[39;00m\n\u001b[0;32m   (...)\u001b[0m\n\u001b[1;32m    539\u001b[0m \u001b[39m    Transformed data.\u001b[39;00m\n\u001b[1;32m    540\u001b[0m \u001b[39m\"\"\"\u001b[39;00m\n\u001b[1;32m    541\u001b[0m check_is_fitted(\u001b[39mself\u001b[39m)\n\u001b[0;32m--> 543\u001b[0m X \u001b[39m=\u001b[39m check_array(\n\u001b[1;32m    544\u001b[0m     X, copy\u001b[39m=\u001b[39;49m\u001b[39mself\u001b[39;49m\u001b[39m.\u001b[39;49mcopy, dtype\u001b[39m=\u001b[39;49mFLOAT_DTYPES, force_all_finite\u001b[39m=\u001b[39;49m\u001b[39m\"\u001b[39;49m\u001b[39mallow-nan\u001b[39;49m\u001b[39m\"\u001b[39;49m\n\u001b[1;32m    545\u001b[0m )\n\u001b[1;32m    547\u001b[0m X \u001b[39m-\u001b[39m\u001b[39m=\u001b[39m \u001b[39mself\u001b[39m\u001b[39m.\u001b[39mmin_\n\u001b[1;32m    548\u001b[0m X \u001b[39m/\u001b[39m\u001b[39m=\u001b[39m \u001b[39mself\u001b[39m\u001b[39m.\u001b[39mscale_\n",
      "File \u001b[0;32m~/anaconda3/envs/forecasting/lib/python3.10/site-packages/sklearn/utils/validation.py:978\u001b[0m, in \u001b[0;36mcheck_array\u001b[0;34m(array, accept_sparse, accept_large_sparse, dtype, order, copy, force_all_finite, ensure_2d, allow_nd, ensure_min_samples, ensure_min_features, estimator, input_name)\u001b[0m\n\u001b[1;32m    976\u001b[0m     n_features \u001b[39m=\u001b[39m array\u001b[39m.\u001b[39mshape[\u001b[39m1\u001b[39m]\n\u001b[1;32m    977\u001b[0m     \u001b[39mif\u001b[39;00m n_features \u001b[39m<\u001b[39m ensure_min_features:\n\u001b[0;32m--> 978\u001b[0m         \u001b[39mraise\u001b[39;00m \u001b[39mValueError\u001b[39;00m(\n\u001b[1;32m    979\u001b[0m             \u001b[39m\"\u001b[39m\u001b[39mFound array with \u001b[39m\u001b[39m%d\u001b[39;00m\u001b[39m feature(s) (shape=\u001b[39m\u001b[39m%s\u001b[39;00m\u001b[39m) while\u001b[39m\u001b[39m\"\u001b[39m\n\u001b[1;32m    980\u001b[0m             \u001b[39m\"\u001b[39m\u001b[39m a minimum of \u001b[39m\u001b[39m%d\u001b[39;00m\u001b[39m is required\u001b[39m\u001b[39m%s\u001b[39;00m\u001b[39m.\u001b[39m\u001b[39m\"\u001b[39m\n\u001b[1;32m    981\u001b[0m             \u001b[39m%\u001b[39m (n_features, array\u001b[39m.\u001b[39mshape, ensure_min_features, context)\n\u001b[1;32m    982\u001b[0m         )\n\u001b[1;32m    984\u001b[0m \u001b[39mif\u001b[39;00m copy:\n\u001b[1;32m    985\u001b[0m     \u001b[39mif\u001b[39;00m _is_numpy_namespace(xp):\n\u001b[1;32m    986\u001b[0m         \u001b[39m# only make a copy if `array` and `array_orig` may share memory`\u001b[39;00m\n",
      "\u001b[0;31mValueError\u001b[0m: Found array with 0 feature(s) (shape=(1, 0)) while a minimum of 1 is required."
     ]
    }
   ],
   "source": [
    "preds = y_train_scaler.inverse_transform(predictions.reshape(1, -1))"
   ]
  },
  {
   "cell_type": "code",
   "execution_count": 17,
   "metadata": {},
   "outputs": [
    {
     "ename": "NameError",
     "evalue": "name 'preds' is not defined",
     "output_type": "error",
     "traceback": [
      "\u001b[0;31m---------------------------------------------------------------------------\u001b[0m",
      "\u001b[0;31mNameError\u001b[0m                                 Traceback (most recent call last)",
      "\u001b[1;32m/Users/mathiasraa/Desktop/ntnu/tdt4173-forecasting/notebooks/rnn_clean.ipynb Cell 18\u001b[0m line \u001b[0;36m2\n\u001b[1;32m      <a href='vscode-notebook-cell:/Users/mathiasraa/Desktop/ntnu/tdt4173-forecasting/notebooks/rnn_clean.ipynb#X23sZmlsZQ%3D%3D?line=0'>1</a>\u001b[0m plt\u001b[39m.\u001b[39mplot(y_train_scaler\u001b[39m.\u001b[39minverse_transform(y_test))\n\u001b[0;32m----> <a href='vscode-notebook-cell:/Users/mathiasraa/Desktop/ntnu/tdt4173-forecasting/notebooks/rnn_clean.ipynb#X23sZmlsZQ%3D%3D?line=1'>2</a>\u001b[0m plt\u001b[39m.\u001b[39mplot(\u001b[39mlist\u001b[39m(preds[\u001b[39m0\u001b[39m]))\n",
      "\u001b[0;31mNameError\u001b[0m: name 'preds' is not defined"
     ]
    },
    {
     "data": {
      "image/png": "[encoded data removed]",
      "text/plain": [
       "<Figure size 640x480 with 1 Axes>"
      ]
     },
     "metadata": {},
     "output_type": "display_data"
    }
   ],
   "source": [
    "plt.plot(y_train_scaler.inverse_transform(y_test))\n",
    "plt.plot(list(preds[0]))"
   ]
  },
  {
   "cell_type": "code",
   "execution_count": null,
   "metadata": {},
   "outputs": [
    {
     "data": {
      "text/plain": [
       "(10795, 1)"
      ]
     },
     "execution_count": 88,
     "metadata": {},
     "output_type": "execute_result"
    }
   ],
   "source": [
    "y_test.shape"
   ]
  },
  {
   "cell_type": "code",
   "execution_count": null,
   "metadata": {},
   "outputs": [
    {
     "data": {
      "text/plain": [
       "(10795, 1)"
      ]
     },
     "execution_count": 89,
     "metadata": {},
     "output_type": "execute_result"
    }
   ],
   "source": [
    "preds.T.shape"
   ]
  },
  {
   "cell_type": "code",
   "execution_count": null,
   "metadata": {},
   "outputs": [
    {
     "name": "stdout",
     "output_type": "stream",
     "text": [
      "MAE:  152.992\n"
     ]
    }
   ],
   "source": [
    "print(\n",
    "    \"MAE: \",\n",
    "    round(\n",
    "        mean_absolute_error(\n",
    "            y_true=y_train_scaler.inverse_transform(y_test),\n",
    "            y_pred=preds.T,\n",
    "        ),\n",
    "        3,\n",
    "    ),\n",
    ")"
   ]
  }
 ],
 "metadata": {
  "kernelspec": {
   "display_name": "forecasting",
   "language": "python",
   "name": "python3"
  },
  "language_info": {
   "codemirror_mode": {
    "name": "ipython",
    "version": 3
   },
   "file_extension": ".py",
   "mimetype": "text/x-python",
   "name": "python",
   "nbconvert_exporter": "python",
   "pygments_lexer": "ipython3",
   "version": "3.10.4"
  },
  "orig_nbformat": 4
 },
 "nbformat": 4,
 "nbformat_minor": 2
}
